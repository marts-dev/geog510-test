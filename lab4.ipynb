{
 "cells": [
  {
   "cell_type": "markdown",
   "metadata": {},
   "source": [
    "# Lab 4\n",
    "[![Open In Colab](https://colab.research.google.com/assets/colab-badge.svg)](https://colab.research.google.com/github/marts-dev/geog510-test/blob/main/lab4.ipynb)\n"
   ]
  },
  {
   "cell_type": "markdown",
   "metadata": {},
   "source": [
    "## Exercise 1: Variable Assignment and Basic Operations\n",
    "Create variables to store the following geospatial data:\n",
    "- The latitude and longitude of New York City: 40.7128, -74.0060\n",
    "- The population of New York City: 8,336,817\n",
    "- The area of New York City in square kilometers: 783.8\n",
    "\n",
    "Perform the following tasks:\n",
    "1. Calculate and print the population of New York City(population per square kilometer).\n",
    "2. Print the coordinates in the format \"Latitude: [latitude], Longitude: [longitude]\"."
   ]
  },
  {
   "cell_type": "code",
   "execution_count": 8,
   "metadata": {},
   "outputs": [
    {
     "name": "stdout",
     "output_type": "stream",
     "text": [
      "Population density of New York City is 10636.41 people per square km\n",
      "Latitude: 40.7128, Longitude: -74.006\n"
     ]
    }
   ],
   "source": [
    "latitude = 40.7128\n",
    "longitude = -74.0060\n",
    "population = 8_336_817\n",
    "area = 783.8\n",
    "density = population / area\n",
    "print(f\"Population density of New York City is {density:.2f} people per square km\")\n",
    "print(f\"Latitude: {latitude}, Longitude: {longitude}\")"
   ]
  },
  {
   "cell_type": "markdown",
   "metadata": {},
   "source": [
    "## Exercise 2: Working with Strings\n",
    "Create a string variable to store the name of a city, such as \"San Francisco\". Perform the following operations:\n",
    "1. Convert the string to lowercase and print the result\n",
    "2. Convert the string to uppercase and print the result\n",
    "3. Replace \"San\" with \"Los\" in the city name and print the new string"
   ]
  },
  {
   "cell_type": "code",
   "execution_count": 4,
   "metadata": {},
   "outputs": [
    {
     "name": "stdout",
     "output_type": "stream",
     "text": [
      "san francisco\n",
      "SAN FRANCISCO\n",
      "Los Francisco\n"
     ]
    }
   ],
   "source": [
    "city_name = \"San Francisco\"\n",
    "print(f\"{city_name.lower()}\")\n",
    "print(f\"{city_name.upper()}\")\n",
    "print(f\"{city_name.replace('San', 'Los')}\")"
   ]
  },
  {
   "cell_type": "markdown",
   "metadata": {},
   "source": [
    "## Exercise 3: Using Lists\n",
    "Create a list of tuples, where each tuple contains the name of a city and its corresponding latitude and longitude:\n",
    "\n",
    "- New York City: (40.7128, -74.0060)\n",
    "- Los Angeles: (34.0522, -118.2437)\n",
    "- Chicago: (41.8781, -87.6298)\n",
    "\n",
    "\n",
    "Perform the following tasks:\n",
    "\n",
    "1. Add a new city (e.g., Miami: (25.7617, -80.1918)) to the list.\n",
    "2. Print the entire list of cities.\n",
    "3. Slice the list to print only the first two cities."
   ]
  },
  {
   "cell_type": "code",
   "execution_count": 5,
   "metadata": {},
   "outputs": [
    {
     "name": "stdout",
     "output_type": "stream",
     "text": [
      "[('New York City', (40.7128, -74.006)), ('Los Angeles', (34.0522, -118.2437)), ('Chicago', (41.8781, -87.6298)), ('San Francisco', (37.7749, -122.4194))]\n",
      "[('New York City', (40.7128, -74.006)), ('Los Angeles', (34.0522, -118.2437))]\n"
     ]
    }
   ],
   "source": [
    "cities_list  = [(\"New York City\",(40.7128, -74.0060)), (\"Los Angeles\", (34.0522, -118.2437)), (\"Chicago\", (41.8781, -87.6298))]\n",
    "\n",
    "cities_list.append((\"San Francisco\", (37.7749, -122.4194)))\n",
    "print(cities_list)\n",
    "print(cities_list[:2])"
   ]
  },
  {
   "cell_type": "markdown",
   "metadata": {},
   "source": [
    "## Exercise 4: Using Tuples\n",
    "Create a tuple to store the coordinates (latitude, longitude) of the Eiffel Tower: (48.8584, 2.2945). Perform the following tasks:\n",
    "\n",
    "1. Access and print the latitude and longitude values from the tuple.\n",
    "2. Try to change the latitude value to 48.8585. What happens? Explain why."
   ]
  },
  {
   "cell_type": "code",
   "execution_count": 6,
   "metadata": {},
   "outputs": [
    {
     "name": "stdout",
     "output_type": "stream",
     "text": [
      "Eiffel Tower is located at latitude 48.8584 and longitude 2.2945\n"
     ]
    },
    {
     "ename": "TypeError",
     "evalue": "'tuple' object does not support item assignment",
     "output_type": "error",
     "traceback": [
      "\u001b[1;31m---------------------------------------------------------------------------\u001b[0m",
      "\u001b[1;31mTypeError\u001b[0m                                 Traceback (most recent call last)",
      "Cell \u001b[1;32mIn[6], line 3\u001b[0m\n\u001b[0;32m      1\u001b[0m eiffel_tower \u001b[38;5;241m=\u001b[39m (\u001b[38;5;241m48.8584\u001b[39m, \u001b[38;5;241m2.2945\u001b[39m)\n\u001b[0;32m      2\u001b[0m \u001b[38;5;28mprint\u001b[39m(\u001b[38;5;124mf\u001b[39m\u001b[38;5;124m\"\u001b[39m\u001b[38;5;124mEiffel Tower is located at latitude \u001b[39m\u001b[38;5;132;01m{\u001b[39;00meiffel_tower[\u001b[38;5;241m0\u001b[39m]\u001b[38;5;132;01m}\u001b[39;00m\u001b[38;5;124m and longitude \u001b[39m\u001b[38;5;132;01m{\u001b[39;00meiffel_tower[\u001b[38;5;241m1\u001b[39m]\u001b[38;5;132;01m}\u001b[39;00m\u001b[38;5;124m\"\u001b[39m)\n\u001b[1;32m----> 3\u001b[0m \u001b[43meiffel_tower\u001b[49m\u001b[43m[\u001b[49m\u001b[38;5;241;43m0\u001b[39;49m\u001b[43m]\u001b[49m \u001b[38;5;241m=\u001b[39m \u001b[38;5;241m48.8585\u001b[39m\n",
      "\u001b[1;31mTypeError\u001b[0m: 'tuple' object does not support item assignment"
     ]
    }
   ],
   "source": [
    "eiffel_tower = (48.8584, 2.2945)\n",
    "print(f\"Eiffel Tower is located at latitude {eiffel_tower[0]} and longitude {eiffel_tower[1]}\")\n",
    "eiffel_tower[0] = 48.8585"
   ]
  },
  {
   "cell_type": "markdown",
   "metadata": {},
   "source": [
    "The assignment throws an error because tuples are immutable in Python."
   ]
  },
  {
   "cell_type": "markdown",
   "metadata": {},
   "source": [
    "## Exercise 5: Working with Sets\n",
    "Create a set of countries you have visited, such as {“USA”, “France”, “Germany”}. Perform the following tasks:\n",
    "\n",
    "1. Add a new country to the set.\n",
    "2. Try to add the same country again. What happens?\n",
    "3. Print the updated set."
   ]
  },
  {
   "cell_type": "code",
   "execution_count": 7,
   "metadata": {},
   "outputs": [
    {
     "name": "stdout",
     "output_type": "stream",
     "text": [
      "{'Germany', 'France', 'USA', 'Japan'}\n"
     ]
    }
   ],
   "source": [
    "visited_countries = {\"USA\", \"France\", \"Germany\"}\n",
    "# Task 1\n",
    "visited_countries.add(\"Japan\")\n",
    "# Task 2: A dupplicate will not be added to the set\n",
    "visited_countries.add(\"Japan\")\n",
    "# Task 3\n",
    "print(visited_countries)"
   ]
  },
  {
   "cell_type": "markdown",
   "metadata": {},
   "source": [
    "## Exercise 6: Working with Dictionaries\n",
    "Create a dictionary to store information about a specific geospatial feature, such as a river:\n",
    "\n",
    "- Name: “Amazon River”\n",
    "- Length: 6400 km\n",
    "- Countries: [“Brazil”, “Peru”, “Colombia”]\n",
    "\n",
    "\n",
    "Perform the following tasks:\n",
    "\n",
    "1. Add a new key-value pair to the dictionary to store the river’s average discharge (e.g., 209,000 m³/s).\n",
    "2. Update the length of the river to 6992 km.\n",
    "3. Print the dictionary."
   ]
  },
  {
   "cell_type": "code",
   "execution_count": 9,
   "metadata": {},
   "outputs": [
    {
     "name": "stdout",
     "output_type": "stream",
     "text": [
      "Original dictionary: {'Name': 'Amazon River', 'Length': 6400, 'Countries': ['Brazil', 'Peru', 'Colombia']}\n",
      "Updated dictionary: {'Name': 'Amazon River', 'Length': 6992, 'Countries': ['Brazil', 'Peru', 'Colombia'], 'Average Discharge': 209000}\n"
     ]
    }
   ],
   "source": [
    "geo_features = {\"Name\": \"Amazon River\", \"Length\": 6400, \"Countries\": [\"Brazil\", \"Peru\", \"Colombia\"]}\n",
    "print(f\"Original dictionary: {geo_features}\")\n",
    "# Task 1\n",
    "geo_features[\"Average Discharge\"] = 209_000\n",
    "# Task 2\n",
    "geo_features[\"Length\"] = 6992\n",
    "# Task 3\n",
    "print(f\"Updated dictionary: {geo_features}\")"
   ]
  },
  {
   "cell_type": "markdown",
   "metadata": {},
   "source": [
    "## Exercise 7: Nested Data Structures\n",
    "Create a dictionary to represent a city that contains the city’s name, population, and coordinates (latitude, longitude):\n",
    "\n",
    "- Name: “Tokyo”\n",
    "- Population: 13,515,271\n",
    "- Coordinates: (35.6895, 139.6917)\n",
    "\n",
    "\n",
    "Perform the following tasks:\n",
    "\n",
    "1. Access and print the population of the city.\n",
    "2. Access and print the city’s latitude.\n",
    "3. Update the population to 14,000,000 and print the updated dictionary."
   ]
  },
  {
   "cell_type": "code",
   "execution_count": 11,
   "metadata": {},
   "outputs": [
    {
     "name": "stdout",
     "output_type": "stream",
     "text": [
      "Population: 13515271\n",
      "Latitude: 35.6895\n",
      "Updated dictionary: {'Name': 'Tokyo', 'Population': 14000000, 'Coordinates': (35.6895, 139.6917)}\n"
     ]
    }
   ],
   "source": [
    "city_dict = {\"Name\": \"Tokyo\", \"Population\": 13_515_271, \"Coordinates\": (35.6895, 139.6917)}\n",
    "# Task 1\n",
    "print(f\"Population: {city_dict['Population']}\")\n",
    "# Task 2\n",
    "print(f\"Latitude: {city_dict['Coordinates'][0]}\")\n",
    "# Task 3\n",
    "city_dict[\"Population\"] = 14_000_000\n",
    "print(f\"Updated dictionary: {city_dict}\")"
   ]
  },
  {
   "cell_type": "markdown",
   "metadata": {},
   "source": [
    "## Exercise 8: List Operations\n",
    "Given the list of cities from Exercise 3, perform the following operations:\n",
    "\n",
    "1. Sort the list of cities alphabetically by name.\n",
    "2. Create a new list that contains only the city names.\n",
    "3. Remove the last city from the original list and print the updated list."
   ]
  },
  {
   "cell_type": "code",
   "execution_count": 12,
   "metadata": {},
   "outputs": [
    {
     "name": "stdout",
     "output_type": "stream",
     "text": [
      "[('Chicago', (41.8781, -87.6298)), ('Los Angeles', (34.0522, -118.2437)), ('New York City', (40.7128, -74.006)), ('San Francisco', (37.7749, -122.4194))]\n",
      "['Chicago', 'Los Angeles', 'New York City', 'San Francisco']\n",
      "[('Chicago', (41.8781, -87.6298)), ('Los Angeles', (34.0522, -118.2437)), ('New York City', (40.7128, -74.006))]\n"
     ]
    }
   ],
   "source": [
    "# Task 1\n",
    "cities_list.sort(key=lambda x: x[0])\n",
    "print(cities_list)\n",
    "# Task 2\n",
    "new_list = [city[0] for city in cities_list]\n",
    "print(new_list)\n",
    "# Task 3\n",
    "cities_list.pop(-1)\n",
    "print(cities_list)"
   ]
  },
  {
   "cell_type": "markdown",
   "metadata": {},
   "source": [
    "## Exercise 9: Dictionary Operations\n",
    "Using the dictionary from Exercise 6, perform the following tasks:\n",
    "\n",
    "1. Check if the key “Length” exists in the dictionary.\n",
    "2. Print all the keys in the dictionary.\n",
    "3. Print all the values in the dictionary."
   ]
  },
  {
   "cell_type": "code",
   "execution_count": 13,
   "metadata": {},
   "outputs": [
    {
     "name": "stdout",
     "output_type": "stream",
     "text": [
      "True\n",
      "dict_keys(['Name', 'Length', 'Countries', 'Average Discharge'])\n",
      "dict_values(['Amazon River', 6992, ['Brazil', 'Peru', 'Colombia'], 209000])\n"
     ]
    }
   ],
   "source": [
    "# Task 1\n",
    "print(\"Length\" in geo_features)\n",
    "# Task 2\n",
    "print(geo_features.keys())\n",
    "# Task 3\n",
    "print(geo_features.values())"
   ]
  },
  {
   "cell_type": "markdown",
   "metadata": {},
   "source": [
    "## Exercise 10: Practical Application\n",
    "Imagine you have a list of tuples, each representing a location with its name, latitude, and longitude:\n",
    "\n",
    "```python\n",
    "locations = [\n",
    "    (\"Mount Everest\", 27.9881, 86.9250),\n",
    "    (\"K2\", 35.8808, 76.5155),\n",
    "    (\"Kangchenjunga\", 27.7025, 88.1475),\n",
    "]\n",
    "```\n",
    "Perform the following tasks:\n",
    "\n",
    "1. Create a new list that contains only the names of the locations.\n",
    "2. Create a dictionary where the keys are location names and the values are tuples of their coordinates.\n",
    "3. Print the latitude of “K2” using the dictionary."
   ]
  },
  {
   "cell_type": "code",
   "execution_count": 14,
   "metadata": {},
   "outputs": [
    {
     "name": "stdout",
     "output_type": "stream",
     "text": [
      "['Mount Everest', 'K2', 'Kangchenjunga']\n",
      "{'Mount Everest': (27.9881, 86.925), 'K2': (35.8808, 76.5155), 'Kangchenjunga': (27.7025, 88.1475)}\n",
      "Latitude of K2: 35.8808\n"
     ]
    }
   ],
   "source": [
    "locations = [\n",
    "    (\"Mount Everest\", 27.9881, 86.9250),\n",
    "    (\"K2\", 35.8808, 76.5155),\n",
    "    (\"Kangchenjunga\", 27.7025, 88.1475),\n",
    "]\n",
    "# Task 1\n",
    "location_names = [location[0] for location in locations]\n",
    "print(location_names)\n",
    "# Task 2\n",
    "location_dict = {location[0]: (location[1], location[2]) for location in locations}\n",
    "print(location_dict)\n",
    "# Task 3\n",
    "print(f\"Latitude of K2: {location_dict['K2'][0]}\")"
   ]
  },
  {
   "cell_type": "code",
   "execution_count": null,
   "metadata": {},
   "outputs": [],
   "source": []
  }
 ],
 "metadata": {
  "kernelspec": {
   "display_name": "OpenGeo",
   "language": "python",
   "name": "python3"
  },
  "language_info": {
   "codemirror_mode": {
    "name": "ipython",
    "version": 3
   },
   "file_extension": ".py",
   "mimetype": "text/x-python",
   "name": "python",
   "nbconvert_exporter": "python",
   "pygments_lexer": "ipython3",
   "version": "3.11.10"
  }
 },
 "nbformat": 4,
 "nbformat_minor": 2
}
