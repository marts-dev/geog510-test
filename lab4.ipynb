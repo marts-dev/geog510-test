{
 "cells": [
  {
   "cell_type": "markdown",
   "metadata": {},
   "source": [
    "# Lab 4\n",
    "[![Open In Colab](https://colab.research.google.com/assets/colab-badge.svg)](https://colab.research.google.com/github/marts-dev/geog510-test/blob/main/lab4.ipynb)\n"
   ]
  },
  {
   "cell_type": "markdown",
   "metadata": {},
   "source": [
    "## Exercise 1: Variable Assignment and Basic Operations\n",
    "Create variables to store the following geospatial data:\n",
    "- The latitude and longitude of New York City: 40.7128, -74.0060\n",
    "- The population of New York City: 8,336,817\n",
    "- The area of New York City in square kilometers: 783.8\n",
    "\n",
    "Perform the following tasks:\n",
    "1. Calculate and print the population of New York City(population per square kilometer).\n",
    "2. Print the coordinates in the format \"Latitude: [latitude], Longitude: [longitude]\"."
   ]
  },
  {
   "cell_type": "code",
   "execution_count": 8,
   "metadata": {},
   "outputs": [
    {
     "name": "stdout",
     "output_type": "stream",
     "text": [
      "Population density of New York City is 10636.41 people per square km\n",
      "Latitude: 40.7128, Longitude: -74.006\n"
     ]
    }
   ],
   "source": [
    "latitude = 40.7128\n",
    "longitude = -74.0060\n",
    "population = 8_336_817\n",
    "area = 783.8\n",
    "density = population / area\n",
    "print(f\"Population density of New York City is {density:.2f} people per square km\")\n",
    "print(f\"Latitude: {latitude}, Longitude: {longitude}\")"
   ]
  },
  {
   "cell_type": "markdown",
   "metadata": {},
   "source": [
    "## Exercise 2: Working with Strings\n",
    "Create a string variable to store the name of a city, such as \"San Francisco\". Perform the following operations:\n",
    "1. Convert the string to lowercase and print the result\n",
    "2. Convert the string to uppercase and print the result\n",
    "3. Replace \"San\" with \"Los\" in the city name and print the new string"
   ]
  },
  {
   "cell_type": "code",
   "execution_count": 4,
   "metadata": {},
   "outputs": [
    {
     "name": "stdout",
     "output_type": "stream",
     "text": [
      "san francisco\n",
      "SAN FRANCISCO\n",
      "Los Francisco\n"
     ]
    }
   ],
   "source": [
    "city_name = \"San Francisco\"\n",
    "print(f\"{city_name.lower()}\")\n",
    "print(f\"{city_name.upper()}\")\n",
    "print(f\"{city_name.replace('San', 'Los')}\")"
   ]
  },
  {
   "cell_type": "markdown",
   "metadata": {},
   "source": [
    "## Exercise 3: Using Lists\n",
    "Create a list of tuples, where each tuple contains the name of a city and its corresponding latitude and longitude:\n",
    "\n",
    "- New York City: (40.7128, -74.0060)\n",
    "- Los Angeles: (34.0522, -118.2437)\n",
    "- Chicago: (41.8781, -87.6298)\n",
    "\n",
    "\n",
    "Perform the following tasks:\n",
    "\n",
    "1. Add a new city (e.g., Miami: (25.7617, -80.1918)) to the list.\n",
    "2. Print the entire list of cities.\n",
    "3. Slice the list to print only the first two cities."
   ]
  },
  {
   "cell_type": "code",
   "execution_count": 5,
   "metadata": {},
   "outputs": [
    {
     "name": "stdout",
     "output_type": "stream",
     "text": [
      "[('New York City', (40.7128, -74.006)), ('Los Angeles', (34.0522, -118.2437)), ('Chicago', (41.8781, -87.6298)), ('San Francisco', (37.7749, -122.4194))]\n",
      "[('New York City', (40.7128, -74.006)), ('Los Angeles', (34.0522, -118.2437))]\n"
     ]
    }
   ],
   "source": [
    "cities_list  = [(\"New York City\",(40.7128, -74.0060)), (\"Los Angeles\", (34.0522, -118.2437)), (\"Chicago\", (41.8781, -87.6298))]\n",
    "\n",
    "cities_list.append((\"San Francisco\", (37.7749, -122.4194)))\n",
    "print(cities_list)\n",
    "print(cities_list[:2])"
   ]
  },
  {
   "cell_type": "markdown",
   "metadata": {},
   "source": [
    "## Exercise 4: Using Tuples\n",
    "Create a tuple to store the coordinates (latitude, longitude) of the Eiffel Tower: (48.8584, 2.2945). Perform the following tasks:\n",
    "\n",
    "1. Access and print the latitude and longitude values from the tuple.\n",
    "2. Try to change the latitude value to 48.8585. What happens? Explain why."
   ]
  },
  {
   "cell_type": "code",
   "execution_count": 6,
   "metadata": {},
   "outputs": [
    {
     "name": "stdout",
     "output_type": "stream",
     "text": [
      "Eiffel Tower is located at latitude 48.8584 and longitude 2.2945\n"
     ]
    },
    {
     "ename": "TypeError",
     "evalue": "'tuple' object does not support item assignment",
     "output_type": "error",
     "traceback": [
      "\u001b[1;31m---------------------------------------------------------------------------\u001b[0m",
      "\u001b[1;31mTypeError\u001b[0m                                 Traceback (most recent call last)",
      "Cell \u001b[1;32mIn[6], line 3\u001b[0m\n\u001b[0;32m      1\u001b[0m eiffel_tower \u001b[38;5;241m=\u001b[39m (\u001b[38;5;241m48.8584\u001b[39m, \u001b[38;5;241m2.2945\u001b[39m)\n\u001b[0;32m      2\u001b[0m \u001b[38;5;28mprint\u001b[39m(\u001b[38;5;124mf\u001b[39m\u001b[38;5;124m\"\u001b[39m\u001b[38;5;124mEiffel Tower is located at latitude \u001b[39m\u001b[38;5;132;01m{\u001b[39;00meiffel_tower[\u001b[38;5;241m0\u001b[39m]\u001b[38;5;132;01m}\u001b[39;00m\u001b[38;5;124m and longitude \u001b[39m\u001b[38;5;132;01m{\u001b[39;00meiffel_tower[\u001b[38;5;241m1\u001b[39m]\u001b[38;5;132;01m}\u001b[39;00m\u001b[38;5;124m\"\u001b[39m)\n\u001b[1;32m----> 3\u001b[0m \u001b[43meiffel_tower\u001b[49m\u001b[43m[\u001b[49m\u001b[38;5;241;43m0\u001b[39;49m\u001b[43m]\u001b[49m \u001b[38;5;241m=\u001b[39m \u001b[38;5;241m48.8585\u001b[39m\n",
      "\u001b[1;31mTypeError\u001b[0m: 'tuple' object does not support item assignment"
     ]
    }
   ],
   "source": [
    "eiffel_tower = (48.8584, 2.2945)\n",
    "print(f\"Eiffel Tower is located at latitude {eiffel_tower[0]} and longitude {eiffel_tower[1]}\")\n",
    "eiffel_tower[0] = 48.8585"
   ]
  },
  {
   "cell_type": "markdown",
   "metadata": {},
   "source": [
    "The assignment throws an error because tuples are immutable in Python."
   ]
  },
  {
   "cell_type": "markdown",
   "metadata": {},
   "source": [
    "## Exercise 5: Working with Sets\n",
    "Create a set of countries you have visited, such as {“USA”, “France”, “Germany”}. Perform the following tasks:\n",
    "\n",
    "1. Add a new country to the set.\n",
    "2. Try to add the same country again. What happens?\n",
    "3. Print the updated set."
   ]
  },
  {
   "cell_type": "code",
   "execution_count": 7,
   "metadata": {},
   "outputs": [
    {
     "name": "stdout",
     "output_type": "stream",
     "text": [
      "{'Germany', 'France', 'USA', 'Japan'}\n"
     ]
    }
   ],
   "source": [
    "visited_countries = {\"USA\", \"France\", \"Germany\"}\n",
    "# Task 1\n",
    "visited_countries.add(\"Japan\")\n",
    "# Task 2: A dupplicate will not be added to the set\n",
    "visited_countries.add(\"Japan\")\n",
    "# Task 3\n",
    "print(visited_countries)"
   ]
  },
  {
   "cell_type": "markdown",
   "metadata": {},
   "source": [
    "## Exercise 6: Working with Dictionaries\n",
    "Create a dictionary to store information about a specific geospatial feature, such as a river:\n",
    "\n",
    "- Name: “Amazon River”\n",
    "- Length: 6400 km\n",
    "- Countries: [“Brazil”, “Peru”, “Colombia”]\n",
    "\n",
    "\n",
    "Perform the following tasks:\n",
    "\n",
    "1. Add a new key-value pair to the dictionary to store the river’s average discharge (e.g., 209,000 m³/s).\n",
    "2. Update the length of the river to 6992 km.\n",
    "3. Print the dictionary."
   ]
  },
  {
   "cell_type": "code",
   "execution_count": 9,
   "metadata": {},
   "outputs": [
    {
     "name": "stdout",
     "output_type": "stream",
     "text": [
      "Original dictionary: {'Name': 'Amazon River', 'Length': 6400, 'Countries': ['Brazil', 'Peru', 'Colombia']}\n",
      "Updated dictionary: {'Name': 'Amazon River', 'Length': 6992, 'Countries': ['Brazil', 'Peru', 'Colombia'], 'Average Discharge': 209000}\n"
     ]
    }
   ],
   "source": [
    "geo_features = {\"Name\": \"Amazon River\", \"Length\": 6400, \"Countries\": [\"Brazil\", \"Peru\", \"Colombia\"]}\n",
    "print(f\"Original dictionary: {geo_features}\")\n",
    "# Task 1\n",
    "geo_features[\"Average Discharge\"] = 209_000\n",
    "# Task 2\n",
    "geo_features[\"Length\"] = 6992\n",
    "# Task 3\n",
    "print(f\"Updated dictionary: {geo_features}\")"
   ]
  },
  {
   "cell_type": "markdown",
   "metadata": {},
   "source": [
    "## Exercise 7: Nested Data Structures\n",
    "Create a dictionary to represent a city that contains the city’s name, population, and coordinates (latitude, longitude):\n",
    "\n",
    "- Name: “Tokyo”\n",
    "- Population: 13,515,271\n",
    "- Coordinates: (35.6895, 139.6917)\n",
    "\n",
    "\n",
    "Perform the following tasks:\n",
    "\n",
    "1. Access and print the population of the city.\n",
    "2. Access and print the city’s latitude.\n",
    "3. Update the population to 14,000,000 and print the updated dictionary."
   ]
  },
  {
   "cell_type": "code",
   "execution_count": 11,
   "metadata": {},
   "outputs": [
    {
     "name": "stdout",
     "output_type": "stream",
     "text": [
      "Population: 13515271\n",
      "Latitude: 35.6895\n",
      "Updated dictionary: {'Name': 'Tokyo', 'Population': 14000000, 'Coordinates': (35.6895, 139.6917)}\n"
     ]
    }
   ],
   "source": [
    "city_dict = {\"Name\": \"Tokyo\", \"Population\": 13_515_271, \"Coordinates\": (35.6895, 139.6917)}\n",
    "# Task 1\n",
    "print(f\"Population: {city_dict['Population']}\")\n",
    "# Task 2\n",
    "print(f\"Latitude: {city_dict['Coordinates'][0]}\")\n",
    "# Task 3\n",
    "city_dict[\"Population\"] = 14_000_000\n",
    "print(f\"Updated dictionary: {city_dict}\")"
   ]
  },
  {
   "cell_type": "markdown",
   "metadata": {},
   "source": [
    "## Exercise 8: List Operations\n",
    "Given the list of cities from Exercise 3, perform the following operations:\n",
    "\n",
    "1. Sort the list of cities alphabetically by name.\n",
    "2. Create a new list that contains only the city names.\n",
    "3. Remove the last city from the original list and print the updated list."
   ]
  },
  {
   "cell_type": "code",
   "execution_count": 12,
   "metadata": {},
   "outputs": [
    {
     "name": "stdout",
     "output_type": "stream",
     "text": [
      "[('Chicago', (41.8781, -87.6298)), ('Los Angeles', (34.0522, -118.2437)), ('New York City', (40.7128, -74.006)), ('San Francisco', (37.7749, -122.4194))]\n",
      "['Chicago', 'Los Angeles', 'New York City', 'San Francisco']\n",
      "[('Chicago', (41.8781, -87.6298)), ('Los Angeles', (34.0522, -118.2437)), ('New York City', (40.7128, -74.006))]\n"
     ]
    }
   ],
   "source": [
    "# Task 1\n",
    "cities_list.sort(key=lambda x: x[0])\n",
    "print(cities_list)\n",
    "# Task 2\n",
    "new_list = [city[0] for city in cities_list]\n",
    "print(new_list)\n",
    "# Task 3\n",
    "cities_list.pop(-1)\n",
    "print(cities_list)"
   ]
  },
  {
   "cell_type": "markdown",
   "metadata": {},
   "source": [
    "## Exercise 9: Dictionary Operations\n",
    "Using the dictionary from Exercise 6, perform the following tasks:\n",
    "\n",
    "1. Check if the key “Length” exists in the dictionary.\n",
    "2. Print all the keys in the dictionary.\n",
    "3. Print all the values in the dictionary."
   ]
  },
  {
   "cell_type": "code",
   "execution_count": 13,
   "metadata": {},
   "outputs": [
    {
     "name": "stdout",
     "output_type": "stream",
     "text": [
      "True\n",
      "dict_keys(['Name', 'Length', 'Countries', 'Average Discharge'])\n",
      "dict_values(['Amazon River', 6992, ['Brazil', 'Peru', 'Colombia'], 209000])\n"
     ]
    }
   ],
   "source": [
    "# Task 1\n",
    "print(\"Length\" in geo_features)\n",
    "# Task 2\n",
    "print(geo_features.keys())\n",
    "# Task 3\n",
    "print(geo_features.values())"
   ]
  },
  {
   "cell_type": "markdown",
   "metadata": {},
   "source": [
    "## Exercise 10: Practical Application\n",
    "Imagine you have a list of tuples, each representing a location with its name, latitude, and longitude:\n",
    "\n",
    "```python\n",
    "locations = [\n",
    "    (\"Mount Everest\", 27.9881, 86.9250),\n",
    "    (\"K2\", 35.8808, 76.5155),\n",
    "    (\"Kangchenjunga\", 27.7025, 88.1475),\n",
    "]\n",
    "```\n",
    "Perform the following tasks:\n",
    "\n",
    "1. Create a new list that contains only the names of the locations.\n",
    "2. Create a dictionary where the keys are location names and the values are tuples of their coordinates.\n",
    "3. Print the latitude of “K2” using the dictionary."
   ]
  },
  {
   "cell_type": "code",
   "execution_count": 14,
   "metadata": {},
   "outputs": [
    {
     "name": "stdout",
     "output_type": "stream",
     "text": [
      "['Mount Everest', 'K2', 'Kangchenjunga']\n",
      "{'Mount Everest': (27.9881, 86.925), 'K2': (35.8808, 76.5155), 'Kangchenjunga': (27.7025, 88.1475)}\n",
      "Latitude of K2: 35.8808\n"
     ]
    }
   ],
   "source": [
    "locations = [\n",
    "    (\"Mount Everest\", 27.9881, 86.9250),\n",
    "    (\"K2\", 35.8808, 76.5155),\n",
    "    (\"Kangchenjunga\", 27.7025, 88.1475),\n",
    "]\n",
    "# Task 1\n",
    "location_names = [location[0] for location in locations]\n",
    "print(location_names)\n",
    "# Task 2\n",
    "location_dict = {location[0]: (location[1], location[2]) for location in locations}\n",
    "print(location_dict)\n",
    "# Task 3\n",
    "print(f\"Latitude of K2: {location_dict['K2'][0]}\")"
   ]
  },
  {
   "cell_type": "markdown",
   "metadata": {},
   "source": [
    "## Exercise 11: Manipulating Geographic Location Strings\n",
    "\n",
    "- Create a string that represents the name of a geographic feature (e.g., `\"Amazon River\"`).\n",
    "- Convert the string to lowercase and then to uppercase.\n",
    "- Concatenate the string with the name of the country (e.g., `\"Brazil\"`) to create a full location name.\n",
    "- Repeat the string three times, separating each repetition with a dash (`-`)."
   ]
  },
  {
   "cell_type": "code",
   "execution_count": 2,
   "metadata": {},
   "outputs": [
    {
     "name": "stdout",
     "output_type": "stream",
     "text": [
      "amazon river\n",
      "AMAZON RIVER\n",
      "Amazon River, Brazil-Amazon River, Brazil-Amazon River, Brazil"
     ]
    }
   ],
   "source": [
    "# Task 1\n",
    "geo_feat_name = \"Amazon River\"\n",
    "# Task 2\n",
    "print(geo_feat_name.lower())\n",
    "print(geo_feat_name.upper())\n",
    "# Task 3\n",
    "geo_feat_name = geo_feat_name + \", Brazil\"\n",
    "# Task 4\n",
    "for i in range(3):\n",
    "  if i == 0:\n",
    "    print(geo_feat_name, end=\"\")\n",
    "  else:\n",
    "    print(\"-\"+geo_feat_name, end=\"\")"
   ]
  },
  {
   "cell_type": "markdown",
   "metadata": {},
   "source": [
    "## Exercise 12: Extracting and Formatting Coordinates\n",
    "\n",
    "- Given a string with the format `\"latitude, longitude\"` (e.g., `\"40.7128N, 74.0060W\"`), extract the numeric values of latitude and longitude.\n",
    "- Convert these values to floats and remove the directional indicators (`N`, `S`, `E`, `W`).\n",
    "- Format the coordinates into a `POINT` WKT string (e.g., `\"POINT(-74.0060 40.7128)\"`)."
   ]
  },
  {
   "cell_type": "code",
   "execution_count": 3,
   "metadata": {},
   "outputs": [
    {
     "name": "stdout",
     "output_type": "stream",
     "text": [
      "POINT(40.7128 74.006)\n"
     ]
    }
   ],
   "source": [
    "lat_long = \"40.7128N, 74.0060W\"\n",
    "lat, lon = lat_long.split(\", \")\n",
    "fl_lat = float(lat[:-1])\n",
    "fl_lon = float(lon[:-1])\n",
    "print(f\"POINT({fl_lat} {fl_lon})\")"
   ]
  },
  {
   "cell_type": "markdown",
   "metadata": {},
   "source": [
    "## Exercise 13: Building Dynamic SQL Queries\n",
    "\n",
    "- Given a table name and a condition, dynamically build an SQL query string.\n",
    "- Example: If `table_name = \"cities\"` and `condition = \"population > 1000000\"`, the query should be `\"SELECT * FROM cities WHERE population > 1000000;\"`.\n",
    "- Add additional conditions dynamically, like `AND` clauses."
   ]
  },
  {
   "cell_type": "code",
   "execution_count": 4,
   "metadata": {},
   "outputs": [
    {
     "name": "stdout",
     "output_type": "stream",
     "text": [
      "SELECT * FROM cities WHERE population > 1000000 AND country = 'USA' OR country = 'Canada'\n"
     ]
    }
   ],
   "source": [
    "table_name = \"cities\"\n",
    "condition = \"population > 1000000\"\n",
    "additional_condition = [\"AND country = 'USA'\", \"OR country = 'Canada'\"]\n",
    "query = f\"SELECT * FROM {table_name} WHERE {condition} {' '.join(additional_condition)}\"\n",
    "print(query)"
   ]
  },
  {
   "cell_type": "markdown",
   "metadata": {},
   "source": [
    "## Exercise 14: String Normalization and Cleaning\n",
    "\n",
    "- Given a list of city names with inconsistent formatting (e.g., `[\" new york \", \"Los ANGELES\", \"   CHICAGO\"]`), normalize the names by:\n",
    "  - Stripping any leading or trailing whitespace.\n",
    "  - Converting them to title case (e.g., `\"New York\"`, `\"Los Angeles\"`, `\"Chicago\"`).\n",
    "- Ensure that the output is a clean list of city names."
   ]
  },
  {
   "cell_type": "code",
   "execution_count": 5,
   "metadata": {},
   "outputs": [
    {
     "name": "stdout",
     "output_type": "stream",
     "text": [
      "['New York', 'Los Angeles', 'Chicago']\n"
     ]
    }
   ],
   "source": [
    "city_names = [\" new york \", \"Los ANGELES\", \"   CHICAGO\"]\n",
    "\n",
    "for i, city in enumerate(city_names):\n",
    "  city_names[i] = city.title().strip()\n",
    "print(city_names)"
   ]
  },
  {
   "cell_type": "markdown",
   "metadata": {},
   "source": [
    "## Exercise 15: Parsing and Extracting Address Information\n",
    "\n",
    "- Given a string in the format `\"Street, City, Country\"` (e.g., `\"123 Main St, Springfield, USA\"`), write a function that parses the string into a dictionary with keys `street`, `city`, and `country`.\n",
    "- The function should return a dictionary like `{\"street\": \"123 Main St\", \"city\": \"Springfield\", \"country\": \"USA\"}`."
   ]
  },
  {
   "cell_type": "code",
   "execution_count": 7,
   "metadata": {},
   "outputs": [
    {
     "data": {
      "text/plain": [
       "{'street': '123 Main St', 'city': 'Springfield', 'country': 'USA'}"
      ]
     },
     "execution_count": 7,
     "metadata": {},
     "output_type": "execute_result"
    }
   ],
   "source": [
    "def parse_address(address):\n",
    "  address = address.split(\", \")\n",
    "  street = address[0]\n",
    "  city = address[1]\n",
    "  country = address[2]\n",
    "  return {\"street\": street, \"city\": city, \"country\": country}\n",
    "\n",
    "parse_address(\"123 Main St, Springfield, USA\")"
   ]
  },
  {
   "cell_type": "markdown",
   "metadata": {},
   "source": [
    "## Exercise 16: Using For Loops to Process Coordinate Lists\n",
    "\n",
    "- Create a list of tuples representing coordinates (latitude, longitude).\n",
    "- Write a `for` loop that prints each coordinate and indicates whether it is in the Northern or Southern Hemisphere based on the latitude."
   ]
  },
  {
   "cell_type": "code",
   "execution_count": 12,
   "metadata": {},
   "outputs": [
    {
     "name": "stdout",
     "output_type": "stream",
     "text": [
      "The latitude of 40.7128 is in the Northern Hemisphere\n",
      "The latitude of -34.0522 is in the Southern Hemisphere\n",
      "The latitude of 41.8781 is in the Northern Hemisphere\n"
     ]
    }
   ],
   "source": [
    "coords = [(40.7128, 74.0060), (-34.0522, 118.2437), (41.8781, 87.6298)]\n",
    "for i, coord in enumerate(coords):\n",
    "  lat, lon = coord\n",
    "  if lat > 0 and lat <= 90:\n",
    "    print(f\"The latitude of {lat} is in the Northern Hemisphere\")\n",
    "  elif lat < 0 and lat >= -90.0:\n",
    "    print(f\"The latitude of {lat} is in the Southern Hemisphere\")\n",
    "  elif lat == 0:\n",
    "    print(f\"The latitude of {lat} is on the Equator\")\n",
    "  else:\n",
    "    print(f\"The latitude of {lat} is invalid\")"
   ]
  },
  {
   "cell_type": "markdown",
   "metadata": {},
   "source": [
    "## Exercise 17: While Loops for Iterative Processing\n",
    "\n",
    "- Create a list of coordinates (latitude, longitude).\n",
    "- Write a `while` loop that continues to print each coordinate until it encounters a coordinate with a negative latitude.\n",
    "- Stop the loop once this condition is met."
   ]
  },
  {
   "cell_type": "code",
   "execution_count": 13,
   "metadata": {},
   "outputs": [
    {
     "name": "stdout",
     "output_type": "stream",
     "text": [
      "The latitude is 40.7128\n",
      "The latitude of -34.0522 is in the Southern Hemisphere\n"
     ]
    }
   ],
   "source": [
    "coords = [(40.7128, 74.0060), (-34.0522, 118.2437), (41.8781, 87.6298)]\n",
    "for i, coord in enumerate(coords):\n",
    "  lat, lon = coord\n",
    "  if lat < 0:\n",
    "    print(f\"The latitude of {lat} is in the Southern Hemisphere\")\n",
    "    break\n",
    "  else:\n",
    "    print(f\"The latitude is {lat}\")"
   ]
  },
  {
   "cell_type": "markdown",
   "metadata": {},
   "source": [
    "## Exercise 18: Conditional Logic in Loops\n",
    "\n",
    "- Create a list of coordinates and use a `for` loop to iterate over them.\n",
    "- Use an `if-elif-else` statement inside the loop to classify each coordinate based on its longitude:\n",
    "  - Print `\"Eastern Hemisphere\"` if the longitude is greater than 0.\n",
    "  - Print `\"Western Hemisphere\"` if the longitude is less than 0."
   ]
  },
  {
   "cell_type": "code",
   "execution_count": 15,
   "metadata": {},
   "outputs": [
    {
     "name": "stdout",
     "output_type": "stream",
     "text": [
      "The longitude of 74.006 is in the Eastern Hemisphere\n",
      "The longitude of 118.2437 is in the Eastern Hemisphere\n",
      "The longitude of -87.6298 is in the Western Hemisphere\n"
     ]
    }
   ],
   "source": [
    "coords = [(40.7128, 74.0060), (-34.0522, 118.2437), (41.8781, -87.6298)]\n",
    "for i, coord in enumerate(coords):\n",
    "  lat, lon = coord\n",
    "  if lon > 0 and lon <= 180:\n",
    "    print(f\"The longitude of {lon} is in the Eastern Hemisphere\")\n",
    "  elif lon < 0 and lon >= -180:\n",
    "    print(f\"The longitude of {lon} is in the Western Hemisphere\")\n",
    "  elif lon == 0:\n",
    "    print(f\"Prime Meridian\")\n",
    "  else:\n",
    "    print(f\"The longitude of {lon} is invalid\")"
   ]
  },
  {
   "cell_type": "markdown",
   "metadata": {},
   "source": [
    "## Exercise 19: Filtering Data with Combined Loops and Conditionals\n",
    "\n",
    "- Given a list of coordinates, filter out and store only those located in the Southern Hemisphere (latitude < 0).\n",
    "- Count the number of coordinates that meet this condition and print the result."
   ]
  },
  {
   "cell_type": "code",
   "execution_count": 17,
   "metadata": {},
   "outputs": [
    {
     "name": "stdout",
     "output_type": "stream",
     "text": [
      "Number of Coordinates in Southern Hemisphere: 1\n"
     ]
    }
   ],
   "source": [
    "coords = [(40.7128, 74.0060), (-34.0522, 118.2437), (41.8781, 87.6298)]\n",
    "southern_coords = []\n",
    "for i, coord in enumerate(coords):\n",
    "  lat, lon = coord\n",
    "  if lat < 0:\n",
    "    southern_coords.append(coord)\n",
    "\n",
    "print(f\"Number of Coordinates in Southern Hemisphere: {len(southern_coords)}\")"
   ]
  },
  {
   "cell_type": "markdown",
   "metadata": {},
   "source": [
    "## Exercise 20: Generating and Analyzing Random Coordinates\n",
    "\n",
    "- Write a program that generates random coordinates (latitude between [-90, 90] degrees and longitude between [-180, 180] degrees).\n",
    "- Use a `while` loop to keep generating coordinates until a pair with both latitude and longitude greater than 50 is generated.\n",
    "- Print each generated coordinate and the final coordinate that meets the condition."
   ]
  },
  {
   "cell_type": "code",
   "execution_count": 18,
   "metadata": {},
   "outputs": [
    {
     "name": "stdout",
     "output_type": "stream",
     "text": [
      "Latitude: -34.7745, Longitude: -112.2493\n",
      "Latitude: -53.9636, Longitude: -92.8747\n",
      "Latitude: 30.8621, Longitude: 76.2693\n",
      "Latitude: 51.8989, Longitude: 28.2993\n",
      "Latitude: 7.9202, Longitude: 108.1979\n",
      "Latitude: 0.3879, Longitude: 169.3693\n",
      "Latitude: -13.3752, Longitude: -106.6072\n",
      "Latitude: -8.0372, Longitude: 120.8267\n",
      "Latitude: 64.8390, Longitude: 51.9915\n"
     ]
    }
   ],
   "source": [
    "import random\n",
    "\n",
    "def generate_coordinate():\n",
    "  return (random.uniform(-90.0, 90.0), random.uniform(-180.0, 180.0))\n",
    "\n",
    "while True:\n",
    "  lat, lon = generate_coordinate()\n",
    "  print(f\"Latitude: {lat:.4f}, Longitude: {lon:.4f}\")\n",
    "  if lat > 50 and lon > 50:\n",
    "    break;"
   ]
  },
  {
   "cell_type": "code",
   "execution_count": null,
   "metadata": {},
   "outputs": [],
   "source": []
  }
 ],
 "metadata": {
  "kernelspec": {
   "display_name": "OpenGeo",
   "language": "python",
   "name": "python3"
  },
  "language_info": {
   "codemirror_mode": {
    "name": "ipython",
    "version": 3
   },
   "file_extension": ".py",
   "mimetype": "text/x-python",
   "name": "python",
   "nbconvert_exporter": "python",
   "pygments_lexer": "ipython3",
   "version": "3.11.10"
  }
 },
 "nbformat": 4,
 "nbformat_minor": 2
}
