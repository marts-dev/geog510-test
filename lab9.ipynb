{
 "cells": [
  {
   "cell_type": "markdown",
   "id": "d8e67b70",
   "metadata": {},
   "source": [
    "# Lab 9\n",
    "[![Open In Colab](https://colab.research.google.com/assets/colab-badge.svg)](https://colab.research.google.com/github/marts-dev/geog510-test/blob/main/lab9.ipynb)\n"
   ]
  },
  {
   "cell_type": "code",
   "execution_count": null,
   "id": "c116f9cb",
   "metadata": {},
   "outputs": [],
   "source": [
    "# %pip install -U leafmap\n",
    "# %pip install -U rasterio\n",
    "# %pip install -U geopandas"
   ]
  },
  {
   "cell_type": "code",
   "execution_count": 2,
   "id": "c1d1b34f",
   "metadata": {},
   "outputs": [],
   "source": [
    "import leafmap\n",
    "import rasterio\n",
    "from rasterio.warp import transform_bounds\n",
    "import geopandas as gpd"
   ]
  },
  {
   "cell_type": "markdown",
   "id": "07ee3b0c",
   "metadata": {},
   "source": [
    "## Question 1: Creating an Interactive Map\n",
    "Create an interacctive map with search functionality that allows users to search for places and zoom to them. Disable the draw control on the map."
   ]
  },
  {
   "cell_type": "code",
   "execution_count": null,
   "id": "05753d53",
   "metadata": {},
   "outputs": [
    {
     "data": {
      "application/vnd.jupyter.widget-view+json": {
       "model_id": "73f02cc4883543308c84172f706f9dcb",
       "version_major": 2,
       "version_minor": 0
      },
      "text/plain": [
       "Map(center=[20, 0], controls=(ZoomControl(options=['position', 'zoom_in_text', 'zoom_in_title', 'zoom_out_text…"
      ]
     },
     "execution_count": 3,
     "metadata": {},
     "output_type": "execute_result"
    }
   ],
   "source": [
    "m = leafmap.Map(draw_control=False, search_control=True)\n",
    "m.search_control.zoom = 15\n",
    "m"
   ]
  },
  {
   "cell_type": "markdown",
   "id": "61fdc654",
   "metadata": {},
   "source": [
    "## Question 2: Adding Map Legends\n",
    "1. Add ESA World Cover WMS tile layer to the map.\n",
    " - URL: `https://services.terrascope.be/wms/v2?`\n",
    " - Layer name: `WORLDCOVER_2021_MAP`\n",
    "2. Add a legend to the map using the leafmap built-in `ESA_WorldCover` legend."
   ]
  },
  {
   "cell_type": "code",
   "execution_count": 4,
   "id": "2f714fa4",
   "metadata": {},
   "outputs": [
    {
     "data": {
      "application/vnd.jupyter.widget-view+json": {
       "model_id": "de33f08621d84f2396f20ff2a3baf603",
       "version_major": 2,
       "version_minor": 0
      },
      "text/plain": [
       "Map(center=[20, 0], controls=(ZoomControl(options=['position', 'zoom_in_text', 'zoom_in_title', 'zoom_out_text…"
      ]
     },
     "execution_count": 4,
     "metadata": {},
     "output_type": "execute_result"
    }
   ],
   "source": [
    "m = leafmap.Map(draw_control=False, search_control=True, zoom=2)\n",
    "m.search_control.zoom = 15\n",
    "url = \"https://services.terrascope.be/wms/v2?\"\n",
    "layer_name = \"WORLDCOVER_2021_MAP\"\n",
    "m.add_wms_layer(\n",
    "  url=url,\n",
    "  layers=layer_name,\n",
    "  name=layer_name,\n",
    "  format=\"image/png\",\n",
    "  show=True,\n",
    ")\n",
    "m.add_legend(title=\"ESA Land Cover Type\", builtin_legend=\"ESA_WorldCover\")\n",
    "m"
   ]
  },
  {
   "cell_type": "markdown",
   "id": "a414bf5f",
   "metadata": {},
   "source": [
    "## Question 3: Creating Marker Clusters\n",
    "1. Create a marker cluster visualization from a GeoJSON file of building centroids:\n",
    " - URL: [opengeos/datasets](https://github.com/opengeos/datasets/releases/download/places/wa_building_centroids.geojson)\n",
    " - Hint: Read the GeoJSON file using GeoPandas and add \"latitude\" and \"longitude\" columns to the GeoDataFrame.\n",
    "2. Create circle markers for each building centroid using the `Map.add_circle_markers_from_xy()` method with the following styling:\n",
    " - Radius: 5\n",
    " - Outline color: \"red\"\n",
    " - Fill color: \"yellow\"\n",
    " - Fill opacity: 0.8"
   ]
  },
  {
   "cell_type": "code",
   "execution_count": 5,
   "id": "d98a0fc7",
   "metadata": {},
   "outputs": [],
   "source": [
    "url = \"https://github.com/opengeos/datasets/releases/download/places/wa_building_centroids.geojson\"\n",
    "\n",
    "gdf = gpd.read_file(url)"
   ]
  },
  {
   "cell_type": "code",
   "execution_count": 6,
   "id": "a6ecda92",
   "metadata": {},
   "outputs": [
    {
     "data": {
      "text/html": [
       "<div style=\"width:100%;\"><div style=\"position:relative;width:100%;height:0;padding-bottom:60%;\"><span style=\"color:#565656\">Make this Notebook Trusted to load map: File -> Trust Notebook</span><iframe srcdoc=\"&lt;!DOCTYPE html&gt;\n",
       "&lt;html&gt;\n",
       "&lt;head&gt;\n",
       "    \n",
       "    &lt;meta http-equiv=&quot;content-type&quot; content=&quot;text/html; charset=UTF-8&quot; /&gt;\n",
       "    \n",
       "        &lt;script&gt;\n",
       "            L_NO_TOUCH = false;\n",
       "            L_DISABLE_3D = false;\n",
       "        &lt;/script&gt;\n",
       "    \n",
       "    &lt;style&gt;html, body {width: 100%;height: 100%;margin: 0;padding: 0;}&lt;/style&gt;\n",
       "    &lt;style&gt;#map {position:absolute;top:0;bottom:0;right:0;left:0;}&lt;/style&gt;\n",
       "    &lt;script src=&quot;https://cdn.jsdelivr.net/npm/leaflet@1.9.3/dist/leaflet.js&quot;&gt;&lt;/script&gt;\n",
       "    &lt;script src=&quot;https://code.jquery.com/jquery-3.7.1.min.js&quot;&gt;&lt;/script&gt;\n",
       "    &lt;script src=&quot;https://cdn.jsdelivr.net/npm/bootstrap@5.2.2/dist/js/bootstrap.bundle.min.js&quot;&gt;&lt;/script&gt;\n",
       "    &lt;script src=&quot;https://cdnjs.cloudflare.com/ajax/libs/Leaflet.awesome-markers/2.0.2/leaflet.awesome-markers.js&quot;&gt;&lt;/script&gt;\n",
       "    &lt;link rel=&quot;stylesheet&quot; href=&quot;https://cdn.jsdelivr.net/npm/leaflet@1.9.3/dist/leaflet.css&quot;/&gt;\n",
       "    &lt;link rel=&quot;stylesheet&quot; href=&quot;https://cdn.jsdelivr.net/npm/bootstrap@5.2.2/dist/css/bootstrap.min.css&quot;/&gt;\n",
       "    &lt;link rel=&quot;stylesheet&quot; href=&quot;https://netdna.bootstrapcdn.com/bootstrap/3.0.0/css/bootstrap-glyphicons.css&quot;/&gt;\n",
       "    &lt;link rel=&quot;stylesheet&quot; href=&quot;https://cdn.jsdelivr.net/npm/@fortawesome/fontawesome-free@6.2.0/css/all.min.css&quot;/&gt;\n",
       "    &lt;link rel=&quot;stylesheet&quot; href=&quot;https://cdnjs.cloudflare.com/ajax/libs/Leaflet.awesome-markers/2.0.2/leaflet.awesome-markers.css&quot;/&gt;\n",
       "    &lt;link rel=&quot;stylesheet&quot; href=&quot;https://cdn.jsdelivr.net/gh/python-visualization/folium/folium/templates/leaflet.awesome.rotate.min.css&quot;/&gt;\n",
       "    \n",
       "            &lt;meta name=&quot;viewport&quot; content=&quot;width=device-width,\n",
       "                initial-scale=1.0, maximum-scale=1.0, user-scalable=no&quot; /&gt;\n",
       "            &lt;style&gt;\n",
       "                #map_6431afd5bd1474d6a3ee8e39d3383c68 {\n",
       "                    position: relative;\n",
       "                    width: 100.0%;\n",
       "                    height: 100.0%;\n",
       "                    left: 0.0%;\n",
       "                    top: 0.0%;\n",
       "                }\n",
       "                .leaflet-container { font-size: 1rem; }\n",
       "            &lt;/style&gt;\n",
       "        \n",
       "    \n",
       "                    &lt;style&gt;\n",
       "                        .foliumtooltip {\n",
       "                            \n",
       "                        }\n",
       "                       .foliumtooltip table{\n",
       "                            margin: auto;\n",
       "                        }\n",
       "                        .foliumtooltip tr{\n",
       "                            text-align: left;\n",
       "                        }\n",
       "                        .foliumtooltip th{\n",
       "                            padding: 2px; padding-right: 8px;\n",
       "                        }\n",
       "                    &lt;/style&gt;\n",
       "            \n",
       "&lt;/head&gt;\n",
       "&lt;body&gt;\n",
       "    \n",
       "    \n",
       "            &lt;div class=&quot;folium-map&quot; id=&quot;map_6431afd5bd1474d6a3ee8e39d3383c68&quot; &gt;&lt;/div&gt;\n",
       "        \n",
       "&lt;/body&gt;\n",
       "&lt;script&gt;\n",
       "    \n",
       "    \n",
       "            var map_6431afd5bd1474d6a3ee8e39d3383c68 = L.map(\n",
       "                &quot;map_6431afd5bd1474d6a3ee8e39d3383c68&quot;,\n",
       "                {\n",
       "                    center: [47.65299556567126, -117.59770593481298],\n",
       "                    crs: L.CRS.EPSG3857,\n",
       "                    ...{\n",
       "  &quot;zoom&quot;: 10,\n",
       "  &quot;zoomControl&quot;: true,\n",
       "  &quot;preferCanvas&quot;: false,\n",
       "}\n",
       "\n",
       "                }\n",
       "            );\n",
       "            L.control.scale().addTo(map_6431afd5bd1474d6a3ee8e39d3383c68);\n",
       "\n",
       "            \n",
       "\n",
       "        \n",
       "    \n",
       "            var tile_layer_34b16de0cb1b0b19a78d5d9a4e9f6335 = L.tileLayer(\n",
       "                &quot;https://tile.openstreetmap.org/{z}/{x}/{y}.png&quot;,\n",
       "                {\n",
       "  &quot;minZoom&quot;: 0,\n",
       "  &quot;maxZoom&quot;: 19,\n",
       "  &quot;maxNativeZoom&quot;: 19,\n",
       "  &quot;noWrap&quot;: false,\n",
       "  &quot;attribution&quot;: &quot;\\u0026copy; \\u003ca href=\\&quot;https://www.openstreetmap.org/copyright\\&quot;\\u003eOpenStreetMap\\u003c/a\\u003e contributors&quot;,\n",
       "  &quot;subdomains&quot;: &quot;abc&quot;,\n",
       "  &quot;detectRetina&quot;: false,\n",
       "  &quot;tms&quot;: false,\n",
       "  &quot;opacity&quot;: 1,\n",
       "}\n",
       "\n",
       "            );\n",
       "        \n",
       "    \n",
       "            tile_layer_34b16de0cb1b0b19a78d5d9a4e9f6335.addTo(map_6431afd5bd1474d6a3ee8e39d3383c68);\n",
       "        \n",
       "    \n",
       "            map_6431afd5bd1474d6a3ee8e39d3383c68.fitBounds(\n",
       "                [[47.65021236993617, -117.60173057962092], [47.65577876140636, -117.59368129000505]],\n",
       "                {}\n",
       "            );\n",
       "        \n",
       "    \n",
       "        function geo_json_10af3901104c7829e4108c17f6488302_styler(feature) {\n",
       "            switch(feature.id) {\n",
       "                default:\n",
       "                    return {&quot;fillOpacity&quot;: 0.5, &quot;weight&quot;: 2};\n",
       "            }\n",
       "        }\n",
       "        function geo_json_10af3901104c7829e4108c17f6488302_highlighter(feature) {\n",
       "            switch(feature.id) {\n",
       "                default:\n",
       "                    return {&quot;fillOpacity&quot;: 0.75};\n",
       "            }\n",
       "        }\n",
       "        function geo_json_10af3901104c7829e4108c17f6488302_pointToLayer(feature, latlng) {\n",
       "            var opts = {&quot;bubblingMouseEvents&quot;: true, &quot;color&quot;: &quot;#3388ff&quot;, &quot;dashArray&quot;: null, &quot;dashOffset&quot;: null, &quot;fill&quot;: true, &quot;fillColor&quot;: &quot;#3388ff&quot;, &quot;fillOpacity&quot;: 0.2, &quot;fillRule&quot;: &quot;evenodd&quot;, &quot;lineCap&quot;: &quot;round&quot;, &quot;lineJoin&quot;: &quot;round&quot;, &quot;opacity&quot;: 1.0, &quot;radius&quot;: 2, &quot;stroke&quot;: true, &quot;weight&quot;: 3};\n",
       "            \n",
       "            let style = geo_json_10af3901104c7829e4108c17f6488302_styler(feature)\n",
       "            Object.assign(opts, style)\n",
       "            \n",
       "            return new L.CircleMarker(latlng, opts)\n",
       "        }\n",
       "\n",
       "        function geo_json_10af3901104c7829e4108c17f6488302_onEachFeature(feature, layer) {\n",
       "            layer.on({\n",
       "                mouseout: function(e) {\n",
       "                    if(typeof e.target.setStyle === &quot;function&quot;){\n",
       "                            geo_json_10af3901104c7829e4108c17f6488302.resetStyle(e.target);\n",
       "                    }\n",
       "                },\n",
       "                mouseover: function(e) {\n",
       "                    if(typeof e.target.setStyle === &quot;function&quot;){\n",
       "                        const highlightStyle = geo_json_10af3901104c7829e4108c17f6488302_highlighter(e.target.feature)\n",
       "                        e.target.setStyle(highlightStyle);\n",
       "                    }\n",
       "                },\n",
       "            });\n",
       "        };\n",
       "        var geo_json_10af3901104c7829e4108c17f6488302 = L.geoJson(null, {\n",
       "                onEachFeature: geo_json_10af3901104c7829e4108c17f6488302_onEachFeature,\n",
       "            \n",
       "                style: geo_json_10af3901104c7829e4108c17f6488302_styler,\n",
       "                pointToLayer: geo_json_10af3901104c7829e4108c17f6488302_pointToLayer,\n",
       "            ...{\n",
       "}\n",
       "        });\n",
       "\n",
       "        function geo_json_10af3901104c7829e4108c17f6488302_add (data) {\n",
       "            geo_json_10af3901104c7829e4108c17f6488302\n",
       "                .addData(data);\n",
       "        }\n",
       "            geo_json_10af3901104c7829e4108c17f6488302_add({&quot;bbox&quot;: [-117.60173057962092, 47.65021236993617, -117.59368129000505, 47.65577876140636], &quot;features&quot;: [{&quot;bbox&quot;: [-117.60109236970347, 47.65499257572959, -117.60109236970347, 47.65499257572959], &quot;geometry&quot;: {&quot;coordinates&quot;: [-117.60109236970347, 47.65499257572959], &quot;type&quot;: &quot;Point&quot;}, &quot;id&quot;: &quot;0&quot;, &quot;properties&quot;: {&quot;Class&quot;: &quot;1&quot;, &quot;Confidence&quot;: 28.9054602385, &quot;Shape_Area&quot;: 292.568025508, &quot;Shape_Leng&quot;: 68.4570688978}, &quot;type&quot;: &quot;Feature&quot;}, {&quot;bbox&quot;: [-117.59952529804629, 47.65532576237434, -117.59952529804629, 47.65532576237434], &quot;geometry&quot;: {&quot;coordinates&quot;: [-117.59952529804629, 47.65532576237434], &quot;type&quot;: &quot;Point&quot;}, &quot;id&quot;: &quot;1&quot;, &quot;properties&quot;: {&quot;Class&quot;: &quot;1&quot;, &quot;Confidence&quot;: 99.4201958179, &quot;Shape_Area&quot;: 556.702899405, &quot;Shape_Leng&quot;: 97.1527845263}, &quot;type&quot;: &quot;Feature&quot;}, {&quot;bbox&quot;: [-117.59990985275736, 47.6551425160757, -117.59990985275736, 47.6551425160757], &quot;geometry&quot;: {&quot;coordinates&quot;: [-117.59990985275736, 47.6551425160757], &quot;type&quot;: &quot;Point&quot;}, &quot;id&quot;: &quot;2&quot;, &quot;properties&quot;: {&quot;Class&quot;: &quot;1&quot;, &quot;Confidence&quot;: 95.4508066177, &quot;Shape_Area&quot;: 492.940128086, &quot;Shape_Leng&quot;: 90.9169931449}, &quot;type&quot;: &quot;Feature&quot;}, {&quot;bbox&quot;: [-117.59953234652518, 47.6557468206869, -117.59953234652518, 47.6557468206869], &quot;geometry&quot;: {&quot;coordinates&quot;: [-117.59953234652518, 47.6557468206869], &quot;type&quot;: &quot;Point&quot;}, &quot;id&quot;: &quot;3&quot;, &quot;properties&quot;: {&quot;Class&quot;: &quot;1&quot;, &quot;Confidence&quot;: 91.4464533329, &quot;Shape_Area&quot;: 453.842108826, &quot;Shape_Leng&quot;: 85.6451226845}, &quot;type&quot;: &quot;Feature&quot;}, {&quot;bbox&quot;: [-117.59989178735704, 47.65533571100505, -117.59989178735704, 47.65533571100505], &quot;geometry&quot;: {&quot;coordinates&quot;: [-117.59989178735704, 47.65533571100505], &quot;type&quot;: &quot;Point&quot;}, &quot;id&quot;: &quot;4&quot;, &quot;properties&quot;: {&quot;Class&quot;: &quot;1&quot;, &quot;Confidence&quot;: 90.1723921299, &quot;Shape_Area&quot;: 380.40364897, &quot;Shape_Leng&quot;: 78.0576381274}, &quot;type&quot;: &quot;Feature&quot;}, {&quot;bbox&quot;: [-117.60108392059779, 47.65493215655661, -117.60108392059779, 47.65493215655661], &quot;geometry&quot;: {&quot;coordinates&quot;: [-117.60108392059779, 47.65493215655661], &quot;type&quot;: &quot;Point&quot;}, &quot;id&quot;: &quot;5&quot;, &quot;properties&quot;: {&quot;Class&quot;: &quot;1&quot;, &quot;Confidence&quot;: 91.0333156586, &quot;Shape_Area&quot;: 626.574469056, &quot;Shape_Leng&quot;: 106.202340405}, &quot;type&quot;: &quot;Feature&quot;}, {&quot;bbox&quot;: [-117.60108843891226, 47.65428453173413, -117.60108843891226, 47.65428453173413], &quot;geometry&quot;: {&quot;coordinates&quot;: [-117.60108843891226, 47.65428453173413], &quot;type&quot;: &quot;Point&quot;}, &quot;id&quot;: &quot;6&quot;, &quot;properties&quot;: {&quot;Class&quot;: &quot;1&quot;, &quot;Confidence&quot;: 91.0090208054, &quot;Shape_Area&quot;: 601.530586424, &quot;Shape_Leng&quot;: 104.375809968}, &quot;type&quot;: &quot;Feature&quot;}, {&quot;bbox&quot;: [-117.60108537049854, 47.65460385754599, -117.60108537049854, 47.65460385754599], &quot;geometry&quot;: {&quot;coordinates&quot;: [-117.60108537049854, 47.65460385754599], &quot;type&quot;: &quot;Point&quot;}, &quot;id&quot;: &quot;7&quot;, &quot;properties&quot;: {&quot;Class&quot;: &quot;1&quot;, &quot;Confidence&quot;: 84.3461871147, &quot;Shape_Area&quot;: 605.604922405, &quot;Shape_Leng&quot;: 103.845025644}, &quot;type&quot;: &quot;Feature&quot;}, {&quot;bbox&quot;: [-117.6017152460648, 47.654290366139804, -117.6017152460648, 47.654290366139804], &quot;geometry&quot;: {&quot;coordinates&quot;: [-117.6017152460648, 47.654290366139804], &quot;type&quot;: &quot;Point&quot;}, &quot;id&quot;: &quot;8&quot;, &quot;properties&quot;: {&quot;Class&quot;: &quot;1&quot;, &quot;Confidence&quot;: 74.2413401604, &quot;Shape_Area&quot;: 539.382319273, &quot;Shape_Leng&quot;: 99.1547038071}, &quot;type&quot;: &quot;Feature&quot;}, {&quot;bbox&quot;: [-117.60171570950268, 47.6549491781114, -117.60171570950268, 47.6549491781114], &quot;geometry&quot;: {&quot;coordinates&quot;: [-117.60171570950268, 47.6549491781114], &quot;type&quot;: &quot;Point&quot;}, &quot;id&quot;: &quot;9&quot;, &quot;properties&quot;: {&quot;Class&quot;: &quot;1&quot;, &quot;Confidence&quot;: 73.273897171, &quot;Shape_Area&quot;: 564.892840563, &quot;Shape_Leng&quot;: 101.125706144}, &quot;type&quot;: &quot;Feature&quot;}, {&quot;bbox&quot;: [-117.60171279611392, 47.654618684108364, -117.60171279611392, 47.654618684108364], &quot;geometry&quot;: {&quot;coordinates&quot;: [-117.60171279611392, 47.654618684108364], &quot;type&quot;: &quot;Point&quot;}, &quot;id&quot;: &quot;10&quot;, &quot;properties&quot;: {&quot;Class&quot;: &quot;1&quot;, &quot;Confidence&quot;: 73.012894392, &quot;Shape_Area&quot;: 553.033813071, &quot;Shape_Leng&quot;: 100.204714634}, &quot;type&quot;: &quot;Feature&quot;}, {&quot;bbox&quot;: [-117.60171619929642, 47.65433866979389, -117.60171619929642, 47.65433866979389], &quot;geometry&quot;: {&quot;coordinates&quot;: [-117.60171619929642, 47.65433866979389], &quot;type&quot;: &quot;Point&quot;}, &quot;id&quot;: &quot;11&quot;, &quot;properties&quot;: {&quot;Class&quot;: &quot;1&quot;, &quot;Confidence&quot;: 27.8020322323, &quot;Shape_Area&quot;: 272.850647282, &quot;Shape_Leng&quot;: 66.4452193305}, &quot;type&quot;: &quot;Feature&quot;}, {&quot;bbox&quot;: [-117.59992357222049, 47.654956079777335, -117.59992357222049, 47.654956079777335], &quot;geometry&quot;: {&quot;coordinates&quot;: [-117.59992357222049, 47.654956079777335], &quot;type&quot;: &quot;Point&quot;}, &quot;id&quot;: &quot;12&quot;, &quot;properties&quot;: {&quot;Class&quot;: &quot;1&quot;, &quot;Confidence&quot;: 97.347766161, &quot;Shape_Area&quot;: 461.714350968, &quot;Shape_Leng&quot;: 87.3152988814}, &quot;type&quot;: &quot;Feature&quot;}, {&quot;bbox&quot;: [-117.5993529577677, 47.65442330351335, -117.5993529577677, 47.65442330351335], &quot;geometry&quot;: {&quot;coordinates&quot;: [-117.5993529577677, 47.65442330351335], &quot;type&quot;: &quot;Point&quot;}, &quot;id&quot;: &quot;13&quot;, &quot;properties&quot;: {&quot;Class&quot;: &quot;1&quot;, &quot;Confidence&quot;: 94.0246105194, &quot;Shape_Area&quot;: 269.464371749, &quot;Shape_Leng&quot;: 65.7693112455}, &quot;type&quot;: &quot;Feature&quot;}, {&quot;bbox&quot;: [-117.6005900912993, 47.654938600412564, -117.6005900912993, 47.654938600412564], &quot;geometry&quot;: {&quot;coordinates&quot;: [-117.6005900912993, 47.654938600412564], &quot;type&quot;: &quot;Point&quot;}, &quot;id&quot;: &quot;14&quot;, &quot;properties&quot;: {&quot;Class&quot;: &quot;1&quot;, &quot;Confidence&quot;: 93.7043488026, &quot;Shape_Area&quot;: 250.465248358, &quot;Shape_Leng&quot;: 63.3057260551}, &quot;type&quot;: &quot;Feature&quot;}, {&quot;bbox&quot;: [-117.59983598508438, 47.65469132717483, -117.59983598508438, 47.65469132717483], &quot;geometry&quot;: {&quot;coordinates&quot;: [-117.59983598508438, 47.65469132717483], &quot;type&quot;: &quot;Point&quot;}, &quot;id&quot;: &quot;15&quot;, &quot;properties&quot;: {&quot;Class&quot;: &quot;1&quot;, &quot;Confidence&quot;: 93.4134602547, &quot;Shape_Area&quot;: 404.147395271, &quot;Shape_Leng&quot;: 82.3743995242}, &quot;type&quot;: &quot;Feature&quot;}, {&quot;bbox&quot;: [-117.5998874551707, 47.65442915300219, -117.5998874551707, 47.65442915300219], &quot;geometry&quot;: {&quot;coordinates&quot;: [-117.5998874551707, 47.65442915300219], &quot;type&quot;: &quot;Point&quot;}, &quot;id&quot;: &quot;16&quot;, &quot;properties&quot;: {&quot;Class&quot;: &quot;1&quot;, &quot;Confidence&quot;: 92.7643418312, &quot;Shape_Area&quot;: 261.606115138, &quot;Shape_Leng&quot;: 64.7706213295}, &quot;type&quot;: &quot;Feature&quot;}, {&quot;bbox&quot;: [-117.60058785890723, 47.65428095725899, -117.60058785890723, 47.65428095725899], &quot;geometry&quot;: {&quot;coordinates&quot;: [-117.60058785890723, 47.65428095725899], &quot;type&quot;: &quot;Point&quot;}, &quot;id&quot;: &quot;17&quot;, &quot;properties&quot;: {&quot;Class&quot;: &quot;1&quot;, &quot;Confidence&quot;: 89.4162416458, &quot;Shape_Area&quot;: 244.117226706, &quot;Shape_Leng&quot;: 62.5086613297}, &quot;type&quot;: &quot;Feature&quot;}, {&quot;bbox&quot;: [-117.6005882686511, 47.65461508757613, -117.6005882686511, 47.65461508757613], &quot;geometry&quot;: {&quot;coordinates&quot;: [-117.6005882686511, 47.65461508757613], &quot;type&quot;: &quot;Point&quot;}, &quot;id&quot;: &quot;18&quot;, &quot;properties&quot;: {&quot;Class&quot;: &quot;1&quot;, &quot;Confidence&quot;: 80.355745554, &quot;Shape_Area&quot;: 372.639477201, &quot;Shape_Leng&quot;: 77.5398998559}, &quot;type&quot;: &quot;Feature&quot;}, {&quot;bbox&quot;: [-117.59869669472751, 47.6557524756083, -117.59869669472751, 47.6557524756083], &quot;geometry&quot;: {&quot;coordinates&quot;: [-117.59869669472751, 47.6557524756083], &quot;type&quot;: &quot;Point&quot;}, &quot;id&quot;: &quot;19&quot;, &quot;properties&quot;: {&quot;Class&quot;: &quot;1&quot;, &quot;Confidence&quot;: 98.2508778572, &quot;Shape_Area&quot;: 518.578023282, &quot;Shape_Leng&quot;: 93.125385195}, &quot;type&quot;: &quot;Feature&quot;}, {&quot;bbox&quot;: [-117.59814618686435, 47.65575574298061, -117.59814618686435, 47.65575574298061], &quot;geometry&quot;: {&quot;coordinates&quot;: [-117.59814618686435, 47.65575574298061], &quot;type&quot;: &quot;Point&quot;}, &quot;id&quot;: &quot;20&quot;, &quot;properties&quot;: {&quot;Class&quot;: &quot;1&quot;, &quot;Confidence&quot;: 97.9354023933, &quot;Shape_Area&quot;: 523.819160226, &quot;Shape_Leng&quot;: 93.6022441983}, &quot;type&quot;: &quot;Feature&quot;}, {&quot;bbox&quot;: [-117.59896908519922, 47.65572562036762, -117.59896908519922, 47.65572562036762], &quot;geometry&quot;: {&quot;coordinates&quot;: [-117.59896908519922, 47.65572562036762], &quot;type&quot;: &quot;Point&quot;}, &quot;id&quot;: &quot;21&quot;, &quot;properties&quot;: {&quot;Class&quot;: &quot;1&quot;, &quot;Confidence&quot;: 96.8803942204, &quot;Shape_Area&quot;: 373.889671396, &quot;Shape_Leng&quot;: 77.4274488539}, &quot;type&quot;: &quot;Feature&quot;}, {&quot;bbox&quot;: [-117.59840857732598, 47.655738191782774, -117.59840857732598, 47.655738191782774], &quot;geometry&quot;: {&quot;coordinates&quot;: [-117.59840857732598, 47.655738191782774], &quot;type&quot;: &quot;Point&quot;}, &quot;id&quot;: &quot;22&quot;, &quot;properties&quot;: {&quot;Class&quot;: &quot;1&quot;, &quot;Confidence&quot;: 96.8404889107, &quot;Shape_Area&quot;: 445.074578613, &quot;Shape_Leng&quot;: 85.1901116334}, &quot;type&quot;: &quot;Feature&quot;}, {&quot;bbox&quot;: [-117.59924576251203, 47.65575156437423, -117.59924576251203, 47.65575156437423], &quot;geometry&quot;: {&quot;coordinates&quot;: [-117.59924576251203, 47.65575156437423], &quot;type&quot;: &quot;Point&quot;}, &quot;id&quot;: &quot;23&quot;, &quot;properties&quot;: {&quot;Class&quot;: &quot;1&quot;, &quot;Confidence&quot;: 96.2784528732, &quot;Shape_Area&quot;: 537.242183025, &quot;Shape_Leng&quot;: 94.9827398658}, &quot;type&quot;: &quot;Feature&quot;}, {&quot;bbox&quot;: [-117.59884551803113, 47.65528364306723, -117.59884551803113, 47.65528364306723], &quot;geometry&quot;: {&quot;coordinates&quot;: [-117.59884551803113, 47.65528364306723], &quot;type&quot;: &quot;Point&quot;}, &quot;id&quot;: &quot;24&quot;, &quot;properties&quot;: {&quot;Class&quot;: &quot;1&quot;, &quot;Confidence&quot;: 95.3052818775, &quot;Shape_Area&quot;: 423.674542099, &quot;Shape_Leng&quot;: 83.5498062521}, &quot;type&quot;: &quot;Feature&quot;}, {&quot;bbox&quot;: [-117.59794835177404, 47.65529938609105, -117.59794835177404, 47.65529938609105], &quot;geometry&quot;: {&quot;coordinates&quot;: [-117.59794835177404, 47.65529938609105], &quot;type&quot;: &quot;Point&quot;}, &quot;id&quot;: &quot;25&quot;, &quot;properties&quot;: {&quot;Class&quot;: &quot;1&quot;, &quot;Confidence&quot;: 95.1550006866, &quot;Shape_Area&quot;: 356.798552907, &quot;Shape_Leng&quot;: 75.728180021}, &quot;type&quot;: &quot;Feature&quot;}, {&quot;bbox&quot;: [-117.59826709765437, 47.655284537657586, -117.59826709765437, 47.655284537657586], &quot;geometry&quot;: {&quot;coordinates&quot;: [-117.59826709765437, 47.655284537657586], &quot;type&quot;: &quot;Point&quot;}, &quot;id&quot;: &quot;26&quot;, &quot;properties&quot;: {&quot;Class&quot;: &quot;1&quot;, &quot;Confidence&quot;: 94.4175779819, &quot;Shape_Area&quot;: 429.939622967, &quot;Shape_Leng&quot;: 83.7862822525}, &quot;type&quot;: &quot;Feature&quot;}, {&quot;bbox&quot;: [-117.59854269519461, 47.65529630117985, -117.59854269519461, 47.65529630117985], &quot;geometry&quot;: {&quot;coordinates&quot;: [-117.59854269519461, 47.65529630117985], &quot;type&quot;: &quot;Point&quot;}, &quot;id&quot;: &quot;27&quot;, &quot;properties&quot;: {&quot;Class&quot;: &quot;1&quot;, &quot;Confidence&quot;: 91.916936636, &quot;Shape_Area&quot;: 363.600140494, &quot;Shape_Leng&quot;: 76.3870569281}, &quot;type&quot;: &quot;Feature&quot;}, {&quot;bbox&quot;: [-117.59785594085714, 47.6557421774224, -117.59785594085714, 47.6557421774224], &quot;geometry&quot;: {&quot;coordinates&quot;: [-117.59785594085714, 47.6557421774224], &quot;type&quot;: &quot;Point&quot;}, &quot;id&quot;: &quot;28&quot;, &quot;properties&quot;: {&quot;Class&quot;: &quot;1&quot;, &quot;Confidence&quot;: 98.8500595093, &quot;Shape_Area&quot;: 439.020175549, &quot;Shape_Leng&quot;: 84.7993297614}, &quot;type&quot;: &quot;Feature&quot;}, {&quot;bbox&quot;: [-117.59757862036271, 47.65572913705214, -117.59757862036271, 47.65572913705214], &quot;geometry&quot;: {&quot;coordinates&quot;: [-117.59757862036271, 47.65572913705214], &quot;type&quot;: &quot;Point&quot;}, &quot;id&quot;: &quot;29&quot;, &quot;properties&quot;: {&quot;Class&quot;: &quot;1&quot;, &quot;Confidence&quot;: 97.6987719536, &quot;Shape_Area&quot;: 373.704455315, &quot;Shape_Leng&quot;: 77.3880171292}, &quot;type&quot;: &quot;Feature&quot;}, {&quot;bbox&quot;: [-117.59722699593176, 47.655303960694596, -117.59722699593176, 47.655303960694596], &quot;geometry&quot;: {&quot;coordinates&quot;: [-117.59722699593176, 47.655303960694596], &quot;type&quot;: &quot;Point&quot;}, &quot;id&quot;: &quot;30&quot;, &quot;properties&quot;: {&quot;Class&quot;: &quot;1&quot;, &quot;Confidence&quot;: 96.9611644745, &quot;Shape_Area&quot;: 374.811284339, &quot;Shape_Leng&quot;: 77.5657199882}, &quot;type&quot;: &quot;Feature&quot;}, {&quot;bbox&quot;: [-117.59730530825374, 47.65575756510964, -117.59730530825374, 47.65575756510964], &quot;geometry&quot;: {&quot;coordinates&quot;: [-117.59730530825374, 47.65575756510964], &quot;type&quot;: &quot;Point&quot;}, &quot;id&quot;: &quot;31&quot;, &quot;properties&quot;: {&quot;Class&quot;: &quot;1&quot;, &quot;Confidence&quot;: 96.0875988007, &quot;Shape_Area&quot;: 521.914138698, &quot;Shape_Leng&quot;: 93.5224249884}, &quot;type&quot;: &quot;Feature&quot;}, {&quot;bbox&quot;: [-117.59674400986782, 47.6553043188384, -117.59674400986782, 47.6553043188384], &quot;geometry&quot;: {&quot;coordinates&quot;: [-117.59674400986782, 47.6553043188384], &quot;type&quot;: &quot;Point&quot;}, &quot;id&quot;: &quot;32&quot;, &quot;properties&quot;: {&quot;Class&quot;: &quot;1&quot;, &quot;Confidence&quot;: 93.5818731785, &quot;Shape_Area&quot;: 378.920222096, &quot;Shape_Leng&quot;: 77.9698356017}, &quot;type&quot;: &quot;Feature&quot;}, {&quot;bbox&quot;: [-117.59694289510077, 47.65528822164361, -117.59694289510077, 47.65528822164361], &quot;geometry&quot;: {&quot;coordinates&quot;: [-117.59694289510077, 47.65528822164361], &quot;type&quot;: &quot;Point&quot;}, &quot;id&quot;: &quot;33&quot;, &quot;properties&quot;: {&quot;Class&quot;: &quot;1&quot;, &quot;Confidence&quot;: 93.1009292603, &quot;Shape_Area&quot;: 423.118012527, &quot;Shape_Leng&quot;: 83.3930921182}, &quot;type&quot;: &quot;Feature&quot;}, {&quot;bbox&quot;: [-117.59656944832884, 47.65502647784588, -117.59656944832884, 47.65502647784588], &quot;geometry&quot;: {&quot;coordinates&quot;: [-117.59656944832884, 47.65502647784588], &quot;type&quot;: &quot;Point&quot;}, &quot;id&quot;: &quot;34&quot;, &quot;properties&quot;: {&quot;Class&quot;: &quot;1&quot;, &quot;Confidence&quot;: 87.7661585808, &quot;Shape_Area&quot;: 407.847369726, &quot;Shape_Leng&quot;: 80.7888080068}, &quot;type&quot;: &quot;Feature&quot;}, {&quot;bbox&quot;: [-117.59879904295695, 47.654361932695224, -117.59879904295695, 47.654361932695224], &quot;geometry&quot;: {&quot;coordinates&quot;: [-117.59879904295695, 47.654361932695224], &quot;type&quot;: &quot;Point&quot;}, &quot;id&quot;: &quot;35&quot;, &quot;properties&quot;: {&quot;Class&quot;: &quot;1&quot;, &quot;Confidence&quot;: 93.890696764, &quot;Shape_Area&quot;: 359.991884491, &quot;Shape_Leng&quot;: 75.957947813}, &quot;type&quot;: &quot;Feature&quot;}, {&quot;bbox&quot;: [-117.59803412690246, 47.65421528282836, -117.59803412690246, 47.65421528282836], &quot;geometry&quot;: {&quot;coordinates&quot;: [-117.59803412690246, 47.65421528282836], &quot;type&quot;: &quot;Point&quot;}, &quot;id&quot;: &quot;36&quot;, &quot;properties&quot;: {&quot;Class&quot;: &quot;1&quot;, &quot;Confidence&quot;: 87.3813688755, &quot;Shape_Area&quot;: 360.183949738, &quot;Shape_Leng&quot;: 75.9667695425}, &quot;type&quot;: &quot;Feature&quot;}, {&quot;bbox&quot;: [-117.5966559105109, 47.654400294648006, -117.5966559105109, 47.654400294648006], &quot;geometry&quot;: {&quot;coordinates&quot;: [-117.5966559105109, 47.654400294648006], &quot;type&quot;: &quot;Point&quot;}, &quot;id&quot;: &quot;37&quot;, &quot;properties&quot;: {&quot;Class&quot;: &quot;1&quot;, &quot;Confidence&quot;: 88.338881731, &quot;Shape_Area&quot;: 3142.51630499, &quot;Shape_Leng&quot;: 224.316293616}, &quot;type&quot;: &quot;Feature&quot;}, {&quot;bbox&quot;: [-117.59672496700809, 47.654938836355925, -117.59672496700809, 47.654938836355925], &quot;geometry&quot;: {&quot;coordinates&quot;: [-117.59672496700809, 47.654938836355925], &quot;type&quot;: &quot;Point&quot;}, &quot;id&quot;: &quot;38&quot;, &quot;properties&quot;: {&quot;Class&quot;: &quot;1&quot;, &quot;Confidence&quot;: 86.4758849144, &quot;Shape_Area&quot;: 558.319224287, &quot;Shape_Leng&quot;: 94.5184657723}, &quot;type&quot;: &quot;Feature&quot;}, {&quot;bbox&quot;: [-117.59684814947852, 47.6548246303293, -117.59684814947852, 47.6548246303293], &quot;geometry&quot;: {&quot;coordinates&quot;: [-117.59684814947852, 47.6548246303293], &quot;type&quot;: &quot;Point&quot;}, &quot;id&quot;: &quot;39&quot;, &quot;properties&quot;: {&quot;Class&quot;: &quot;1&quot;, &quot;Confidence&quot;: 82.2850108147, &quot;Shape_Area&quot;: 439.271336605, &quot;Shape_Leng&quot;: 83.8504171818}, &quot;type&quot;: &quot;Feature&quot;}, {&quot;bbox&quot;: [-117.59702346469739, 47.65475091094095, -117.59702346469739, 47.65475091094095], &quot;geometry&quot;: {&quot;coordinates&quot;: [-117.59702346469739, 47.65475091094095], &quot;type&quot;: &quot;Point&quot;}, &quot;id&quot;: &quot;40&quot;, &quot;properties&quot;: {&quot;Class&quot;: &quot;1&quot;, &quot;Confidence&quot;: 78.519141674, &quot;Shape_Area&quot;: 567.961639111, &quot;Shape_Leng&quot;: 95.3967977501}, &quot;type&quot;: &quot;Feature&quot;}, {&quot;bbox&quot;: [-117.59691714229604, 47.654087815815735, -117.59691714229604, 47.654087815815735], &quot;geometry&quot;: {&quot;coordinates&quot;: [-117.59691714229604, 47.654087815815735], &quot;type&quot;: &quot;Point&quot;}, &quot;id&quot;: &quot;41&quot;, &quot;properties&quot;: {&quot;Class&quot;: &quot;1&quot;, &quot;Confidence&quot;: 60.8731627464, &quot;Shape_Area&quot;: 877.673866537, &quot;Shape_Leng&quot;: 118.510007299}, &quot;type&quot;: &quot;Feature&quot;}, {&quot;bbox&quot;: [-117.597587032963, 47.65406116227802, -117.597587032963, 47.65406116227802], &quot;geometry&quot;: {&quot;coordinates&quot;: [-117.597587032963, 47.65406116227802], &quot;type&quot;: &quot;Point&quot;}, &quot;id&quot;: &quot;42&quot;, &quot;properties&quot;: {&quot;Class&quot;: &quot;1&quot;, &quot;Confidence&quot;: 47.2385823727, &quot;Shape_Area&quot;: 2194.13447794, &quot;Shape_Leng&quot;: 190.078737769}, &quot;type&quot;: &quot;Feature&quot;}, {&quot;bbox&quot;: [-117.59730015183229, 47.65453725525114, -117.59730015183229, 47.65453725525114], &quot;geometry&quot;: {&quot;coordinates&quot;: [-117.59730015183229, 47.65453725525114], &quot;type&quot;: &quot;Point&quot;}, &quot;id&quot;: &quot;43&quot;, &quot;properties&quot;: {&quot;Class&quot;: &quot;1&quot;, &quot;Confidence&quot;: 40.2263909578, &quot;Shape_Area&quot;: 548.560896999, &quot;Shape_Leng&quot;: 93.8003664538}, &quot;type&quot;: &quot;Feature&quot;}, {&quot;bbox&quot;: [-117.59661900949648, 47.654423771337896, -117.59661900949648, 47.654423771337896], &quot;geometry&quot;: {&quot;coordinates&quot;: [-117.59661900949648, 47.654423771337896], &quot;type&quot;: &quot;Point&quot;}, &quot;id&quot;: &quot;44&quot;, &quot;properties&quot;: {&quot;Class&quot;: &quot;1&quot;, &quot;Confidence&quot;: 36.386141181, &quot;Shape_Area&quot;: 812.785793165, &quot;Shape_Leng&quot;: 114.062229771}, &quot;type&quot;: &quot;Feature&quot;}, {&quot;bbox&quot;: [-117.5971592385666, 47.654647195573446, -117.5971592385666, 47.654647195573446], &quot;geometry&quot;: {&quot;coordinates&quot;: [-117.5971592385666, 47.654647195573446], &quot;type&quot;: &quot;Point&quot;}, &quot;id&quot;: &quot;45&quot;, &quot;properties&quot;: {&quot;Class&quot;: &quot;1&quot;, &quot;Confidence&quot;: 35.4663133621, &quot;Shape_Area&quot;: 344.617369165, &quot;Shape_Leng&quot;: 74.2841340229}, &quot;type&quot;: &quot;Feature&quot;}, {&quot;bbox&quot;: [-117.59676348653548, 47.6543263094609, -117.59676348653548, 47.6543263094609], &quot;geometry&quot;: {&quot;coordinates&quot;: [-117.59676348653548, 47.6543263094609], &quot;type&quot;: &quot;Point&quot;}, &quot;id&quot;: &quot;46&quot;, &quot;properties&quot;: {&quot;Class&quot;: &quot;1&quot;, &quot;Confidence&quot;: 33.3549469709, &quot;Shape_Area&quot;: 1019.38332798, &quot;Shape_Leng&quot;: 127.711253535}, &quot;type&quot;: &quot;Feature&quot;}, {&quot;bbox&quot;: [-117.59743060803439, 47.65439737115405, -117.59743060803439, 47.65439737115405], &quot;geometry&quot;: {&quot;coordinates&quot;: [-117.59743060803439, 47.65439737115405], &quot;type&quot;: &quot;Point&quot;}, &quot;id&quot;: &quot;47&quot;, &quot;properties&quot;: {&quot;Class&quot;: &quot;1&quot;, &quot;Confidence&quot;: 29.9531906843, &quot;Shape_Area&quot;: 460.971945992, &quot;Shape_Leng&quot;: 86.4786119461}, &quot;type&quot;: &quot;Feature&quot;}, {&quot;bbox&quot;: [-117.59655724866691, 47.65446176321369, -117.59655724866691, 47.65446176321369], &quot;geometry&quot;: {&quot;coordinates&quot;: [-117.59655724866691, 47.65446176321369], &quot;type&quot;: &quot;Point&quot;}, &quot;id&quot;: &quot;48&quot;, &quot;properties&quot;: {&quot;Class&quot;: &quot;1&quot;, &quot;Confidence&quot;: 20.4362332821, &quot;Shape_Area&quot;: 858.750936272, &quot;Shape_Leng&quot;: 117.229364999}, &quot;type&quot;: &quot;Feature&quot;}, {&quot;bbox&quot;: [-117.59655724866691, 47.65446176321369, -117.59655724866691, 47.65446176321369], &quot;geometry&quot;: {&quot;coordinates&quot;: [-117.59655724866691, 47.65446176321369], &quot;type&quot;: &quot;Point&quot;}, &quot;id&quot;: &quot;49&quot;, &quot;properties&quot;: {&quot;Class&quot;: &quot;1&quot;, &quot;Confidence&quot;: 20.4362332821, &quot;Shape_Area&quot;: 858.750936272, &quot;Shape_Leng&quot;: 117.229364999}, &quot;type&quot;: &quot;Feature&quot;}, {&quot;bbox&quot;: [-117.59644375321001, 47.655121910698185, -117.59644375321001, 47.655121910698185], &quot;geometry&quot;: {&quot;coordinates&quot;: [-117.59644375321001, 47.655121910698185], &quot;type&quot;: &quot;Point&quot;}, &quot;id&quot;: &quot;50&quot;, &quot;properties&quot;: {&quot;Class&quot;: &quot;1&quot;, &quot;Confidence&quot;: 27.7328968048, &quot;Shape_Area&quot;: 535.800002643, &quot;Shape_Leng&quot;: 92.5957306251}, &quot;type&quot;: &quot;Feature&quot;}, {&quot;bbox&quot;: [-117.59447987806938, 47.65537398446288, -117.59447987806938, 47.65537398446288], &quot;geometry&quot;: {&quot;coordinates&quot;: [-117.59447987806938, 47.65537398446288], &quot;type&quot;: &quot;Point&quot;}, &quot;id&quot;: &quot;51&quot;, &quot;properties&quot;: {&quot;Class&quot;: &quot;1&quot;, &quot;Confidence&quot;: 91.2089467049, &quot;Shape_Area&quot;: 352.439541604, &quot;Shape_Leng&quot;: 82.6753415763}, &quot;type&quot;: &quot;Feature&quot;}, {&quot;bbox&quot;: [-117.59438352915843, 47.655656196997995, -117.59438352915843, 47.655656196997995], &quot;geometry&quot;: {&quot;coordinates&quot;: [-117.59438352915843, 47.655656196997995], &quot;type&quot;: &quot;Point&quot;}, &quot;id&quot;: &quot;52&quot;, &quot;properties&quot;: {&quot;Class&quot;: &quot;1&quot;, &quot;Confidence&quot;: 88.8782083988, &quot;Shape_Area&quot;: 420.57246127, &quot;Shape_Leng&quot;: 84.1563967988}, &quot;type&quot;: &quot;Feature&quot;}, {&quot;bbox&quot;: [-117.59438083742097, 47.65577876140636, -117.59438083742097, 47.65577876140636], &quot;geometry&quot;: {&quot;coordinates&quot;: [-117.59438083742097, 47.65577876140636], &quot;type&quot;: &quot;Point&quot;}, &quot;id&quot;: &quot;53&quot;, &quot;properties&quot;: {&quot;Class&quot;: &quot;1&quot;, &quot;Confidence&quot;: 87.1544837952, &quot;Shape_Area&quot;: 278.143819886, &quot;Shape_Leng&quot;: 70.072356075}, &quot;type&quot;: &quot;Feature&quot;}, {&quot;bbox&quot;: [-117.59408266958943, 47.655378451111964, -117.59408266958943, 47.655378451111964], &quot;geometry&quot;: {&quot;coordinates&quot;: [-117.59408266958943, 47.655378451111964], &quot;type&quot;: &quot;Point&quot;}, &quot;id&quot;: &quot;54&quot;, &quot;properties&quot;: {&quot;Class&quot;: &quot;1&quot;, &quot;Confidence&quot;: 80.033069849, &quot;Shape_Area&quot;: 1902.28509461, &quot;Shape_Leng&quot;: 189.041322123}, &quot;type&quot;: &quot;Feature&quot;}, {&quot;bbox&quot;: [-117.59426605150819, 47.65538314094848, -117.59426605150819, 47.65538314094848], &quot;geometry&quot;: {&quot;coordinates&quot;: [-117.59426605150819, 47.65538314094848], &quot;type&quot;: &quot;Point&quot;}, &quot;id&quot;: &quot;55&quot;, &quot;properties&quot;: {&quot;Class&quot;: &quot;1&quot;, &quot;Confidence&quot;: 62.6980602741, &quot;Shape_Area&quot;: 599.796422173, &quot;Shape_Leng&quot;: 98.3549445458}, &quot;type&quot;: &quot;Feature&quot;}, {&quot;bbox&quot;: [-117.59388580868449, 47.65538309937308, -117.59388580868449, 47.65538309937308], &quot;geometry&quot;: {&quot;coordinates&quot;: [-117.59388580868449, 47.65538309937308], &quot;type&quot;: &quot;Point&quot;}, &quot;id&quot;: &quot;56&quot;, &quot;properties&quot;: {&quot;Class&quot;: &quot;1&quot;, &quot;Confidence&quot;: 36.4588171244, &quot;Shape_Area&quot;: 541.483901518, &quot;Shape_Leng&quot;: 94.5989132337}, &quot;type&quot;: &quot;Feature&quot;}, {&quot;bbox&quot;: [-117.59407794713965, 47.655378517610586, -117.59407794713965, 47.655378517610586], &quot;geometry&quot;: {&quot;coordinates&quot;: [-117.59407794713965, 47.655378517610586], &quot;type&quot;: &quot;Point&quot;}, &quot;id&quot;: &quot;57&quot;, &quot;properties&quot;: {&quot;Class&quot;: &quot;1&quot;, &quot;Confidence&quot;: 34.4998210669, &quot;Shape_Area&quot;: 439.51527615, &quot;Shape_Leng&quot;: 86.8572317436}, &quot;type&quot;: &quot;Feature&quot;}, {&quot;bbox&quot;: [-117.59541406697079, 47.65410619452826, -117.59541406697079, 47.65410619452826], &quot;geometry&quot;: {&quot;coordinates&quot;: [-117.59541406697079, 47.65410619452826], &quot;type&quot;: &quot;Point&quot;}, &quot;id&quot;: &quot;58&quot;, &quot;properties&quot;: {&quot;Class&quot;: &quot;1&quot;, &quot;Confidence&quot;: 97.0828175545, &quot;Shape_Area&quot;: 513.561393015, &quot;Shape_Leng&quot;: 90.7475720234}, &quot;type&quot;: &quot;Feature&quot;}, {&quot;bbox&quot;: [-117.59530162476689, 47.65455522004402, -117.59530162476689, 47.65455522004402], &quot;geometry&quot;: {&quot;coordinates&quot;: [-117.59530162476689, 47.65455522004402], &quot;type&quot;: &quot;Point&quot;}, &quot;id&quot;: &quot;59&quot;, &quot;properties&quot;: {&quot;Class&quot;: &quot;1&quot;, &quot;Confidence&quot;: 96.9401478767, &quot;Shape_Area&quot;: 401.899070282, &quot;Shape_Leng&quot;: 80.62942148}, &quot;type&quot;: &quot;Feature&quot;}, {&quot;bbox&quot;: [-117.59622633095381, 47.654259088536584, -117.59622633095381, 47.654259088536584], &quot;geometry&quot;: {&quot;coordinates&quot;: [-117.59622633095381, 47.654259088536584], &quot;type&quot;: &quot;Point&quot;}, &quot;id&quot;: &quot;60&quot;, &quot;properties&quot;: {&quot;Class&quot;: &quot;1&quot;, &quot;Confidence&quot;: 95.9913790226, &quot;Shape_Area&quot;: 1592.14734518, &quot;Shape_Leng&quot;: 159.613325935}, &quot;type&quot;: &quot;Feature&quot;}, {&quot;bbox&quot;: [-117.5959848222065, 47.65487455316084, -117.5959848222065, 47.65487455316084], &quot;geometry&quot;: {&quot;coordinates&quot;: [-117.5959848222065, 47.65487455316084], &quot;type&quot;: &quot;Point&quot;}, &quot;id&quot;: &quot;61&quot;, &quot;properties&quot;: {&quot;Class&quot;: &quot;1&quot;, &quot;Confidence&quot;: 91.7335271835, &quot;Shape_Area&quot;: 3836.52051509, &quot;Shape_Leng&quot;: 247.764236838}, &quot;type&quot;: &quot;Feature&quot;}, {&quot;bbox&quot;: [-117.59649588137478, 47.65450995184061, -117.59649588137478, 47.65450995184061], &quot;geometry&quot;: {&quot;coordinates&quot;: [-117.59649588137478, 47.65450995184061], &quot;type&quot;: &quot;Point&quot;}, &quot;id&quot;: &quot;62&quot;, &quot;properties&quot;: {&quot;Class&quot;: &quot;1&quot;, &quot;Confidence&quot;: 42.8160130978, &quot;Shape_Area&quot;: 933.519862201, &quot;Shape_Leng&quot;: 122.319177587}, &quot;type&quot;: &quot;Feature&quot;}, {&quot;bbox&quot;: [-117.59540175370029, 47.654933625363, -117.59540175370029, 47.654933625363], &quot;geometry&quot;: {&quot;coordinates&quot;: [-117.59540175370029, 47.654933625363], &quot;type&quot;: &quot;Point&quot;}, &quot;id&quot;: &quot;63&quot;, &quot;properties&quot;: {&quot;Class&quot;: &quot;1&quot;, &quot;Confidence&quot;: 38.6963009834, &quot;Shape_Area&quot;: 554.524934725, &quot;Shape_Leng&quot;: 94.4711194932}, &quot;type&quot;: &quot;Feature&quot;}, {&quot;bbox&quot;: [-117.59598646789382, 47.65486953606916, -117.59598646789382, 47.65486953606916], &quot;geometry&quot;: {&quot;coordinates&quot;: [-117.59598646789382, 47.65486953606916], &quot;type&quot;: &quot;Point&quot;}, &quot;id&quot;: &quot;64&quot;, &quot;properties&quot;: {&quot;Class&quot;: &quot;1&quot;, &quot;Confidence&quot;: 36.0471099615, &quot;Shape_Area&quot;: 748.144403146, &quot;Shape_Leng&quot;: 109.440842964}, &quot;type&quot;: &quot;Feature&quot;}, {&quot;bbox&quot;: [-117.595889913538, 47.654941789823866, -117.595889913538, 47.654941789823866], &quot;geometry&quot;: {&quot;coordinates&quot;: [-117.595889913538, 47.654941789823866], &quot;type&quot;: &quot;Point&quot;}, &quot;id&quot;: &quot;65&quot;, &quot;properties&quot;: {&quot;Class&quot;: &quot;1&quot;, &quot;Confidence&quot;: 34.9396884441, &quot;Shape_Area&quot;: 868.882543793, &quot;Shape_Leng&quot;: 117.907415777}, &quot;type&quot;: &quot;Feature&quot;}, {&quot;bbox&quot;: [-117.59613057906078, 47.654779649829585, -117.59613057906078, 47.654779649829585], &quot;geometry&quot;: {&quot;coordinates&quot;: [-117.59613057906078, 47.654779649829585], &quot;type&quot;: &quot;Point&quot;}, &quot;id&quot;: &quot;66&quot;, &quot;properties&quot;: {&quot;Class&quot;: &quot;1&quot;, &quot;Confidence&quot;: 33.8283658028, &quot;Shape_Area&quot;: 889.567192695, &quot;Shape_Leng&quot;: 119.334626462}, &quot;type&quot;: &quot;Feature&quot;}, {&quot;bbox&quot;: [-117.59613057906078, 47.654779649829585, -117.59613057906078, 47.654779649829585], &quot;geometry&quot;: {&quot;coordinates&quot;: [-117.59613057906078, 47.654779649829585], &quot;type&quot;: &quot;Point&quot;}, &quot;id&quot;: &quot;67&quot;, &quot;properties&quot;: {&quot;Class&quot;: &quot;1&quot;, &quot;Confidence&quot;: 33.8283658028, &quot;Shape_Area&quot;: 889.567192695, &quot;Shape_Leng&quot;: 119.334626462}, &quot;type&quot;: &quot;Feature&quot;}, {&quot;bbox&quot;: [-117.59604274326271, 47.65483858669479, -117.59604274326271, 47.65483858669479], &quot;geometry&quot;: {&quot;coordinates&quot;: [-117.59604274326271, 47.65483858669479], &quot;type&quot;: &quot;Point&quot;}, &quot;id&quot;: &quot;68&quot;, &quot;properties&quot;: {&quot;Class&quot;: &quot;1&quot;, &quot;Confidence&quot;: 26.7113983631, &quot;Shape_Area&quot;: 1658.09300852, &quot;Shape_Leng&quot;: 163.198468003}, &quot;type&quot;: &quot;Feature&quot;}, {&quot;bbox&quot;: [-117.59603985999499, 47.654840802381216, -117.59603985999499, 47.654840802381216], &quot;geometry&quot;: {&quot;coordinates&quot;: [-117.59603985999499, 47.654840802381216], &quot;type&quot;: &quot;Point&quot;}, &quot;id&quot;: &quot;69&quot;, &quot;properties&quot;: {&quot;Class&quot;: &quot;1&quot;, &quot;Confidence&quot;: 22.1319898963, &quot;Shape_Area&quot;: 794.065315732, &quot;Shape_Leng&quot;: 112.735348709}, &quot;type&quot;: &quot;Feature&quot;}, {&quot;bbox&quot;: [-117.59595242313647, 47.65490485642329, -117.59595242313647, 47.65490485642329], &quot;geometry&quot;: {&quot;coordinates&quot;: [-117.59595242313647, 47.65490485642329], &quot;type&quot;: &quot;Point&quot;}, &quot;id&quot;: &quot;70&quot;, &quot;properties&quot;: {&quot;Class&quot;: &quot;1&quot;, &quot;Confidence&quot;: 21.8271031976, &quot;Shape_Area&quot;: 1831.59264783, &quot;Shape_Leng&quot;: 171.29067852}, &quot;type&quot;: &quot;Feature&quot;}, {&quot;bbox&quot;: [-117.5950515143445, 47.654574655685444, -117.5950515143445, 47.654574655685444], &quot;geometry&quot;: {&quot;coordinates&quot;: [-117.5950515143445, 47.654574655685444], &quot;type&quot;: &quot;Point&quot;}, &quot;id&quot;: &quot;71&quot;, &quot;properties&quot;: {&quot;Class&quot;: &quot;1&quot;, &quot;Confidence&quot;: 97.852063179, &quot;Shape_Area&quot;: 533.78315548, &quot;Shape_Leng&quot;: 92.4150241464}, &quot;type&quot;: &quot;Feature&quot;}, {&quot;bbox&quot;: [-117.5947412719186, 47.65411711452919, -117.5947412719186, 47.65411711452919], &quot;geometry&quot;: {&quot;coordinates&quot;: [-117.5947412719186, 47.65411711452919], &quot;type&quot;: &quot;Point&quot;}, &quot;id&quot;: &quot;72&quot;, &quot;properties&quot;: {&quot;Class&quot;: &quot;1&quot;, &quot;Confidence&quot;: 97.8020727634, &quot;Shape_Area&quot;: 497.809967621, &quot;Shape_Leng&quot;: 89.4037404433}, &quot;type&quot;: &quot;Feature&quot;}, {&quot;bbox&quot;: [-117.59480457956005, 47.65460509403315, -117.59480457956005, 47.65460509403315], &quot;geometry&quot;: {&quot;coordinates&quot;: [-117.59480457956005, 47.65460509403315], &quot;type&quot;: &quot;Point&quot;}, &quot;id&quot;: &quot;73&quot;, &quot;properties&quot;: {&quot;Class&quot;: &quot;1&quot;, &quot;Confidence&quot;: 97.4301099777, &quot;Shape_Area&quot;: 383.34052143, &quot;Shape_Leng&quot;: 79.0813972764}, &quot;type&quot;: &quot;Feature&quot;}, {&quot;bbox&quot;: [-117.59409924809253, 47.654936287960794, -117.59409924809253, 47.654936287960794], &quot;geometry&quot;: {&quot;coordinates&quot;: [-117.59409924809253, 47.654936287960794], &quot;type&quot;: &quot;Point&quot;}, &quot;id&quot;: &quot;74&quot;, &quot;properties&quot;: {&quot;Class&quot;: &quot;1&quot;, &quot;Confidence&quot;: 91.8605685234, &quot;Shape_Area&quot;: 1923.35501009, &quot;Shape_Leng&quot;: 192.572618201}, &quot;type&quot;: &quot;Feature&quot;}, {&quot;bbox&quot;: [-117.59516578918239, 47.654929538086336, -117.59516578918239, 47.654929538086336], &quot;geometry&quot;: {&quot;coordinates&quot;: [-117.59516578918239, 47.654929538086336], &quot;type&quot;: &quot;Point&quot;}, &quot;id&quot;: &quot;75&quot;, &quot;properties&quot;: {&quot;Class&quot;: &quot;1&quot;, &quot;Confidence&quot;: 91.7629778385, &quot;Shape_Area&quot;: 2258.7742304, &quot;Shape_Leng&quot;: 212.675542124}, &quot;type&quot;: &quot;Feature&quot;}, {&quot;bbox&quot;: [-117.59465482316007, 47.654962241014765, -117.59465482316007, 47.654962241014765], &quot;geometry&quot;: {&quot;coordinates&quot;: [-117.59465482316007, 47.654962241014765], &quot;type&quot;: &quot;Point&quot;}, &quot;id&quot;: &quot;76&quot;, &quot;properties&quot;: {&quot;Class&quot;: &quot;1&quot;, &quot;Confidence&quot;: 88.981705904, &quot;Shape_Area&quot;: 488.077086529, &quot;Shape_Leng&quot;: 88.8796290383}, &quot;type&quot;: &quot;Feature&quot;}, {&quot;bbox&quot;: [-117.59389497889357, 47.65459472975248, -117.59389497889357, 47.65459472975248], &quot;geometry&quot;: {&quot;coordinates&quot;: [-117.59389497889357, 47.65459472975248], &quot;type&quot;: &quot;Point&quot;}, &quot;id&quot;: &quot;77&quot;, &quot;properties&quot;: {&quot;Class&quot;: &quot;1&quot;, &quot;Confidence&quot;: 84.9350810051, &quot;Shape_Area&quot;: 328.218054333, &quot;Shape_Leng&quot;: 78.8474367894}, &quot;type&quot;: &quot;Feature&quot;}, {&quot;bbox&quot;: [-117.59442574243779, 47.65417714906543, -117.59442574243779, 47.65417714906543], &quot;geometry&quot;: {&quot;coordinates&quot;: [-117.59442574243779, 47.65417714906543], &quot;type&quot;: &quot;Point&quot;}, &quot;id&quot;: &quot;78&quot;, &quot;properties&quot;: {&quot;Class&quot;: &quot;1&quot;, &quot;Confidence&quot;: 84.4098269939, &quot;Shape_Area&quot;: 236.079892431, &quot;Shape_Leng&quot;: 64.2949770838}, &quot;type&quot;: &quot;Feature&quot;}, {&quot;bbox&quot;: [-117.59454598712801, 47.65460952279089, -117.59454598712801, 47.65460952279089], &quot;geometry&quot;: {&quot;coordinates&quot;: [-117.59454598712801, 47.65460952279089], &quot;type&quot;: &quot;Point&quot;}, &quot;id&quot;: &quot;79&quot;, &quot;properties&quot;: {&quot;Class&quot;: &quot;1&quot;, &quot;Confidence&quot;: 82.4222743511, &quot;Shape_Area&quot;: 350.887208767, &quot;Shape_Leng&quot;: 80.9534366131}, &quot;type&quot;: &quot;Feature&quot;}, {&quot;bbox&quot;: [-117.59437640177558, 47.65457796404435, -117.59437640177558, 47.65457796404435], &quot;geometry&quot;: {&quot;coordinates&quot;: [-117.59437640177558, 47.65457796404435], &quot;type&quot;: &quot;Point&quot;}, &quot;id&quot;: &quot;80&quot;, &quot;properties&quot;: {&quot;Class&quot;: &quot;1&quot;, &quot;Confidence&quot;: 82.0810735226, &quot;Shape_Area&quot;: 292.008592382, &quot;Shape_Leng&quot;: 70.8889386877}, &quot;type&quot;: &quot;Feature&quot;}, {&quot;bbox&quot;: [-117.59420656776113, 47.654580454653114, -117.59420656776113, 47.654580454653114], &quot;geometry&quot;: {&quot;coordinates&quot;: [-117.59420656776113, 47.654580454653114], &quot;type&quot;: &quot;Point&quot;}, &quot;id&quot;: &quot;81&quot;, &quot;properties&quot;: {&quot;Class&quot;: &quot;1&quot;, &quot;Confidence&quot;: 82.0649445057, &quot;Shape_Area&quot;: 319.182009463, &quot;Shape_Leng&quot;: 73.9439162724}, &quot;type&quot;: &quot;Feature&quot;}, {&quot;bbox&quot;: [-117.59403035136758, 47.654187423753164, -117.59403035136758, 47.654187423753164], &quot;geometry&quot;: {&quot;coordinates&quot;: [-117.59403035136758, 47.654187423753164], &quot;type&quot;: &quot;Point&quot;}, &quot;id&quot;: &quot;82&quot;, &quot;properties&quot;: {&quot;Class&quot;: &quot;1&quot;, &quot;Confidence&quot;: 81.7467331886, &quot;Shape_Area&quot;: 260.9269888, &quot;Shape_Leng&quot;: 68.0650845245}, &quot;type&quot;: &quot;Feature&quot;}, {&quot;bbox&quot;: [-117.59420454916267, 47.65418301809535, -117.59420454916267, 47.65418301809535], &quot;geometry&quot;: {&quot;coordinates&quot;: [-117.59420454916267, 47.65418301809535], &quot;type&quot;: &quot;Point&quot;}, &quot;id&quot;: &quot;83&quot;, &quot;properties&quot;: {&quot;Class&quot;: &quot;1&quot;, &quot;Confidence&quot;: 80.4299235344, &quot;Shape_Area&quot;: 240.153586521, &quot;Shape_Leng&quot;: 65.3666975945}, &quot;type&quot;: &quot;Feature&quot;}, {&quot;bbox&quot;: [-117.59405123848408, 47.65458408951462, -117.59405123848408, 47.65458408951462], &quot;geometry&quot;: {&quot;coordinates&quot;: [-117.59405123848408, 47.65458408951462], &quot;type&quot;: &quot;Point&quot;}, &quot;id&quot;: &quot;84&quot;, &quot;properties&quot;: {&quot;Class&quot;: &quot;1&quot;, &quot;Confidence&quot;: 78.1203746796, &quot;Shape_Area&quot;: 284.103718101, &quot;Shape_Leng&quot;: 70.068463929}, &quot;type&quot;: &quot;Feature&quot;}, {&quot;bbox&quot;: [-117.59429936075644, 47.654943127367964, -117.59429936075644, 47.654943127367964], &quot;geometry&quot;: {&quot;coordinates&quot;: [-117.59429936075644, 47.654943127367964], &quot;type&quot;: &quot;Point&quot;}, &quot;id&quot;: &quot;85&quot;, &quot;properties&quot;: {&quot;Class&quot;: &quot;1&quot;, &quot;Confidence&quot;: 34.1071128845, &quot;Shape_Area&quot;: 648.698800689, &quot;Shape_Leng&quot;: 102.273328524}, &quot;type&quot;: &quot;Feature&quot;}, {&quot;bbox&quot;: [-117.60109635942703, 47.6539560906921, -117.60109635942703, 47.6539560906921], &quot;geometry&quot;: {&quot;coordinates&quot;: [-117.60109635942703, 47.6539560906921], &quot;type&quot;: &quot;Point&quot;}, &quot;id&quot;: &quot;86&quot;, &quot;properties&quot;: {&quot;Class&quot;: &quot;1&quot;, &quot;Confidence&quot;: 87.0284497738, &quot;Shape_Area&quot;: 632.644472075, &quot;Shape_Leng&quot;: 107.146429494}, &quot;type&quot;: &quot;Feature&quot;}, {&quot;bbox&quot;: [-117.60109562473646, 47.65363088864502, -117.60109562473646, 47.65363088864502], &quot;geometry&quot;: {&quot;coordinates&quot;: [-117.60109562473646, 47.65363088864502], &quot;type&quot;: &quot;Point&quot;}, &quot;id&quot;: &quot;87&quot;, &quot;properties&quot;: {&quot;Class&quot;: &quot;1&quot;, &quot;Confidence&quot;: 86.9455456734, &quot;Shape_Area&quot;: 566.055160056, &quot;Shape_Leng&quot;: 101.145971425}, &quot;type&quot;: &quot;Feature&quot;}, {&quot;bbox&quot;: [-117.60173057962092, 47.653634808719566, -117.60173057962092, 47.653634808719566], &quot;geometry&quot;: {&quot;coordinates&quot;: [-117.60173057962092, 47.653634808719566], &quot;type&quot;: &quot;Point&quot;}, &quot;id&quot;: &quot;88&quot;, &quot;properties&quot;: {&quot;Class&quot;: &quot;1&quot;, &quot;Confidence&quot;: 63.7299239635, &quot;Shape_Area&quot;: 533.385145482, &quot;Shape_Leng&quot;: 100.343910094}, &quot;type&quot;: &quot;Feature&quot;}, {&quot;bbox&quot;: [-117.60172253060077, 47.65396163204754, -117.60172253060077, 47.65396163204754], &quot;geometry&quot;: {&quot;coordinates&quot;: [-117.60172253060077, 47.65396163204754], &quot;type&quot;: &quot;Point&quot;}, &quot;id&quot;: &quot;89&quot;, &quot;properties&quot;: {&quot;Class&quot;: &quot;1&quot;, &quot;Confidence&quot;: 50.9253025055, &quot;Shape_Area&quot;: 520.899529273, &quot;Shape_Leng&quot;: 97.8102071248}, &quot;type&quot;: &quot;Feature&quot;}, {&quot;bbox&quot;: [-117.59984838184246, 47.6536459967389, -117.59984838184246, 47.6536459967389], &quot;geometry&quot;: {&quot;coordinates&quot;: [-117.59984838184246, 47.6536459967389], &quot;type&quot;: &quot;Point&quot;}, &quot;id&quot;: &quot;90&quot;, &quot;properties&quot;: {&quot;Class&quot;: &quot;1&quot;, &quot;Confidence&quot;: 94.535523653, &quot;Shape_Area&quot;: 421.871410074, &quot;Shape_Leng&quot;: 82.7355297133}, &quot;type&quot;: &quot;Feature&quot;}, {&quot;bbox&quot;: [-117.59985281470497, 47.65383860528188, -117.59985281470497, 47.65383860528188], &quot;geometry&quot;: {&quot;coordinates&quot;: [-117.59985281470497, 47.65383860528188], &quot;type&quot;: &quot;Point&quot;}, &quot;id&quot;: &quot;91&quot;, &quot;properties&quot;: {&quot;Class&quot;: &quot;1&quot;, &quot;Confidence&quot;: 92.5930500031, &quot;Shape_Area&quot;: 634.545266852, &quot;Shape_Leng&quot;: 104.941776168}, &quot;type&quot;: &quot;Feature&quot;}, {&quot;bbox&quot;: [-117.60064217264562, 47.65359399892763, -117.60064217264562, 47.65359399892763], &quot;geometry&quot;: {&quot;coordinates&quot;: [-117.60064217264562, 47.65359399892763], &quot;type&quot;: &quot;Point&quot;}, &quot;id&quot;: &quot;92&quot;, &quot;properties&quot;: {&quot;Class&quot;: &quot;1&quot;, &quot;Confidence&quot;: 88.9675319195, &quot;Shape_Area&quot;: 241.844589939, &quot;Shape_Leng&quot;: 62.3500877991}, &quot;type&quot;: &quot;Feature&quot;}, {&quot;bbox&quot;: [-117.59930734523473, 47.653638171359866, -117.59930734523473, 47.653638171359866], &quot;geometry&quot;: {&quot;coordinates&quot;: [-117.59930734523473, 47.653638171359866], &quot;type&quot;: &quot;Point&quot;}, &quot;id&quot;: &quot;93&quot;, &quot;properties&quot;: {&quot;Class&quot;: &quot;1&quot;, &quot;Confidence&quot;: 85.610717535, &quot;Shape_Area&quot;: 388.113493535, &quot;Shape_Leng&quot;: 79.9326337241}, &quot;type&quot;: &quot;Feature&quot;}, {&quot;bbox&quot;: [-117.60059845675374, 47.65396285730985, -117.60059845675374, 47.65396285730985], &quot;geometry&quot;: {&quot;coordinates&quot;: [-117.60059845675374, 47.65396285730985], &quot;type&quot;: &quot;Point&quot;}, &quot;id&quot;: &quot;94&quot;, &quot;properties&quot;: {&quot;Class&quot;: &quot;1&quot;, &quot;Confidence&quot;: 64.8636162281, &quot;Shape_Area&quot;: 309.22063781, &quot;Shape_Leng&quot;: 70.5080896989}, &quot;type&quot;: &quot;Feature&quot;}, {&quot;bbox&quot;: [-117.60103050263186, 47.652789224917576, -117.60103050263186, 47.652789224917576], &quot;geometry&quot;: {&quot;coordinates&quot;: [-117.60103050263186, 47.652789224917576], &quot;type&quot;: &quot;Point&quot;}, &quot;id&quot;: &quot;95&quot;, &quot;properties&quot;: {&quot;Class&quot;: &quot;1&quot;, &quot;Confidence&quot;: 98.2855200768, &quot;Shape_Area&quot;: 2462.20597266, &quot;Shape_Leng&quot;: 222.700134668}, &quot;type&quot;: &quot;Feature&quot;}, {&quot;bbox&quot;: [-117.60080995695837, 47.652702487071586, -117.60080995695837, 47.652702487071586], &quot;geometry&quot;: {&quot;coordinates&quot;: [-117.60080995695837, 47.652702487071586], &quot;type&quot;: &quot;Point&quot;}, &quot;id&quot;: &quot;96&quot;, &quot;properties&quot;: {&quot;Class&quot;: &quot;1&quot;, &quot;Confidence&quot;: 33.1597596407, &quot;Shape_Area&quot;: 221.911242609, &quot;Shape_Leng&quot;: 69.4754582681}, &quot;type&quot;: &quot;Feature&quot;}, {&quot;bbox&quot;: [-117.6008158189316, 47.65295733375676, -117.6008158189316, 47.65295733375676], &quot;geometry&quot;: {&quot;coordinates&quot;: [-117.6008158189316, 47.65295733375676], &quot;type&quot;: &quot;Point&quot;}, &quot;id&quot;: &quot;97&quot;, &quot;properties&quot;: {&quot;Class&quot;: &quot;1&quot;, &quot;Confidence&quot;: 22.2967907786, &quot;Shape_Area&quot;: 335.953122766, &quot;Shape_Leng&quot;: 97.4745799862}, &quot;type&quot;: &quot;Feature&quot;}, {&quot;bbox&quot;: [-117.5997508005895, 47.65266665603089, -117.5997508005895, 47.65266665603089], &quot;geometry&quot;: {&quot;coordinates&quot;: [-117.5997508005895, 47.65266665603089], &quot;type&quot;: &quot;Point&quot;}, &quot;id&quot;: &quot;98&quot;, &quot;properties&quot;: {&quot;Class&quot;: &quot;1&quot;, &quot;Confidence&quot;: 98.2397437096, &quot;Shape_Area&quot;: 2407.97608846, &quot;Shape_Leng&quot;: 222.079076726}, &quot;type&quot;: &quot;Feature&quot;}, {&quot;bbox&quot;: [-117.60017175031497, 47.65310242148743, -117.60017175031497, 47.65310242148743], &quot;geometry&quot;: {&quot;coordinates&quot;: [-117.60017175031497, 47.65310242148743], &quot;type&quot;: &quot;Point&quot;}, &quot;id&quot;: &quot;99&quot;, &quot;properties&quot;: {&quot;Class&quot;: &quot;1&quot;, &quot;Confidence&quot;: 94.4631576538, &quot;Shape_Area&quot;: 2391.94278796, &quot;Shape_Leng&quot;: 218.81882799}, &quot;type&quot;: &quot;Feature&quot;}, {&quot;bbox&quot;: [-117.59996143825296, 47.65274942487086, -117.59996143825296, 47.65274942487086], &quot;geometry&quot;: {&quot;coordinates&quot;: [-117.59996143825296, 47.65274942487086], &quot;type&quot;: &quot;Point&quot;}, &quot;id&quot;: &quot;100&quot;, &quot;properties&quot;: {&quot;Class&quot;: &quot;1&quot;, &quot;Confidence&quot;: 60.0083827972, &quot;Shape_Area&quot;: 258.761455166, &quot;Shape_Leng&quot;: 72.4131691754}, &quot;type&quot;: &quot;Feature&quot;}, {&quot;bbox&quot;: [-117.60062120089566, 47.65257151866185, -117.60062120089566, 47.65257151866185], &quot;geometry&quot;: {&quot;coordinates&quot;: [-117.60062120089566, 47.65257151866185], &quot;type&quot;: &quot;Point&quot;}, &quot;id&quot;: &quot;101&quot;, &quot;properties&quot;: {&quot;Class&quot;: &quot;1&quot;, &quot;Confidence&quot;: 50.9802281857, &quot;Shape_Area&quot;: 284.72689388, &quot;Shape_Leng&quot;: 84.5535242036}, &quot;type&quot;: &quot;Feature&quot;}, {&quot;bbox&quot;: [-117.59996250476576, 47.65255157128238, -117.59996250476576, 47.65255157128238], &quot;geometry&quot;: {&quot;coordinates&quot;: [-117.59996250476576, 47.65255157128238], &quot;type&quot;: &quot;Point&quot;}, &quot;id&quot;: &quot;102&quot;, &quot;properties&quot;: {&quot;Class&quot;: &quot;1&quot;, &quot;Confidence&quot;: 35.2871417999, &quot;Shape_Area&quot;: 300.713541435, &quot;Shape_Leng&quot;: 82.8796650618}, &quot;type&quot;: &quot;Feature&quot;}, {&quot;bbox&quot;: [-117.60037673259592, 47.652941703650775, -117.60037673259592, 47.652941703650775], &quot;geometry&quot;: {&quot;coordinates&quot;: [-117.60037673259592, 47.652941703650775], &quot;type&quot;: &quot;Point&quot;}, &quot;id&quot;: &quot;103&quot;, &quot;properties&quot;: {&quot;Class&quot;: &quot;1&quot;, &quot;Confidence&quot;: 33.3420455456, &quot;Shape_Area&quot;: 193.372251353, &quot;Shape_Leng&quot;: 67.589318864}, &quot;type&quot;: &quot;Feature&quot;}, {&quot;bbox&quot;: [-117.60010804389756, 47.65294073161199, -117.60010804389756, 47.65294073161199], &quot;geometry&quot;: {&quot;coordinates&quot;: [-117.60010804389756, 47.65294073161199], &quot;type&quot;: &quot;Point&quot;}, &quot;id&quot;: &quot;104&quot;, &quot;properties&quot;: {&quot;Class&quot;: &quot;1&quot;, &quot;Confidence&quot;: 25.3324717283, &quot;Shape_Area&quot;: 169.147975959, &quot;Shape_Leng&quot;: 60.188684769}, &quot;type&quot;: &quot;Feature&quot;}, {&quot;bbox&quot;: [-117.59995947171149, 47.65220845722466, -117.59995947171149, 47.65220845722466], &quot;geometry&quot;: {&quot;coordinates&quot;: [-117.59995947171149, 47.65220845722466], &quot;type&quot;: &quot;Point&quot;}, &quot;id&quot;: &quot;105&quot;, &quot;properties&quot;: {&quot;Class&quot;: &quot;1&quot;, &quot;Confidence&quot;: 24.9529913068, &quot;Shape_Area&quot;: 212.315429486, &quot;Shape_Leng&quot;: 65.8187140487}, &quot;type&quot;: &quot;Feature&quot;}, {&quot;bbox&quot;: [-117.59921989167874, 47.65382852084149, -117.59921989167874, 47.65382852084149], &quot;geometry&quot;: {&quot;coordinates&quot;: [-117.59921989167874, 47.65382852084149], &quot;type&quot;: &quot;Point&quot;}, &quot;id&quot;: &quot;106&quot;, &quot;properties&quot;: {&quot;Class&quot;: &quot;1&quot;, &quot;Confidence&quot;: 95.2047407627, &quot;Shape_Area&quot;: 577.585659135, &quot;Shape_Leng&quot;: 98.0818446986}, &quot;type&quot;: &quot;Feature&quot;}, {&quot;bbox&quot;: [-117.5986982616746, 47.65372993521761, -117.5986982616746, 47.65372993521761], &quot;geometry&quot;: {&quot;coordinates&quot;: [-117.5986982616746, 47.65372993521761], &quot;type&quot;: &quot;Point&quot;}, &quot;id&quot;: &quot;107&quot;, &quot;properties&quot;: {&quot;Class&quot;: &quot;1&quot;, &quot;Confidence&quot;: 94.3966031075, &quot;Shape_Area&quot;: 507.059751263, &quot;Shape_Leng&quot;: 90.2715975605}, &quot;type&quot;: &quot;Feature&quot;}, {&quot;bbox&quot;: [-117.59876908958157, 47.65354607626754, -117.59876908958157, 47.65354607626754], &quot;geometry&quot;: {&quot;coordinates&quot;: [-117.59876908958157, 47.65354607626754], &quot;type&quot;: &quot;Point&quot;}, &quot;id&quot;: &quot;108&quot;, &quot;properties&quot;: {&quot;Class&quot;: &quot;1&quot;, &quot;Confidence&quot;: 91.825979948, &quot;Shape_Area&quot;: 635.558887015, &quot;Shape_Leng&quot;: 100.864830673}, &quot;type&quot;: &quot;Feature&quot;}, {&quot;bbox&quot;: [-117.59827901836965, 47.653434360381986, -117.59827901836965, 47.653434360381986], &quot;geometry&quot;: {&quot;coordinates&quot;: [-117.59827901836965, 47.653434360381986], &quot;type&quot;: &quot;Point&quot;}, &quot;id&quot;: &quot;109&quot;, &quot;properties&quot;: {&quot;Class&quot;: &quot;1&quot;, &quot;Confidence&quot;: 91.0657703876, &quot;Shape_Area&quot;: 720.45705687, &quot;Shape_Leng&quot;: 107.413969468}, &quot;type&quot;: &quot;Feature&quot;}, {&quot;bbox&quot;: [-117.59704333801288, 47.653138997248625, -117.59704333801288, 47.653138997248625], &quot;geometry&quot;: {&quot;coordinates&quot;: [-117.59704333801288, 47.653138997248625], &quot;type&quot;: &quot;Point&quot;}, &quot;id&quot;: &quot;110&quot;, &quot;properties&quot;: {&quot;Class&quot;: &quot;1&quot;, &quot;Confidence&quot;: 98.1265842915, &quot;Shape_Area&quot;: 894.848473321, &quot;Shape_Leng&quot;: 119.656171158}, &quot;type&quot;: &quot;Feature&quot;}, {&quot;bbox&quot;: [-117.59732613038088, 47.653206966307174, -117.59732613038088, 47.653206966307174], &quot;geometry&quot;: {&quot;coordinates&quot;: [-117.59732613038088, 47.653206966307174], &quot;type&quot;: &quot;Point&quot;}, &quot;id&quot;: &quot;111&quot;, &quot;properties&quot;: {&quot;Class&quot;: &quot;1&quot;, &quot;Confidence&quot;: 97.9434788227, &quot;Shape_Area&quot;: 925.626616011, &quot;Shape_Leng&quot;: 121.715721987}, &quot;type&quot;: &quot;Feature&quot;}, {&quot;bbox&quot;: [-117.5969722224831, 47.65396834473719, -117.5969722224831, 47.65396834473719], &quot;geometry&quot;: {&quot;coordinates&quot;: [-117.5969722224831, 47.65396834473719], &quot;type&quot;: &quot;Point&quot;}, &quot;id&quot;: &quot;112&quot;, &quot;properties&quot;: {&quot;Class&quot;: &quot;1&quot;, &quot;Confidence&quot;: 93.5092389584, &quot;Shape_Area&quot;: 2473.24211413, &quot;Shape_Leng&quot;: 204.733876526}, &quot;type&quot;: &quot;Feature&quot;}, {&quot;bbox&quot;: [-117.59791505431228, 47.653316463962256, -117.59791505431228, 47.653316463962256], &quot;geometry&quot;: {&quot;coordinates&quot;: [-117.59791505431228, 47.653316463962256], &quot;type&quot;: &quot;Point&quot;}, &quot;id&quot;: &quot;113&quot;, &quot;properties&quot;: {&quot;Class&quot;: &quot;1&quot;, &quot;Confidence&quot;: 91.8901622295, &quot;Shape_Area&quot;: 426.008559938, &quot;Shape_Leng&quot;: 83.3172260076}, &quot;type&quot;: &quot;Feature&quot;}, {&quot;bbox&quot;: [-117.5968774527968, 47.653407177960574, -117.5968774527968, 47.653407177960574], &quot;geometry&quot;: {&quot;coordinates&quot;: [-117.5968774527968, 47.653407177960574], &quot;type&quot;: &quot;Point&quot;}, &quot;id&quot;: &quot;114&quot;, &quot;properties&quot;: {&quot;Class&quot;: &quot;1&quot;, &quot;Confidence&quot;: 61.9013905525, &quot;Shape_Area&quot;: 441.306347238, &quot;Shape_Leng&quot;: 85.5468915105}, &quot;type&quot;: &quot;Feature&quot;}, {&quot;bbox&quot;: [-117.59784247627668, 47.653586299644516, -117.59784247627668, 47.653586299644516], &quot;geometry&quot;: {&quot;coordinates&quot;: [-117.59784247627668, 47.653586299644516], &quot;type&quot;: &quot;Point&quot;}, &quot;id&quot;: &quot;115&quot;, &quot;properties&quot;: {&quot;Class&quot;: &quot;1&quot;, &quot;Confidence&quot;: 52.724391222, &quot;Shape_Area&quot;: 603.854838305, &quot;Shape_Leng&quot;: 98.7456419021}, &quot;type&quot;: &quot;Feature&quot;}, {&quot;bbox&quot;: [-117.59708855242475, 47.65344295857865, -117.59708855242475, 47.65344295857865], &quot;geometry&quot;: {&quot;coordinates&quot;: [-117.59708855242475, 47.65344295857865], &quot;type&quot;: &quot;Point&quot;}, &quot;id&quot;: &quot;116&quot;, &quot;properties&quot;: {&quot;Class&quot;: &quot;1&quot;, &quot;Confidence&quot;: 46.778523922, &quot;Shape_Area&quot;: 409.562511131, &quot;Shape_Leng&quot;: 81.8980103098}, &quot;type&quot;: &quot;Feature&quot;}, {&quot;bbox&quot;: [-117.59719090376453, 47.653464747196956, -117.59719090376453, 47.653464747196956], &quot;geometry&quot;: {&quot;coordinates&quot;: [-117.59719090376453, 47.653464747196956], &quot;type&quot;: &quot;Point&quot;}, &quot;id&quot;: &quot;117&quot;, &quot;properties&quot;: {&quot;Class&quot;: &quot;1&quot;, &quot;Confidence&quot;: 28.5539746284, &quot;Shape_Area&quot;: 1188.75419874, &quot;Shape_Leng&quot;: 138.00859848}, &quot;type&quot;: &quot;Feature&quot;}, {&quot;bbox&quot;: [-117.59927149174378, 47.65253942487802, -117.59927149174378, 47.65253942487802], &quot;geometry&quot;: {&quot;coordinates&quot;: [-117.59927149174378, 47.65253942487802], &quot;type&quot;: &quot;Point&quot;}, &quot;id&quot;: &quot;118&quot;, &quot;properties&quot;: {&quot;Class&quot;: &quot;1&quot;, &quot;Confidence&quot;: 99.4089901447, &quot;Shape_Area&quot;: 1900.44455955, &quot;Shape_Leng&quot;: 201.096174039}, &quot;type&quot;: &quot;Feature&quot;}, {&quot;bbox&quot;: [-117.59857484527527, 47.65272942583266, -117.59857484527527, 47.65272942583266], &quot;geometry&quot;: {&quot;coordinates&quot;: [-117.59857484527527, 47.65272942583266], &quot;type&quot;: &quot;Point&quot;}, &quot;id&quot;: &quot;119&quot;, &quot;properties&quot;: {&quot;Class&quot;: &quot;1&quot;, &quot;Confidence&quot;: 99.4080245495, &quot;Shape_Area&quot;: 2109.213194, &quot;Shape_Leng&quot;: 207.018755164}, &quot;type&quot;: &quot;Feature&quot;}, {&quot;bbox&quot;: [-117.59852873509084, 47.652337993093056, -117.59852873509084, 47.652337993093056], &quot;geometry&quot;: {&quot;coordinates&quot;: [-117.59852873509084, 47.652337993093056], &quot;type&quot;: &quot;Point&quot;}, &quot;id&quot;: &quot;120&quot;, &quot;properties&quot;: {&quot;Class&quot;: &quot;1&quot;, &quot;Confidence&quot;: 98.5023140907, &quot;Shape_Area&quot;: 745.033065442, &quot;Shape_Leng&quot;: 114.953321688}, &quot;type&quot;: &quot;Feature&quot;}, {&quot;bbox&quot;: [-117.59881583378038, 47.652437051194184, -117.59881583378038, 47.652437051194184], &quot;geometry&quot;: {&quot;coordinates&quot;: [-117.59881583378038, 47.652437051194184], &quot;type&quot;: &quot;Point&quot;}, &quot;id&quot;: &quot;121&quot;, &quot;properties&quot;: {&quot;Class&quot;: &quot;1&quot;, &quot;Confidence&quot;: 76.1362612247, &quot;Shape_Area&quot;: 213.280115122, &quot;Shape_Leng&quot;: 65.2877770364}, &quot;type&quot;: &quot;Feature&quot;}, {&quot;bbox&quot;: [-117.59882008002367, 47.65269889501501, -117.59882008002367, 47.65269889501501], &quot;geometry&quot;: {&quot;coordinates&quot;: [-117.59882008002367, 47.65269889501501], &quot;type&quot;: &quot;Point&quot;}, &quot;id&quot;: &quot;122&quot;, &quot;properties&quot;: {&quot;Class&quot;: &quot;1&quot;, &quot;Confidence&quot;: 75.7167160511, &quot;Shape_Area&quot;: 348.045282362, &quot;Shape_Leng&quot;: 96.0843325108}, &quot;type&quot;: &quot;Feature&quot;}, {&quot;bbox&quot;: [-117.59901630265797, 47.65243815788312, -117.59901630265797, 47.65243815788312], &quot;geometry&quot;: {&quot;coordinates&quot;: [-117.59901630265797, 47.65243815788312], &quot;type&quot;: &quot;Point&quot;}, &quot;id&quot;: &quot;123&quot;, &quot;properties&quot;: {&quot;Class&quot;: &quot;1&quot;, &quot;Confidence&quot;: 73.6205399036, &quot;Shape_Area&quot;: 202.30596513, &quot;Shape_Leng&quot;: 64.6930407397}, &quot;type&quot;: &quot;Feature&quot;}, {&quot;bbox&quot;: [-117.59900931687655, 47.65268286279093, -117.59900931687655, 47.65268286279093], &quot;geometry&quot;: {&quot;coordinates&quot;: [-117.59900931687655, 47.65268286279093], &quot;type&quot;: &quot;Point&quot;}, &quot;id&quot;: &quot;124&quot;, &quot;properties&quot;: {&quot;Class&quot;: &quot;1&quot;, &quot;Confidence&quot;: 55.0936102867, &quot;Shape_Area&quot;: 276.391861033, &quot;Shape_Leng&quot;: 83.1346138045}, &quot;type&quot;: &quot;Feature&quot;}, {&quot;bbox&quot;: [-117.59902349110132, 47.65257191076933, -117.59902349110132, 47.65257191076933], &quot;geometry&quot;: {&quot;coordinates&quot;: [-117.59902349110132, 47.65257191076933], &quot;type&quot;: &quot;Point&quot;}, &quot;id&quot;: &quot;125&quot;, &quot;properties&quot;: {&quot;Class&quot;: &quot;1&quot;, &quot;Confidence&quot;: 29.0530800819, &quot;Shape_Area&quot;: 680.917740557, &quot;Shape_Leng&quot;: 162.329553742}, &quot;type&quot;: &quot;Feature&quot;}, {&quot;bbox&quot;: [-117.59678109537339, 47.65308433887726, -117.59678109537339, 47.65308433887726], &quot;geometry&quot;: {&quot;coordinates&quot;: [-117.59678109537339, 47.65308433887726], &quot;type&quot;: &quot;Point&quot;}, &quot;id&quot;: &quot;126&quot;, &quot;properties&quot;: {&quot;Class&quot;: &quot;1&quot;, &quot;Confidence&quot;: 98.7076461315, &quot;Shape_Area&quot;: 716.231419526, &quot;Shape_Leng&quot;: 107.192542788}, &quot;type&quot;: &quot;Feature&quot;}, {&quot;bbox&quot;: [-117.59675053957793, 47.65258993903115, -117.59675053957793, 47.65258993903115], &quot;geometry&quot;: {&quot;coordinates&quot;: [-117.59675053957793, 47.65258993903115], &quot;type&quot;: &quot;Point&quot;}, &quot;id&quot;: &quot;127&quot;, &quot;properties&quot;: {&quot;Class&quot;: &quot;1&quot;, &quot;Confidence&quot;: 98.5559940338, &quot;Shape_Area&quot;: 664.12473158, &quot;Shape_Leng&quot;: 103.592448212}, &quot;type&quot;: &quot;Feature&quot;}, {&quot;bbox&quot;: [-117.59745297762821, 47.6523126139223, -117.59745297762821, 47.6523126139223], &quot;geometry&quot;: {&quot;coordinates&quot;: [-117.59745297762821, 47.6523126139223], &quot;type&quot;: &quot;Point&quot;}, &quot;id&quot;: &quot;128&quot;, &quot;properties&quot;: {&quot;Class&quot;: &quot;1&quot;, &quot;Confidence&quot;: 98.2593953609, &quot;Shape_Area&quot;: 577.066272226, &quot;Shape_Leng&quot;: 96.3202572241}, &quot;type&quot;: &quot;Feature&quot;}, {&quot;bbox&quot;: [-117.59748603870551, 47.652496101141416, -117.59748603870551, 47.652496101141416], &quot;geometry&quot;: {&quot;coordinates&quot;: [-117.59748603870551, 47.652496101141416], &quot;type&quot;: &quot;Point&quot;}, &quot;id&quot;: &quot;129&quot;, &quot;properties&quot;: {&quot;Class&quot;: &quot;1&quot;, &quot;Confidence&quot;: 98.0107665062, &quot;Shape_Area&quot;: 813.694457433, &quot;Shape_Leng&quot;: 114.16154455}, &quot;type&quot;: &quot;Feature&quot;}, {&quot;bbox&quot;: [-117.59753864929753, 47.65277134716194, -117.59753864929753, 47.65277134716194], &quot;geometry&quot;: {&quot;coordinates&quot;: [-117.59753864929753, 47.65277134716194], &quot;type&quot;: &quot;Point&quot;}, &quot;id&quot;: &quot;130&quot;, &quot;properties&quot;: {&quot;Class&quot;: &quot;1&quot;, &quot;Confidence&quot;: 97.2689449787, &quot;Shape_Area&quot;: 459.441717887, &quot;Shape_Leng&quot;: 85.810982991}, &quot;type&quot;: &quot;Feature&quot;}, {&quot;bbox&quot;: [-117.5969722735578, 47.65263632074126, -117.5969722735578, 47.65263632074126], &quot;geometry&quot;: {&quot;coordinates&quot;: [-117.5969722735578, 47.65263632074126], &quot;type&quot;: &quot;Point&quot;}, &quot;id&quot;: &quot;131&quot;, &quot;properties&quot;: {&quot;Class&quot;: &quot;1&quot;, &quot;Confidence&quot;: 95.675766468, &quot;Shape_Area&quot;: 530.675548634, &quot;Shape_Leng&quot;: 92.2797795013}, &quot;type&quot;: &quot;Feature&quot;}, {&quot;bbox&quot;: [-117.59722310573845, 47.652706880640345, -117.59722310573845, 47.652706880640345], &quot;geometry&quot;: {&quot;coordinates&quot;: [-117.59722310573845, 47.652706880640345], &quot;type&quot;: &quot;Point&quot;}, &quot;id&quot;: &quot;132&quot;, &quot;properties&quot;: {&quot;Class&quot;: &quot;1&quot;, &quot;Confidence&quot;: 94.7060883045, &quot;Shape_Area&quot;: 375.177122876, &quot;Shape_Leng&quot;: 77.6528939791}, &quot;type&quot;: &quot;Feature&quot;}, {&quot;bbox&quot;: [-117.59700489346064, 47.652409713971096, -117.59700489346064, 47.652409713971096], &quot;geometry&quot;: {&quot;coordinates&quot;: [-117.59700489346064, 47.652409713971096], &quot;type&quot;: &quot;Point&quot;}, &quot;id&quot;: &quot;133&quot;, &quot;properties&quot;: {&quot;Class&quot;: &quot;1&quot;, &quot;Confidence&quot;: 92.9902613163, &quot;Shape_Area&quot;: 659.432181514, &quot;Shape_Leng&quot;: 102.717660155}, &quot;type&quot;: &quot;Feature&quot;}, {&quot;bbox&quot;: [-117.5954131273264, 47.653915122458386, -117.5954131273264, 47.653915122458386], &quot;geometry&quot;: {&quot;coordinates&quot;: [-117.5954131273264, 47.653915122458386], &quot;type&quot;: &quot;Point&quot;}, &quot;id&quot;: &quot;134&quot;, &quot;properties&quot;: {&quot;Class&quot;: &quot;1&quot;, &quot;Confidence&quot;: 98.2908606529, &quot;Shape_Area&quot;: 660.004498705, &quot;Shape_Leng&quot;: 103.295977179}, &quot;type&quot;: &quot;Feature&quot;}, {&quot;bbox&quot;: [-117.59534896974878, 47.653213984609806, -117.59534896974878, 47.653213984609806], &quot;geometry&quot;: {&quot;coordinates&quot;: [-117.59534896974878, 47.653213984609806], &quot;type&quot;: &quot;Point&quot;}, &quot;id&quot;: &quot;135&quot;, &quot;properties&quot;: {&quot;Class&quot;: &quot;1&quot;, &quot;Confidence&quot;: 98.16198349, &quot;Shape_Area&quot;: 520.132235968, &quot;Shape_Leng&quot;: 91.3594445959}, &quot;type&quot;: &quot;Feature&quot;}, {&quot;bbox&quot;: [-117.59650795989792, 47.65388448580314, -117.59650795989792, 47.65388448580314], &quot;geometry&quot;: {&quot;coordinates&quot;: [-117.59650795989792, 47.65388448580314], &quot;type&quot;: &quot;Point&quot;}, &quot;id&quot;: &quot;136&quot;, &quot;properties&quot;: {&quot;Class&quot;: &quot;1&quot;, &quot;Confidence&quot;: 98.0978608131, &quot;Shape_Area&quot;: 2520.37898335, &quot;Shape_Leng&quot;: 206.354928493}, &quot;type&quot;: &quot;Feature&quot;}, {&quot;bbox&quot;: [-117.59540258301014, 47.65368560748784, -117.59540258301014, 47.65368560748784], &quot;geometry&quot;: {&quot;coordinates&quot;: [-117.59540258301014, 47.65368560748784], &quot;type&quot;: &quot;Point&quot;}, &quot;id&quot;: &quot;137&quot;, &quot;properties&quot;: {&quot;Class&quot;: &quot;1&quot;, &quot;Confidence&quot;: 95.7974255085, &quot;Shape_Area&quot;: 403.083978254, &quot;Shape_Leng&quot;: 80.8451764807}, &quot;type&quot;: &quot;Feature&quot;}, {&quot;bbox&quot;: [-117.59646963533861, 47.654010462833405, -117.59646963533861, 47.654010462833405], &quot;geometry&quot;: {&quot;coordinates&quot;: [-117.59646963533861, 47.654010462833405], &quot;type&quot;: &quot;Point&quot;}, &quot;id&quot;: &quot;138&quot;, &quot;properties&quot;: {&quot;Class&quot;: &quot;1&quot;, &quot;Confidence&quot;: 25.2349466085, &quot;Shape_Area&quot;: 801.312075843, &quot;Shape_Leng&quot;: 113.334782384}, &quot;type&quot;: &quot;Feature&quot;}, {&quot;bbox&quot;: [-117.59413700575487, 47.65325468012248, -117.59413700575487, 47.65325468012248], &quot;geometry&quot;: {&quot;coordinates&quot;: [-117.59413700575487, 47.65325468012248], &quot;type&quot;: &quot;Point&quot;}, &quot;id&quot;: &quot;139&quot;, &quot;properties&quot;: {&quot;Class&quot;: &quot;1&quot;, &quot;Confidence&quot;: 98.3812391758, &quot;Shape_Area&quot;: 464.229989788, &quot;Shape_Leng&quot;: 87.6258218214}, &quot;type&quot;: &quot;Feature&quot;}, {&quot;bbox&quot;: [-117.59472353310201, 47.65363698969482, -117.59472353310201, 47.65363698969482], &quot;geometry&quot;: {&quot;coordinates&quot;: [-117.59472353310201, 47.65363698969482], &quot;type&quot;: &quot;Point&quot;}, &quot;id&quot;: &quot;140&quot;, &quot;properties&quot;: {&quot;Class&quot;: &quot;1&quot;, &quot;Confidence&quot;: 97.8718400002, &quot;Shape_Area&quot;: 497.223579163, &quot;Shape_Leng&quot;: 89.2221476734}, &quot;type&quot;: &quot;Feature&quot;}, {&quot;bbox&quot;: [-117.59472486890309, 47.65344234835724, -117.59472486890309, 47.65344234835724], &quot;geometry&quot;: {&quot;coordinates&quot;: [-117.59472486890309, 47.65344234835724], &quot;type&quot;: &quot;Point&quot;}, &quot;id&quot;: &quot;141&quot;, &quot;properties&quot;: {&quot;Class&quot;: &quot;1&quot;, &quot;Confidence&quot;: 97.4381148815, &quot;Shape_Area&quot;: 477.624507047, &quot;Shape_Leng&quot;: 87.622408554}, &quot;type&quot;: &quot;Feature&quot;}, {&quot;bbox&quot;: [-117.59472712224893, 47.65324028069122, -117.59472712224893, 47.65324028069122], &quot;geometry&quot;: {&quot;coordinates&quot;: [-117.59472712224893, 47.65324028069122], &quot;type&quot;: &quot;Point&quot;}, &quot;id&quot;: &quot;142&quot;, &quot;properties&quot;: {&quot;Class&quot;: &quot;1&quot;, &quot;Confidence&quot;: 96.0750758648, &quot;Shape_Area&quot;: 434.341282551, &quot;Shape_Leng&quot;: 83.793404229}, &quot;type&quot;: &quot;Feature&quot;}, {&quot;bbox&quot;: [-117.59471779030315, 47.65394088844231, -117.59471779030315, 47.65394088844231], &quot;geometry&quot;: {&quot;coordinates&quot;: [-117.59471779030315, 47.65394088844231], &quot;type&quot;: &quot;Point&quot;}, &quot;id&quot;: &quot;143&quot;, &quot;properties&quot;: {&quot;Class&quot;: &quot;1&quot;, &quot;Confidence&quot;: 94.8576807976, &quot;Shape_Area&quot;: 533.270084623, &quot;Shape_Leng&quot;: 92.6130403429}, &quot;type&quot;: &quot;Feature&quot;}, {&quot;bbox&quot;: [-117.59473394432925, 47.65379856624226, -117.59473394432925, 47.65379856624226], &quot;geometry&quot;: {&quot;coordinates&quot;: [-117.59473394432925, 47.65379856624226], &quot;type&quot;: &quot;Point&quot;}, &quot;id&quot;: &quot;144&quot;, &quot;properties&quot;: {&quot;Class&quot;: &quot;1&quot;, &quot;Confidence&quot;: 25.7126003504, &quot;Shape_Area&quot;: 712.434568277, &quot;Shape_Leng&quot;: 116.208583437}, &quot;type&quot;: &quot;Feature&quot;}, {&quot;bbox&quot;: [-117.59652288354647, 47.65304123526769, -117.59652288354647, 47.65304123526769], &quot;geometry&quot;: {&quot;coordinates&quot;: [-117.59652288354647, 47.65304123526769], &quot;type&quot;: &quot;Point&quot;}, &quot;id&quot;: &quot;145&quot;, &quot;properties&quot;: {&quot;Class&quot;: &quot;1&quot;, &quot;Confidence&quot;: 98.3635544777, &quot;Shape_Area&quot;: 720.834427661, &quot;Shape_Leng&quot;: 107.72667782}, &quot;type&quot;: &quot;Feature&quot;}, {&quot;bbox&quot;: [-117.59545975889885, 47.65243321228871, -117.59545975889885, 47.65243321228871], &quot;geometry&quot;: {&quot;coordinates&quot;: [-117.59545975889885, 47.65243321228871], &quot;type&quot;: &quot;Point&quot;}, &quot;id&quot;: &quot;146&quot;, &quot;properties&quot;: {&quot;Class&quot;: &quot;1&quot;, &quot;Confidence&quot;: 98.2418119907, &quot;Shape_Area&quot;: 599.100503947, &quot;Shape_Leng&quot;: 97.9181466885}, &quot;type&quot;: &quot;Feature&quot;}, {&quot;bbox&quot;: [-117.59592696270192, 47.65244807772567, -117.59592696270192, 47.65244807772567], &quot;geometry&quot;: {&quot;coordinates&quot;: [-117.59592696270192, 47.65244807772567], &quot;type&quot;: &quot;Point&quot;}, &quot;id&quot;: &quot;147&quot;, &quot;properties&quot;: {&quot;Class&quot;: &quot;1&quot;, &quot;Confidence&quot;: 97.9618012905, &quot;Shape_Area&quot;: 554.91535869, &quot;Shape_Leng&quot;: 94.5305244625}, &quot;type&quot;: &quot;Feature&quot;}, {&quot;bbox&quot;: [-117.5956129829796, 47.65223720003704, -117.5956129829796, 47.65223720003704], &quot;geometry&quot;: {&quot;coordinates&quot;: [-117.5956129829796, 47.65223720003704], &quot;type&quot;: &quot;Point&quot;}, &quot;id&quot;: &quot;148&quot;, &quot;properties&quot;: {&quot;Class&quot;: &quot;1&quot;, &quot;Confidence&quot;: 97.4317848682, &quot;Shape_Area&quot;: 938.55772482, &quot;Shape_Leng&quot;: 122.687350038}, &quot;type&quot;: &quot;Feature&quot;}, {&quot;bbox&quot;: [-117.59574015975724, 47.65288177052943, -117.59574015975724, 47.65288177052943], &quot;geometry&quot;: {&quot;coordinates&quot;: [-117.59574015975724, 47.65288177052943], &quot;type&quot;: &quot;Point&quot;}, &quot;id&quot;: &quot;149&quot;, &quot;properties&quot;: {&quot;Class&quot;: &quot;1&quot;, &quot;Confidence&quot;: 96.9949901104, &quot;Shape_Area&quot;: 521.999279141, &quot;Shape_Leng&quot;: 91.6515109241}, &quot;type&quot;: &quot;Feature&quot;}, {&quot;bbox&quot;: [-117.59623312897003, 47.6529811960247, -117.59623312897003, 47.6529811960247], &quot;geometry&quot;: {&quot;coordinates&quot;: [-117.59623312897003, 47.6529811960247], &quot;type&quot;: &quot;Point&quot;}, &quot;id&quot;: &quot;150&quot;, &quot;properties&quot;: {&quot;Class&quot;: &quot;1&quot;, &quot;Confidence&quot;: 96.617347002, &quot;Shape_Area&quot;: 603.34557627, &quot;Shape_Leng&quot;: 98.3311383575}, &quot;type&quot;: &quot;Feature&quot;}, {&quot;bbox&quot;: [-117.59541218047912, 47.652849606224585, -117.59541218047912, 47.652849606224585], &quot;geometry&quot;: {&quot;coordinates&quot;: [-117.59541218047912, 47.652849606224585], &quot;type&quot;: &quot;Point&quot;}, &quot;id&quot;: &quot;151&quot;, &quot;properties&quot;: {&quot;Class&quot;: &quot;1&quot;, &quot;Confidence&quot;: 95.8681643009, &quot;Shape_Area&quot;: 558.539770707, &quot;Shape_Leng&quot;: 95.5219863653}, &quot;type&quot;: &quot;Feature&quot;}, {&quot;bbox&quot;: [-117.59598982524, 47.652918708120126, -117.59598982524, 47.652918708120126], &quot;geometry&quot;: {&quot;coordinates&quot;: [-117.59598982524, 47.652918708120126], &quot;type&quot;: &quot;Point&quot;}, &quot;id&quot;: &quot;152&quot;, &quot;properties&quot;: {&quot;Class&quot;: &quot;1&quot;, &quot;Confidence&quot;: 94.8489904404, &quot;Shape_Area&quot;: 679.108391319, &quot;Shape_Leng&quot;: 104.355660539}, &quot;type&quot;: &quot;Feature&quot;}, {&quot;bbox&quot;: [-117.59617412273913, 47.65247702930847, -117.59617412273913, 47.65247702930847], &quot;geometry&quot;: {&quot;coordinates&quot;: [-117.59617412273913, 47.65247702930847], &quot;type&quot;: &quot;Point&quot;}, &quot;id&quot;: &quot;153&quot;, &quot;properties&quot;: {&quot;Class&quot;: &quot;1&quot;, &quot;Confidence&quot;: 94.5534467697, &quot;Shape_Area&quot;: 492.540002677, &quot;Shape_Leng&quot;: 88.9835938141}, &quot;type&quot;: &quot;Feature&quot;}, {&quot;bbox&quot;: [-117.5962162698832, 47.65222962996665, -117.5962162698832, 47.65222962996665], &quot;geometry&quot;: {&quot;coordinates&quot;: [-117.5962162698832, 47.65222962996665], &quot;type&quot;: &quot;Point&quot;}, &quot;id&quot;: &quot;154&quot;, &quot;properties&quot;: {&quot;Class&quot;: &quot;1&quot;, &quot;Confidence&quot;: 94.1368579865, &quot;Shape_Area&quot;: 638.528252652, &quot;Shape_Leng&quot;: 101.500379454}, &quot;type&quot;: &quot;Feature&quot;}, {&quot;bbox&quot;: [-117.5941543927778, 47.65306810012039, -117.5941543927778, 47.65306810012039], &quot;geometry&quot;: {&quot;coordinates&quot;: [-117.5941543927778, 47.65306810012039], &quot;type&quot;: &quot;Point&quot;}, &quot;id&quot;: &quot;155&quot;, &quot;properties&quot;: {&quot;Class&quot;: &quot;1&quot;, &quot;Confidence&quot;: 98.9594459534, &quot;Shape_Area&quot;: 508.588324057, &quot;Shape_Leng&quot;: 90.7301842086}, &quot;type&quot;: &quot;Feature&quot;}, {&quot;bbox&quot;: [-117.59482160873232, 47.65227424078785, -117.59482160873232, 47.65227424078785], &quot;geometry&quot;: {&quot;coordinates&quot;: [-117.59482160873232, 47.65227424078785], &quot;type&quot;: &quot;Point&quot;}, &quot;id&quot;: &quot;156&quot;, &quot;properties&quot;: {&quot;Class&quot;: &quot;1&quot;, &quot;Confidence&quot;: 98.4347581863, &quot;Shape_Area&quot;: 756.213845065, &quot;Shape_Leng&quot;: 110.050913662}, &quot;type&quot;: &quot;Feature&quot;}, {&quot;bbox&quot;: [-117.5941436387604, 47.65291940010597, -117.5941436387604, 47.65291940010597], &quot;geometry&quot;: {&quot;coordinates&quot;: [-117.5941436387604, 47.65291940010597], &quot;type&quot;: &quot;Point&quot;}, &quot;id&quot;: &quot;157&quot;, &quot;properties&quot;: {&quot;Class&quot;: &quot;1&quot;, &quot;Confidence&quot;: 97.5128471851, &quot;Shape_Area&quot;: 426.408479508, &quot;Shape_Leng&quot;: 83.0746910423}, &quot;type&quot;: &quot;Feature&quot;}, {&quot;bbox&quot;: [-117.59474630883822, 47.65285156638022, -117.59474630883822, 47.65285156638022], &quot;geometry&quot;: {&quot;coordinates&quot;: [-117.59474630883822, 47.65285156638022], &quot;type&quot;: &quot;Point&quot;}, &quot;id&quot;: &quot;158&quot;, &quot;properties&quot;: {&quot;Class&quot;: &quot;1&quot;, &quot;Confidence&quot;: 97.3022282124, &quot;Shape_Area&quot;: 638.929448147, &quot;Shape_Leng&quot;: 101.202353776}, &quot;type&quot;: &quot;Feature&quot;}, {&quot;bbox&quot;: [-117.59472531891747, 47.652663259888946, -117.59472531891747, 47.652663259888946], &quot;geometry&quot;: {&quot;coordinates&quot;: [-117.59472531891747, 47.652663259888946], &quot;type&quot;: &quot;Point&quot;}, &quot;id&quot;: &quot;159&quot;, &quot;properties&quot;: {&quot;Class&quot;: &quot;1&quot;, &quot;Confidence&quot;: 97.0199763775, &quot;Shape_Area&quot;: 435.616090512, &quot;Shape_Leng&quot;: 84.1703427136}, &quot;type&quot;: &quot;Feature&quot;}, {&quot;bbox&quot;: [-117.59472213362119, 47.652442795603505, -117.59472213362119, 47.652442795603505], &quot;geometry&quot;: {&quot;coordinates&quot;: [-117.59472213362119, 47.652442795603505], &quot;type&quot;: &quot;Point&quot;}, &quot;id&quot;: &quot;160&quot;, &quot;properties&quot;: {&quot;Class&quot;: &quot;1&quot;, &quot;Confidence&quot;: 95.0015664101, &quot;Shape_Area&quot;: 456.670387025, &quot;Shape_Leng&quot;: 85.4796385132}, &quot;type&quot;: &quot;Feature&quot;}, {&quot;bbox&quot;: [-117.59472213362119, 47.652442795603505, -117.59472213362119, 47.652442795603505], &quot;geometry&quot;: {&quot;coordinates&quot;: [-117.59472213362119, 47.652442795603505], &quot;type&quot;: &quot;Point&quot;}, &quot;id&quot;: &quot;161&quot;, &quot;properties&quot;: {&quot;Class&quot;: &quot;1&quot;, &quot;Confidence&quot;: 95.0015664101, &quot;Shape_Area&quot;: 456.670387025, &quot;Shape_Leng&quot;: 85.4796385132}, &quot;type&quot;: &quot;Feature&quot;}, {&quot;bbox&quot;: [-117.5947234322621, 47.6530127646101, -117.5947234322621, 47.6530127646101], &quot;geometry&quot;: {&quot;coordinates&quot;: [-117.5947234322621, 47.6530127646101], &quot;type&quot;: &quot;Point&quot;}, &quot;id&quot;: &quot;162&quot;, &quot;properties&quot;: {&quot;Class&quot;: &quot;1&quot;, &quot;Confidence&quot;: 93.6978578568, &quot;Shape_Area&quot;: 441.381381546, &quot;Shape_Leng&quot;: 84.8443814442}, &quot;type&quot;: &quot;Feature&quot;}, {&quot;bbox&quot;: [-117.60099231361706, 47.65200307727216, -117.60099231361706, 47.65200307727216], &quot;geometry&quot;: {&quot;coordinates&quot;: [-117.60099231361706, 47.65200307727216], &quot;type&quot;: &quot;Point&quot;}, &quot;id&quot;: &quot;163&quot;, &quot;properties&quot;: {&quot;Class&quot;: &quot;1&quot;, &quot;Confidence&quot;: 97.6917386055, &quot;Shape_Area&quot;: 2510.76932614, &quot;Shape_Leng&quot;: 224.623899255}, &quot;type&quot;: &quot;Feature&quot;}, {&quot;bbox&quot;: [-117.60078023260088, 47.65206408716356, -117.60078023260088, 47.65206408716356], &quot;geometry&quot;: {&quot;coordinates&quot;: [-117.60078023260088, 47.65206408716356], &quot;type&quot;: &quot;Point&quot;}, &quot;id&quot;: &quot;164&quot;, &quot;properties&quot;: {&quot;Class&quot;: &quot;1&quot;, &quot;Confidence&quot;: 26.4509528875, &quot;Shape_Area&quot;: 433.157638656, &quot;Shape_Leng&quot;: 104.227965228}, &quot;type&quot;: &quot;Feature&quot;}, {&quot;bbox&quot;: [-117.59974584371973, 47.65199388911566, -117.59974584371973, 47.65199388911566], &quot;geometry&quot;: {&quot;coordinates&quot;: [-117.59974584371973, 47.65199388911566], &quot;type&quot;: &quot;Point&quot;}, &quot;id&quot;: &quot;165&quot;, &quot;properties&quot;: {&quot;Class&quot;: &quot;1&quot;, &quot;Confidence&quot;: 99.4911849499, &quot;Shape_Area&quot;: 2427.55753935, &quot;Shape_Leng&quot;: 222.023032777}, &quot;type&quot;: &quot;Feature&quot;}, {&quot;bbox&quot;: [-117.59999512466858, 47.65150544559306, -117.59999512466858, 47.65150544559306], &quot;geometry&quot;: {&quot;coordinates&quot;: [-117.59999512466858, 47.65150544559306], &quot;type&quot;: &quot;Point&quot;}, &quot;id&quot;: &quot;166&quot;, &quot;properties&quot;: {&quot;Class&quot;: &quot;1&quot;, &quot;Confidence&quot;: 97.8139102459, &quot;Shape_Area&quot;: 2458.80416349, &quot;Shape_Leng&quot;: 220.547671996}, &quot;type&quot;: &quot;Feature&quot;}, {&quot;bbox&quot;: [-117.60058089784467, 47.651994391446685, -117.60058089784467, 47.651994391446685], &quot;geometry&quot;: {&quot;coordinates&quot;: [-117.60058089784467, 47.651994391446685], &quot;type&quot;: &quot;Point&quot;}, &quot;id&quot;: &quot;167&quot;, &quot;properties&quot;: {&quot;Class&quot;: &quot;1&quot;, &quot;Confidence&quot;: 47.8504836559, &quot;Shape_Area&quot;: 344.61776874, &quot;Shape_Leng&quot;: 87.3037719987}, &quot;type&quot;: &quot;Feature&quot;}, {&quot;bbox&quot;: [-117.59995958024533, 47.651911554770734, -117.59995958024533, 47.651911554770734], &quot;geometry&quot;: {&quot;coordinates&quot;: [-117.59995958024533, 47.651911554770734], &quot;type&quot;: &quot;Point&quot;}, &quot;id&quot;: &quot;168&quot;, &quot;properties&quot;: {&quot;Class&quot;: &quot;1&quot;, &quot;Confidence&quot;: 47.3560363054, &quot;Shape_Area&quot;: 339.770764662, &quot;Shape_Leng&quot;: 87.9369730279}, &quot;type&quot;: &quot;Feature&quot;}, {&quot;bbox&quot;: [-117.60014577765956, 47.65135037418305, -117.60014577765956, 47.65135037418305], &quot;geometry&quot;: {&quot;coordinates&quot;: [-117.60014577765956, 47.65135037418305], &quot;type&quot;: &quot;Point&quot;}, &quot;id&quot;: &quot;169&quot;, &quot;properties&quot;: {&quot;Class&quot;: &quot;1&quot;, &quot;Confidence&quot;: 41.1708325148, &quot;Shape_Area&quot;: 352.269461473, &quot;Shape_Leng&quot;: 100.530651186}, &quot;type&quot;: &quot;Feature&quot;}, {&quot;bbox&quot;: [-117.59971312068524, 47.65134916403272, -117.59971312068524, 47.65134916403272], &quot;geometry&quot;: {&quot;coordinates&quot;: [-117.59971312068524, 47.65134916403272], &quot;type&quot;: &quot;Point&quot;}, &quot;id&quot;: &quot;170&quot;, &quot;properties&quot;: {&quot;Class&quot;: &quot;1&quot;, &quot;Confidence&quot;: 31.4534753561, &quot;Shape_Area&quot;: 344.082812777, &quot;Shape_Leng&quot;: 98.9387530051}, &quot;type&quot;: &quot;Feature&quot;}, {&quot;bbox&quot;: [-117.6009752471209, 47.651221898026506, -117.6009752471209, 47.651221898026506], &quot;geometry&quot;: {&quot;coordinates&quot;: [-117.6009752471209, 47.651221898026506], &quot;type&quot;: &quot;Point&quot;}, &quot;id&quot;: &quot;171&quot;, &quot;properties&quot;: {&quot;Class&quot;: &quot;1&quot;, &quot;Confidence&quot;: 98.6142933369, &quot;Shape_Area&quot;: 2252.94695692, &quot;Shape_Leng&quot;: 217.863638211}, &quot;type&quot;: &quot;Feature&quot;}, {&quot;bbox&quot;: [-117.60097661484374, 47.65042928006273, -117.60097661484374, 47.65042928006273], &quot;geometry&quot;: {&quot;coordinates&quot;: [-117.60097661484374, 47.65042928006273], &quot;type&quot;: &quot;Point&quot;}, &quot;id&quot;: &quot;172&quot;, &quot;properties&quot;: {&quot;Class&quot;: &quot;1&quot;, &quot;Confidence&quot;: 98.0750262737, &quot;Shape_Area&quot;: 2262.58123265, &quot;Shape_Leng&quot;: 216.478711169}, &quot;type&quot;: &quot;Feature&quot;}, {&quot;bbox&quot;: [-117.60075788870816, 47.65060652948379, -117.60075788870816, 47.65060652948379], &quot;geometry&quot;: {&quot;coordinates&quot;: [-117.60075788870816, 47.65060652948379], &quot;type&quot;: &quot;Point&quot;}, &quot;id&quot;: &quot;173&quot;, &quot;properties&quot;: {&quot;Class&quot;: &quot;1&quot;, &quot;Confidence&quot;: 27.1022886038, &quot;Shape_Area&quot;: 255.488912199, &quot;Shape_Leng&quot;: 78.4193999879}, &quot;type&quot;: &quot;Feature&quot;}, {&quot;bbox&quot;: [-117.60011777298229, 47.651076821521045, -117.60011777298229, 47.651076821521045], &quot;geometry&quot;: {&quot;coordinates&quot;: [-117.60011777298229, 47.651076821521045], &quot;type&quot;: &quot;Point&quot;}, &quot;id&quot;: &quot;174&quot;, &quot;properties&quot;: {&quot;Class&quot;: &quot;1&quot;, &quot;Confidence&quot;: 97.9320645332, &quot;Shape_Area&quot;: 2243.06025233, &quot;Shape_Leng&quot;: 214.769547787}, &quot;type&quot;: &quot;Feature&quot;}, {&quot;bbox&quot;: [-117.60026172061185, 47.65068999375764, -117.60026172061185, 47.65068999375764], &quot;geometry&quot;: {&quot;coordinates&quot;: [-117.60026172061185, 47.65068999375764], &quot;type&quot;: &quot;Point&quot;}, &quot;id&quot;: &quot;175&quot;, &quot;properties&quot;: {&quot;Class&quot;: &quot;1&quot;, &quot;Confidence&quot;: 93.7066793442, &quot;Shape_Area&quot;: 856.220712116, &quot;Shape_Leng&quot;: 124.950077008}, &quot;type&quot;: &quot;Feature&quot;}, {&quot;bbox&quot;: [-117.60032841801228, 47.65042041473256, -117.60032841801228, 47.65042041473256], &quot;geometry&quot;: {&quot;coordinates&quot;: [-117.60032841801228, 47.65042041473256], &quot;type&quot;: &quot;Point&quot;}, &quot;id&quot;: &quot;176&quot;, &quot;properties&quot;: {&quot;Class&quot;: &quot;1&quot;, &quot;Confidence&quot;: 59.8958790302, &quot;Shape_Area&quot;: 313.630930747, &quot;Shape_Leng&quot;: 83.0637492537}, &quot;type&quot;: &quot;Feature&quot;}, {&quot;bbox&quot;: [-117.59944749303402, 47.65036520061416, -117.59944749303402, 47.65036520061416], &quot;geometry&quot;: {&quot;coordinates&quot;: [-117.59944749303402, 47.65036520061416], &quot;type&quot;: &quot;Point&quot;}, &quot;id&quot;: &quot;177&quot;, &quot;properties&quot;: {&quot;Class&quot;: &quot;1&quot;, &quot;Confidence&quot;: 59.101909399, &quot;Shape_Area&quot;: 267.583963632, &quot;Shape_Leng&quot;: 79.7313831262}, &quot;type&quot;: &quot;Feature&quot;}, {&quot;bbox&quot;: [-117.59944812819435, 47.650566520847164, -117.59944812819435, 47.650566520847164], &quot;geometry&quot;: {&quot;coordinates&quot;: [-117.59944812819435, 47.650566520847164], &quot;type&quot;: &quot;Point&quot;}, &quot;id&quot;: &quot;178&quot;, &quot;properties&quot;: {&quot;Class&quot;: &quot;1&quot;, &quot;Confidence&quot;: 58.8002741337, &quot;Shape_Area&quot;: 223.178891597, &quot;Shape_Leng&quot;: 69.6411416903}, &quot;type&quot;: &quot;Feature&quot;}, {&quot;bbox&quot;: [-117.59945424226731, 47.65100192718457, -117.59945424226731, 47.65100192718457], &quot;geometry&quot;: {&quot;coordinates&quot;: [-117.59945424226731, 47.65100192718457], &quot;type&quot;: &quot;Point&quot;}, &quot;id&quot;: &quot;179&quot;, &quot;properties&quot;: {&quot;Class&quot;: &quot;1&quot;, &quot;Confidence&quot;: 53.1736850739, &quot;Shape_Area&quot;: 225.104475202, &quot;Shape_Leng&quot;: 67.8141279146}, &quot;type&quot;: &quot;Feature&quot;}, {&quot;bbox&quot;: [-117.59944450025024, 47.65120561550006, -117.59944450025024, 47.65120561550006], &quot;geometry&quot;: {&quot;coordinates&quot;: [-117.59944450025024, 47.65120561550006], &quot;type&quot;: &quot;Point&quot;}, &quot;id&quot;: &quot;180&quot;, &quot;properties&quot;: {&quot;Class&quot;: &quot;1&quot;, &quot;Confidence&quot;: 46.9678729773, &quot;Shape_Area&quot;: 260.655359905, &quot;Shape_Leng&quot;: 73.7959161811}, &quot;type&quot;: &quot;Feature&quot;}, {&quot;bbox&quot;: [-117.6005577374108, 47.65084273928152, -117.6005577374108, 47.65084273928152], &quot;geometry&quot;: {&quot;coordinates&quot;: [-117.6005577374108, 47.65084273928152], &quot;type&quot;: &quot;Point&quot;}, &quot;id&quot;: &quot;181&quot;, &quot;properties&quot;: {&quot;Class&quot;: &quot;1&quot;, &quot;Confidence&quot;: 41.9219464064, &quot;Shape_Area&quot;: 204.638844968, &quot;Shape_Leng&quot;: 64.2353613563}, &quot;type&quot;: &quot;Feature&quot;}, {&quot;bbox&quot;: [-117.60025620519389, 47.651220888262216, -117.60025620519389, 47.651220888262216], &quot;geometry&quot;: {&quot;coordinates&quot;: [-117.60025620519389, 47.651220888262216], &quot;type&quot;: &quot;Point&quot;}, &quot;id&quot;: &quot;182&quot;, &quot;properties&quot;: {&quot;Class&quot;: &quot;1&quot;, &quot;Confidence&quot;: 40.9347355366, &quot;Shape_Area&quot;: 329.150709473, &quot;Shape_Leng&quot;: 95.4454531036}, &quot;type&quot;: &quot;Feature&quot;}, {&quot;bbox&quot;: [-117.5999948688037, 47.65042184865737, -117.5999948688037, 47.65042184865737], &quot;geometry&quot;: {&quot;coordinates&quot;: [-117.5999948688037, 47.65042184865737], &quot;type&quot;: &quot;Point&quot;}, &quot;id&quot;: &quot;183&quot;, &quot;properties&quot;: {&quot;Class&quot;: &quot;1&quot;, &quot;Confidence&quot;: 39.6352529526, &quot;Shape_Area&quot;: 226.393037702, &quot;Shape_Leng&quot;: 70.3712323233}, &quot;type&quot;: &quot;Feature&quot;}, {&quot;bbox&quot;: [-117.59965042217564, 47.65084956484576, -117.59965042217564, 47.65084956484576], &quot;geometry&quot;: {&quot;coordinates&quot;: [-117.59965042217564, 47.65084956484576], &quot;type&quot;: &quot;Point&quot;}, &quot;id&quot;: &quot;184&quot;, &quot;properties&quot;: {&quot;Class&quot;: &quot;1&quot;, &quot;Confidence&quot;: 23.0922475457, &quot;Shape_Area&quot;: 264.314446918, &quot;Shape_Leng&quot;: 80.2587481141}, &quot;type&quot;: &quot;Feature&quot;}, {&quot;bbox&quot;: [-117.59989216927174, 47.65122118346648, -117.59989216927174, 47.65122118346648], &quot;geometry&quot;: {&quot;coordinates&quot;: [-117.59989216927174, 47.65122118346648], &quot;type&quot;: &quot;Point&quot;}, &quot;id&quot;: &quot;185&quot;, &quot;properties&quot;: {&quot;Class&quot;: &quot;1&quot;, &quot;Confidence&quot;: 20.253264904, &quot;Shape_Area&quot;: 205.69737187, &quot;Shape_Leng&quot;: 64.0246178508}, &quot;type&quot;: &quot;Feature&quot;}, {&quot;bbox&quot;: [-117.59830056340088, 47.65191490546335, -117.59830056340088, 47.65191490546335], &quot;geometry&quot;: {&quot;coordinates&quot;: [-117.59830056340088, 47.65191490546335], &quot;type&quot;: &quot;Point&quot;}, &quot;id&quot;: &quot;186&quot;, &quot;properties&quot;: {&quot;Class&quot;: &quot;1&quot;, &quot;Confidence&quot;: 99.3707358837, &quot;Shape_Area&quot;: 1807.73001573, &quot;Shape_Leng&quot;: 192.356046766}, &quot;type&quot;: &quot;Feature&quot;}, {&quot;bbox&quot;: [-117.59884617136231, 47.651333248882445, -117.59884617136231, 47.651333248882445], &quot;geometry&quot;: {&quot;coordinates&quot;: [-117.59884617136231, 47.651333248882445], &quot;type&quot;: &quot;Point&quot;}, &quot;id&quot;: &quot;187&quot;, &quot;properties&quot;: {&quot;Class&quot;: &quot;1&quot;, &quot;Confidence&quot;: 98.9255070686, &quot;Shape_Area&quot;: 1355.86977631, &quot;Shape_Leng&quot;: 170.942635402}, &quot;type&quot;: &quot;Feature&quot;}, {&quot;bbox&quot;: [-117.59824871942125, 47.65157744260236, -117.59824871942125, 47.65157744260236], &quot;geometry&quot;: {&quot;coordinates&quot;: [-117.59824871942125, 47.65157744260236], &quot;type&quot;: &quot;Point&quot;}, &quot;id&quot;: &quot;188&quot;, &quot;properties&quot;: {&quot;Class&quot;: &quot;1&quot;, &quot;Confidence&quot;: 98.4392285347, &quot;Shape_Area&quot;: 1474.28798544, &quot;Shape_Leng&quot;: 191.045082472}, &quot;type&quot;: &quot;Feature&quot;}, {&quot;bbox&quot;: [-117.59916263901424, 47.65191516206221, -117.59916263901424, 47.65191516206221], &quot;geometry&quot;: {&quot;coordinates&quot;: [-117.59916263901424, 47.65191516206221], &quot;type&quot;: &quot;Point&quot;}, &quot;id&quot;: &quot;189&quot;, &quot;properties&quot;: {&quot;Class&quot;: &quot;1&quot;, &quot;Confidence&quot;: 97.6498365402, &quot;Shape_Area&quot;: 1964.71986968, &quot;Shape_Leng&quot;: 199.291076615}, &quot;type&quot;: &quot;Feature&quot;}, {&quot;bbox&quot;: [-117.59838720008834, 47.652081208704054, -117.59838720008834, 47.652081208704054], &quot;geometry&quot;: {&quot;coordinates&quot;: [-117.59838720008834, 47.652081208704054], &quot;type&quot;: &quot;Point&quot;}, &quot;id&quot;: &quot;190&quot;, &quot;properties&quot;: {&quot;Class&quot;: &quot;1&quot;, &quot;Confidence&quot;: 84.6852898598, &quot;Shape_Area&quot;: 547.059899978, &quot;Shape_Leng&quot;: 137.561115678}, &quot;type&quot;: &quot;Feature&quot;}, {&quot;bbox&quot;: [-117.59910460680497, 47.652080945702856, -117.59910460680497, 47.652080945702856], &quot;geometry&quot;: {&quot;coordinates&quot;: [-117.59910460680497, 47.652080945702856], &quot;type&quot;: &quot;Point&quot;}, &quot;id&quot;: &quot;191&quot;, &quot;properties&quot;: {&quot;Class&quot;: &quot;1&quot;, &quot;Confidence&quot;: 83.8408589363, &quot;Shape_Area&quot;: 563.167392538, &quot;Shape_Leng&quot;: 137.006467506}, &quot;type&quot;: &quot;Feature&quot;}, {&quot;bbox&quot;: [-117.59833124704696, 47.651453238740075, -117.59833124704696, 47.651453238740075], &quot;geometry&quot;: {&quot;coordinates&quot;: [-117.59833124704696, 47.651453238740075], &quot;type&quot;: &quot;Point&quot;}, &quot;id&quot;: &quot;192&quot;, &quot;properties&quot;: {&quot;Class&quot;: &quot;1&quot;, &quot;Confidence&quot;: 65.7198190689, &quot;Shape_Area&quot;: 127.613337693, &quot;Shape_Leng&quot;: 48.4026896209}, &quot;type&quot;: &quot;Feature&quot;}, {&quot;bbox&quot;: [-117.59808526287487, 47.65145519037101, -117.59808526287487, 47.65145519037101], &quot;geometry&quot;: {&quot;coordinates&quot;: [-117.59808526287487, 47.65145519037101], &quot;type&quot;: &quot;Point&quot;}, &quot;id&quot;: &quot;193&quot;, &quot;properties&quot;: {&quot;Class&quot;: &quot;1&quot;, &quot;Confidence&quot;: 63.4771168232, &quot;Shape_Area&quot;: 128.797308823, &quot;Shape_Leng&quot;: 48.5175660886}, &quot;type&quot;: &quot;Feature&quot;}, {&quot;bbox&quot;: [-117.59863264093646, 47.651342986418, -117.59863264093646, 47.651342986418], &quot;geometry&quot;: {&quot;coordinates&quot;: [-117.59863264093646, 47.651342986418], &quot;type&quot;: &quot;Point&quot;}, &quot;id&quot;: &quot;194&quot;, &quot;properties&quot;: {&quot;Class&quot;: &quot;1&quot;, &quot;Confidence&quot;: 50.3462672234, &quot;Shape_Area&quot;: 202.880499297, &quot;Shape_Leng&quot;: 65.6750310436}, &quot;type&quot;: &quot;Feature&quot;}, {&quot;bbox&quot;: [-117.5980196752043, 47.651586437971766, -117.5980196752043, 47.651586437971766], &quot;geometry&quot;: {&quot;coordinates&quot;: [-117.5980196752043, 47.651586437971766], &quot;type&quot;: &quot;Point&quot;}, &quot;id&quot;: &quot;195&quot;, &quot;properties&quot;: {&quot;Class&quot;: &quot;1&quot;, &quot;Confidence&quot;: 26.2931406498, &quot;Shape_Area&quot;: 429.302856696, &quot;Shape_Leng&quot;: 83.3219390959}, &quot;type&quot;: &quot;Feature&quot;}, {&quot;bbox&quot;: [-117.59732391877878, 47.65196962583956, -117.59732391877878, 47.65196962583956], &quot;geometry&quot;: {&quot;coordinates&quot;: [-117.59732391877878, 47.65196962583956], &quot;type&quot;: &quot;Point&quot;}, &quot;id&quot;: &quot;196&quot;, &quot;properties&quot;: {&quot;Class&quot;: &quot;1&quot;, &quot;Confidence&quot;: 98.3248233795, &quot;Shape_Area&quot;: 570.539433206, &quot;Shape_Leng&quot;: 95.6377540007}, &quot;type&quot;: &quot;Feature&quot;}, {&quot;bbox&quot;: [-117.59720644374774, 47.65162277735087, -117.59720644374774, 47.65162277735087], &quot;geometry&quot;: {&quot;coordinates&quot;: [-117.59720644374774, 47.65162277735087], &quot;type&quot;: &quot;Point&quot;}, &quot;id&quot;: &quot;197&quot;, &quot;properties&quot;: {&quot;Class&quot;: &quot;1&quot;, &quot;Confidence&quot;: 98.2289612293, &quot;Shape_Area&quot;: 643.078227219, &quot;Shape_Leng&quot;: 101.471878853}, &quot;type&quot;: &quot;Feature&quot;}, {&quot;bbox&quot;: [-117.59726119342226, 47.651783279661615, -117.59726119342226, 47.651783279661615], &quot;geometry&quot;: {&quot;coordinates&quot;: [-117.59726119342226, 47.651783279661615], &quot;type&quot;: &quot;Point&quot;}, &quot;id&quot;: &quot;198&quot;, &quot;properties&quot;: {&quot;Class&quot;: &quot;1&quot;, &quot;Confidence&quot;: 97.586286068, &quot;Shape_Area&quot;: 631.526739933, &quot;Shape_Leng&quot;: 100.699170295}, &quot;type&quot;: &quot;Feature&quot;}, {&quot;bbox&quot;: [-117.5973816659844, 47.65214279223142, -117.5973816659844, 47.65214279223142], &quot;geometry&quot;: {&quot;coordinates&quot;: [-117.5973816659844, 47.65214279223142], &quot;type&quot;: &quot;Point&quot;}, &quot;id&quot;: &quot;199&quot;, &quot;properties&quot;: {&quot;Class&quot;: &quot;1&quot;, &quot;Confidence&quot;: 96.6647744179, &quot;Shape_Area&quot;: 552.258169439, &quot;Shape_Leng&quot;: 94.4119562134}, &quot;type&quot;: &quot;Feature&quot;}, {&quot;bbox&quot;: [-117.59671731512687, 47.65144034178119, -117.59671731512687, 47.65144034178119], &quot;geometry&quot;: {&quot;coordinates&quot;: [-117.59671731512687, 47.65144034178119], &quot;type&quot;: &quot;Point&quot;}, &quot;id&quot;: &quot;200&quot;, &quot;properties&quot;: {&quot;Class&quot;: &quot;1&quot;, &quot;Confidence&quot;: 95.7552373409, &quot;Shape_Area&quot;: 828.708408608, &quot;Shape_Leng&quot;: 115.17088981}, &quot;type&quot;: &quot;Feature&quot;}, {&quot;bbox&quot;: [-117.59703220028005, 47.65215700005716, -117.59703220028005, 47.65215700005716], &quot;geometry&quot;: {&quot;coordinates&quot;: [-117.59703220028005, 47.65215700005716], &quot;type&quot;: &quot;Point&quot;}, &quot;id&quot;: &quot;201&quot;, &quot;properties&quot;: {&quot;Class&quot;: &quot;1&quot;, &quot;Confidence&quot;: 95.6207215786, &quot;Shape_Area&quot;: 611.979893907, &quot;Shape_Leng&quot;: 99.9374720566}, &quot;type&quot;: &quot;Feature&quot;}, {&quot;bbox&quot;: [-117.59713089650131, 47.65145695516469, -117.59713089650131, 47.65145695516469], &quot;geometry&quot;: {&quot;coordinates&quot;: [-117.59713089650131, 47.65145695516469], &quot;type&quot;: &quot;Point&quot;}, &quot;id&quot;: &quot;202&quot;, &quot;properties&quot;: {&quot;Class&quot;: &quot;1&quot;, &quot;Confidence&quot;: 95.3028798103, &quot;Shape_Area&quot;: 609.670216899, &quot;Shape_Leng&quot;: 100.124553148}, &quot;type&quot;: &quot;Feature&quot;}, {&quot;bbox&quot;: [-117.59676237991593, 47.651950760895005, -117.59676237991593, 47.651950760895005], &quot;geometry&quot;: {&quot;coordinates&quot;: [-117.59676237991593, 47.651950760895005], &quot;type&quot;: &quot;Point&quot;}, &quot;id&quot;: &quot;203&quot;, &quot;properties&quot;: {&quot;Class&quot;: &quot;1&quot;, &quot;Confidence&quot;: 92.7472352982, &quot;Shape_Area&quot;: 353.931355788, &quot;Shape_Leng&quot;: 75.2534625828}, &quot;type&quot;: &quot;Feature&quot;}, {&quot;bbox&quot;: [-117.59814902887945, 47.65123187576889, -117.59814902887945, 47.65123187576889], &quot;geometry&quot;: {&quot;coordinates&quot;: [-117.59814902887945, 47.65123187576889], &quot;type&quot;: &quot;Point&quot;}, &quot;id&quot;: &quot;204&quot;, &quot;properties&quot;: {&quot;Class&quot;: &quot;1&quot;, &quot;Confidence&quot;: 99.441576004, &quot;Shape_Area&quot;: 1357.14791657, &quot;Shape_Leng&quot;: 171.797926784}, &quot;type&quot;: &quot;Feature&quot;}, {&quot;bbox&quot;: [-117.59813264763615, 47.650838655686236, -117.59813264763615, 47.650838655686236], &quot;geometry&quot;: {&quot;coordinates&quot;: [-117.59813264763615, 47.650838655686236], &quot;type&quot;: &quot;Point&quot;}, &quot;id&quot;: &quot;205&quot;, &quot;properties&quot;: {&quot;Class&quot;: &quot;1&quot;, &quot;Confidence&quot;: 99.1901814938, &quot;Shape_Area&quot;: 1300.60653391, &quot;Shape_Leng&quot;: 170.278869528}, &quot;type&quot;: &quot;Feature&quot;}, {&quot;bbox&quot;: [-117.59808949945977, 47.65061458109279, -117.59808949945977, 47.65061458109279], &quot;geometry&quot;: {&quot;coordinates&quot;: [-117.59808949945977, 47.65061458109279], &quot;type&quot;: &quot;Point&quot;}, &quot;id&quot;: &quot;206&quot;, &quot;properties&quot;: {&quot;Class&quot;: &quot;1&quot;, &quot;Confidence&quot;: 99.1708338261, &quot;Shape_Area&quot;: 1265.56244582, &quot;Shape_Leng&quot;: 154.980180517}, &quot;type&quot;: &quot;Feature&quot;}, {&quot;bbox&quot;: [-117.59920540265668, 47.65121566592489, -117.59920540265668, 47.65121566592489], &quot;geometry&quot;: {&quot;coordinates&quot;: [-117.59920540265668, 47.65121566592489], &quot;type&quot;: &quot;Point&quot;}, &quot;id&quot;: &quot;207&quot;, &quot;properties&quot;: {&quot;Class&quot;: &quot;1&quot;, &quot;Confidence&quot;: 99.0869045258, &quot;Shape_Area&quot;: 2597.54547861, &quot;Shape_Leng&quot;: 230.033551577}, &quot;type&quot;: &quot;Feature&quot;}, {&quot;bbox&quot;: [-117.59878504258275, 47.65038269820284, -117.59878504258275, 47.65038269820284], &quot;geometry&quot;: {&quot;coordinates&quot;: [-117.59878504258275, 47.65038269820284], &quot;type&quot;: &quot;Point&quot;}, &quot;id&quot;: &quot;208&quot;, &quot;properties&quot;: {&quot;Class&quot;: &quot;1&quot;, &quot;Confidence&quot;: 98.7104296684, &quot;Shape_Area&quot;: 1418.03409002, &quot;Shape_Leng&quot;: 174.947821502}, &quot;type&quot;: &quot;Feature&quot;}, {&quot;bbox&quot;: [-117.59920891404562, 47.65044940094283, -117.59920891404562, 47.65044940094283], &quot;geometry&quot;: {&quot;coordinates&quot;: [-117.59920891404562, 47.65044940094283], &quot;type&quot;: &quot;Point&quot;}, &quot;id&quot;: &quot;209&quot;, &quot;properties&quot;: {&quot;Class&quot;: &quot;1&quot;, &quot;Confidence&quot;: 98.3936786652, &quot;Shape_Area&quot;: 2400.24756443, &quot;Shape_Leng&quot;: 221.080246374}, &quot;type&quot;: &quot;Feature&quot;}, {&quot;bbox&quot;: [-117.59882797729287, 47.650846766220155, -117.59882797729287, 47.650846766220155], &quot;geometry&quot;: {&quot;coordinates&quot;: [-117.59882797729287, 47.650846766220155], &quot;type&quot;: &quot;Point&quot;}, &quot;id&quot;: &quot;210&quot;, &quot;properties&quot;: {&quot;Class&quot;: &quot;1&quot;, &quot;Confidence&quot;: 93.1965470314, &quot;Shape_Area&quot;: 1219.17216055, &quot;Shape_Leng&quot;: 167.013870053}, &quot;type&quot;: &quot;Feature&quot;}, {&quot;bbox&quot;: [-117.5982513869309, 47.651098892771806, -117.5982513869309, 47.651098892771806], &quot;geometry&quot;: {&quot;coordinates&quot;: [-117.5982513869309, 47.651098892771806], &quot;type&quot;: &quot;Point&quot;}, &quot;id&quot;: &quot;211&quot;, &quot;properties&quot;: {&quot;Class&quot;: &quot;1&quot;, &quot;Confidence&quot;: 73.9120960236, &quot;Shape_Area&quot;: 124.157747205, &quot;Shape_Leng&quot;: 47.7599263042}, &quot;type&quot;: &quot;Feature&quot;}, {&quot;bbox&quot;: [-117.59826931138458, 47.650978783582225, -117.59826931138458, 47.650978783582225], &quot;geometry&quot;: {&quot;coordinates&quot;: [-117.59826931138458, 47.650978783582225], &quot;type&quot;: &quot;Point&quot;}, &quot;id&quot;: &quot;212&quot;, &quot;properties&quot;: {&quot;Class&quot;: &quot;1&quot;, &quot;Confidence&quot;: 71.2948918343, &quot;Shape_Area&quot;: 173.370422546, &quot;Shape_Leng&quot;: 61.4352929965}, &quot;type&quot;: &quot;Feature&quot;}, {&quot;bbox&quot;: [-117.59798600172105, 47.651093778223725, -117.59798600172105, 47.651093778223725], &quot;geometry&quot;: {&quot;coordinates&quot;: [-117.59798600172105, 47.651093778223725], &quot;type&quot;: &quot;Point&quot;}, &quot;id&quot;: &quot;213&quot;, &quot;properties&quot;: {&quot;Class&quot;: &quot;1&quot;, &quot;Confidence&quot;: 69.31168437, &quot;Shape_Area&quot;: 128.332104902, &quot;Shape_Leng&quot;: 48.4654487297}, &quot;type&quot;: &quot;Feature&quot;}, {&quot;bbox&quot;: [-117.59798483076703, 47.65097885658443, -117.59798483076703, 47.65097885658443], &quot;geometry&quot;: {&quot;coordinates&quot;: [-117.59798483076703, 47.65097885658443], &quot;type&quot;: &quot;Point&quot;}, &quot;id&quot;: &quot;214&quot;, &quot;properties&quot;: {&quot;Class&quot;: &quot;1&quot;, &quot;Confidence&quot;: 61.7276072502, &quot;Shape_Area&quot;: 119.931547295, &quot;Shape_Leng&quot;: 47.2864964008}, &quot;type&quot;: &quot;Feature&quot;}, {&quot;bbox&quot;: [-117.59863183519957, 47.65081020880127, -117.59863183519957, 47.65081020880127], &quot;geometry&quot;: {&quot;coordinates&quot;: [-117.59863183519957, 47.65081020880127], &quot;type&quot;: &quot;Point&quot;}, &quot;id&quot;: &quot;215&quot;, &quot;properties&quot;: {&quot;Class&quot;: &quot;1&quot;, &quot;Confidence&quot;: 56.6435575485, &quot;Shape_Area&quot;: 197.86253234, &quot;Shape_Leng&quot;: 64.1152257361}, &quot;type&quot;: &quot;Feature&quot;}, {&quot;bbox&quot;: [-117.59858010810247, 47.65035612442537, -117.59858010810247, 47.65035612442537], &quot;geometry&quot;: {&quot;coordinates&quot;: [-117.59858010810247, 47.65035612442537], &quot;type&quot;: &quot;Point&quot;}, &quot;id&quot;: &quot;216&quot;, &quot;properties&quot;: {&quot;Class&quot;: &quot;1&quot;, &quot;Confidence&quot;: 53.9819300175, &quot;Shape_Area&quot;: 254.379846988, &quot;Shape_Leng&quot;: 78.6641677618}, &quot;type&quot;: &quot;Feature&quot;}, {&quot;bbox&quot;: [-117.59882996626146, 47.6509870985012, -117.59882996626146, 47.6509870985012], &quot;geometry&quot;: {&quot;coordinates&quot;: [-117.59882996626146, 47.6509870985012], &quot;type&quot;: &quot;Point&quot;}, &quot;id&quot;: &quot;217&quot;, &quot;properties&quot;: {&quot;Class&quot;: &quot;1&quot;, &quot;Confidence&quot;: 42.5778210163, &quot;Shape_Area&quot;: 430.204832487, &quot;Shape_Leng&quot;: 83.6406517439}, &quot;type&quot;: &quot;Feature&quot;}, {&quot;bbox&quot;: [-117.59924611332349, 47.650877761784066, -117.59924611332349, 47.650877761784066], &quot;geometry&quot;: {&quot;coordinates&quot;: [-117.59924611332349, 47.650877761784066], &quot;type&quot;: &quot;Point&quot;}, &quot;id&quot;: &quot;218&quot;, &quot;properties&quot;: {&quot;Class&quot;: &quot;1&quot;, &quot;Confidence&quot;: 42.4430608749, &quot;Shape_Area&quot;: 198.980431034, &quot;Shape_Leng&quot;: 66.274615638}, &quot;type&quot;: &quot;Feature&quot;}, {&quot;bbox&quot;: [-117.59882330608154, 47.650731252176776, -117.59882330608154, 47.650731252176776], &quot;geometry&quot;: {&quot;coordinates&quot;: [-117.59882330608154, 47.650731252176776], &quot;type&quot;: &quot;Point&quot;}, &quot;id&quot;: &quot;219&quot;, &quot;properties&quot;: {&quot;Class&quot;: &quot;1&quot;, &quot;Confidence&quot;: 29.8781126738, &quot;Shape_Area&quot;: 428.400589593, &quot;Shape_Leng&quot;: 83.2315212041}, &quot;type&quot;: &quot;Feature&quot;}, {&quot;bbox&quot;: [-117.59793333972692, 47.65083646992214, -117.59793333972692, 47.65083646992214], &quot;geometry&quot;: {&quot;coordinates&quot;: [-117.59793333972692, 47.65083646992214], &quot;type&quot;: &quot;Point&quot;}, &quot;id&quot;: &quot;220&quot;, &quot;properties&quot;: {&quot;Class&quot;: &quot;1&quot;, &quot;Confidence&quot;: 24.7590228915, &quot;Shape_Area&quot;: 418.386216521, &quot;Shape_Leng&quot;: 82.1986683607}, &quot;type&quot;: &quot;Feature&quot;}, {&quot;bbox&quot;: [-117.59879085348123, 47.65051523997946, -117.59879085348123, 47.65051523997946], &quot;geometry&quot;: {&quot;coordinates&quot;: [-117.59879085348123, 47.65051523997946], &quot;type&quot;: &quot;Point&quot;}, &quot;id&quot;: &quot;221&quot;, &quot;properties&quot;: {&quot;Class&quot;: &quot;1&quot;, &quot;Confidence&quot;: 21.036092937, &quot;Shape_Area&quot;: 342.161075605, &quot;Shape_Leng&quot;: 74.5922035724}, &quot;type&quot;: &quot;Feature&quot;}, {&quot;bbox&quot;: [-117.59769846627697, 47.651053956358844, -117.59769846627697, 47.651053956358844], &quot;geometry&quot;: {&quot;coordinates&quot;: [-117.59769846627697, 47.651053956358844], &quot;type&quot;: &quot;Point&quot;}, &quot;id&quot;: &quot;222&quot;, &quot;properties&quot;: {&quot;Class&quot;: &quot;1&quot;, &quot;Confidence&quot;: 99.1063117981, &quot;Shape_Area&quot;: 940.000996304, &quot;Shape_Leng&quot;: 130.631397787}, &quot;type&quot;: &quot;Feature&quot;}, {&quot;bbox&quot;: [-117.59763813030196, 47.65040612100148, -117.59763813030196, 47.65040612100148], &quot;geometry&quot;: {&quot;coordinates&quot;: [-117.59763813030196, 47.65040612100148], &quot;type&quot;: &quot;Point&quot;}, &quot;id&quot;: &quot;223&quot;, &quot;properties&quot;: {&quot;Class&quot;: &quot;1&quot;, &quot;Confidence&quot;: 98.8546967506, &quot;Shape_Area&quot;: 835.657274387, &quot;Shape_Leng&quot;: 125.581557639}, &quot;type&quot;: &quot;Feature&quot;}, {&quot;bbox&quot;: [-117.59709158269615, 47.65125872175628, -117.59709158269615, 47.65125872175628], &quot;geometry&quot;: {&quot;coordinates&quot;: [-117.59709158269615, 47.65125872175628], &quot;type&quot;: &quot;Point&quot;}, &quot;id&quot;: &quot;224&quot;, &quot;properties&quot;: {&quot;Class&quot;: &quot;1&quot;, &quot;Confidence&quot;: 98.5221922398, &quot;Shape_Area&quot;: 647.472912264, &quot;Shape_Leng&quot;: 101.782526225}, &quot;type&quot;: &quot;Feature&quot;}, {&quot;bbox&quot;: [-117.59691922948524, 47.65083244009237, -117.59691922948524, 47.65083244009237], &quot;geometry&quot;: {&quot;coordinates&quot;: [-117.59691922948524, 47.65083244009237], &quot;type&quot;: &quot;Point&quot;}, &quot;id&quot;: &quot;225&quot;, &quot;properties&quot;: {&quot;Class&quot;: &quot;1&quot;, &quot;Confidence&quot;: 98.3241915703, &quot;Shape_Area&quot;: 674.827245428, &quot;Shape_Leng&quot;: 104.056872375}, &quot;type&quot;: &quot;Feature&quot;}, {&quot;bbox&quot;: [-117.59680614393591, 47.65059325769963, -117.59680614393591, 47.65059325769963], &quot;geometry&quot;: {&quot;coordinates&quot;: [-117.59680614393591, 47.65059325769963], &quot;type&quot;: &quot;Point&quot;}, &quot;id&quot;: &quot;226&quot;, &quot;properties&quot;: {&quot;Class&quot;: &quot;1&quot;, &quot;Confidence&quot;: 97.4842131138, &quot;Shape_Area&quot;: 658.218663693, &quot;Shape_Leng&quot;: 102.724102791}, &quot;type&quot;: &quot;Feature&quot;}, {&quot;bbox&quot;: [-117.59665752574982, 47.650892744405596, -117.59665752574982, 47.650892744405596], &quot;geometry&quot;: {&quot;coordinates&quot;: [-117.59665752574982, 47.650892744405596], &quot;type&quot;: &quot;Point&quot;}, &quot;id&quot;: &quot;227&quot;, &quot;properties&quot;: {&quot;Class&quot;: &quot;1&quot;, &quot;Confidence&quot;: 93.3696329594, &quot;Shape_Area&quot;: 541.748512058, &quot;Shape_Leng&quot;: 93.1038509086}, &quot;type&quot;: &quot;Feature&quot;}, {&quot;bbox&quot;: [-117.59570310289934, 47.651488240424634, -117.59570310289934, 47.651488240424634], &quot;geometry&quot;: {&quot;coordinates&quot;: [-117.59570310289934, 47.651488240424634], &quot;type&quot;: &quot;Point&quot;}, &quot;id&quot;: &quot;228&quot;, &quot;properties&quot;: {&quot;Class&quot;: &quot;1&quot;, &quot;Confidence&quot;: 98.3529746532, &quot;Shape_Area&quot;: 980.533400571, &quot;Shape_Leng&quot;: 125.305982541}, &quot;type&quot;: &quot;Feature&quot;}, {&quot;bbox&quot;: [-117.59618320896955, 47.65184076833947, -117.59618320896955, 47.65184076833947], &quot;geometry&quot;: {&quot;coordinates&quot;: [-117.59618320896955, 47.65184076833947], &quot;type&quot;: &quot;Point&quot;}, &quot;id&quot;: &quot;229&quot;, &quot;properties&quot;: {&quot;Class&quot;: &quot;1&quot;, &quot;Confidence&quot;: 98.0190813541, &quot;Shape_Area&quot;: 778.707810887, &quot;Shape_Leng&quot;: 111.68180196}, &quot;type&quot;: &quot;Feature&quot;}, {&quot;bbox&quot;: [-117.59552862353837, 47.65162548014694, -117.59552862353837, 47.65162548014694], &quot;geometry&quot;: {&quot;coordinates&quot;: [-117.59552862353837, 47.65162548014694], &quot;type&quot;: &quot;Point&quot;}, &quot;id&quot;: &quot;230&quot;, &quot;properties&quot;: {&quot;Class&quot;: &quot;1&quot;, &quot;Confidence&quot;: 97.0724523067, &quot;Shape_Area&quot;: 812.210771488, &quot;Shape_Leng&quot;: 114.05582314}, &quot;type&quot;: &quot;Feature&quot;}, {&quot;bbox&quot;: [-117.59582051588762, 47.65210182866992, -117.59582051588762, 47.65210182866992], &quot;geometry&quot;: {&quot;coordinates&quot;: [-117.59582051588762, 47.65210182866992], &quot;type&quot;: &quot;Point&quot;}, &quot;id&quot;: &quot;231&quot;, &quot;properties&quot;: {&quot;Class&quot;: &quot;1&quot;, &quot;Confidence&quot;: 95.9931790829, &quot;Shape_Area&quot;: 721.305846341, &quot;Shape_Leng&quot;: 107.744273975}, &quot;type&quot;: &quot;Feature&quot;}, {&quot;bbox&quot;: [-117.59637077869026, 47.65170792094499, -117.59637077869026, 47.65170792094499], &quot;geometry&quot;: {&quot;coordinates&quot;: [-117.59637077869026, 47.65170792094499], &quot;type&quot;: &quot;Point&quot;}, &quot;id&quot;: &quot;232&quot;, &quot;properties&quot;: {&quot;Class&quot;: &quot;1&quot;, &quot;Confidence&quot;: 95.4302072525, &quot;Shape_Area&quot;: 681.396974988, &quot;Shape_Leng&quot;: 104.830962747}, &quot;type&quot;: &quot;Feature&quot;}, {&quot;bbox&quot;: [-117.59600626803488, 47.65198118981001, -117.59600626803488, 47.65198118981001], &quot;geometry&quot;: {&quot;coordinates&quot;: [-117.59600626803488, 47.65198118981001], &quot;type&quot;: &quot;Point&quot;}, &quot;id&quot;: &quot;233&quot;, &quot;properties&quot;: {&quot;Class&quot;: &quot;1&quot;, &quot;Confidence&quot;: 95.0843334198, &quot;Shape_Area&quot;: 776.657616266, &quot;Shape_Leng&quot;: 111.571902655}, &quot;type&quot;: &quot;Feature&quot;}, {&quot;bbox&quot;: [-117.59530562578587, 47.651444222662725, -117.59530562578587, 47.651444222662725], &quot;geometry&quot;: {&quot;coordinates&quot;: [-117.59530562578587, 47.651444222662725], &quot;type&quot;: &quot;Point&quot;}, &quot;id&quot;: &quot;234&quot;, &quot;properties&quot;: {&quot;Class&quot;: &quot;1&quot;, &quot;Confidence&quot;: 92.9345905781, &quot;Shape_Area&quot;: 734.945326991, &quot;Shape_Leng&quot;: 108.576836225}, &quot;type&quot;: &quot;Feature&quot;}, {&quot;bbox&quot;: [-117.59652089736082, 47.65157993234505, -117.59652089736082, 47.65157993234505], &quot;geometry&quot;: {&quot;coordinates&quot;: [-117.59652089736082, 47.65157993234505], &quot;type&quot;: &quot;Point&quot;}, &quot;id&quot;: &quot;235&quot;, &quot;properties&quot;: {&quot;Class&quot;: &quot;1&quot;, &quot;Confidence&quot;: 92.7528738976, &quot;Shape_Area&quot;: 632.018977043, &quot;Shape_Leng&quot;: 100.587550338}, &quot;type&quot;: &quot;Feature&quot;}, {&quot;bbox&quot;: [-117.59639201809155, 47.65203062935336, -117.59639201809155, 47.65203062935336], &quot;geometry&quot;: {&quot;coordinates&quot;: [-117.59639201809155, 47.65203062935336], &quot;type&quot;: &quot;Point&quot;}, &quot;id&quot;: &quot;236&quot;, &quot;properties&quot;: {&quot;Class&quot;: &quot;1&quot;, &quot;Confidence&quot;: 92.3021614552, &quot;Shape_Area&quot;: 885.951899588, &quot;Shape_Leng&quot;: 119.060202871}, &quot;type&quot;: &quot;Feature&quot;}, {&quot;bbox&quot;: [-117.59590177630307, 47.65132387587161, -117.59590177630307, 47.65132387587161], &quot;geometry&quot;: {&quot;coordinates&quot;: [-117.59590177630307, 47.65132387587161], &quot;type&quot;: &quot;Point&quot;}, &quot;id&quot;: &quot;237&quot;, &quot;properties&quot;: {&quot;Class&quot;: &quot;1&quot;, &quot;Confidence&quot;: 92.2043204308, &quot;Shape_Area&quot;: 527.028767904, &quot;Shape_Leng&quot;: 92.0803356431}, &quot;type&quot;: &quot;Feature&quot;}, {&quot;bbox&quot;: [-117.59413397843015, 47.65192085869968, -117.59413397843015, 47.65192085869968], &quot;geometry&quot;: {&quot;coordinates&quot;: [-117.59413397843015, 47.65192085869968], &quot;type&quot;: &quot;Point&quot;}, &quot;id&quot;: &quot;238&quot;, &quot;properties&quot;: {&quot;Class&quot;: &quot;1&quot;, &quot;Confidence&quot;: 97.2427606583, &quot;Shape_Area&quot;: 331.647876332, &quot;Shape_Leng&quot;: 72.9628577232}, &quot;type&quot;: &quot;Feature&quot;}, {&quot;bbox&quot;: [-117.59415496245771, 47.651587197538255, -117.59415496245771, 47.651587197538255], &quot;geometry&quot;: {&quot;coordinates&quot;: [-117.59415496245771, 47.651587197538255], &quot;type&quot;: &quot;Point&quot;}, &quot;id&quot;: &quot;239&quot;, &quot;properties&quot;: {&quot;Class&quot;: &quot;1&quot;, &quot;Confidence&quot;: 96.9849646091, &quot;Shape_Area&quot;: 420.982821508, &quot;Shape_Leng&quot;: 82.4806896076}, &quot;type&quot;: &quot;Feature&quot;}, {&quot;bbox&quot;: [-117.59478304042202, 47.6515286847383, -117.59478304042202, 47.6515286847383], &quot;geometry&quot;: {&quot;coordinates&quot;: [-117.59478304042202, 47.6515286847383], &quot;type&quot;: &quot;Point&quot;}, &quot;id&quot;: &quot;240&quot;, &quot;properties&quot;: {&quot;Class&quot;: &quot;1&quot;, &quot;Confidence&quot;: 96.5812265873, &quot;Shape_Area&quot;: 610.669504935, &quot;Shape_Leng&quot;: 100.267145537}, &quot;type&quot;: &quot;Feature&quot;}, {&quot;bbox&quot;: [-117.59474315857396, 47.65182814557038, -117.59474315857396, 47.65182814557038], &quot;geometry&quot;: {&quot;coordinates&quot;: [-117.59474315857396, 47.65182814557038], &quot;type&quot;: &quot;Point&quot;}, &quot;id&quot;: &quot;241&quot;, &quot;properties&quot;: {&quot;Class&quot;: &quot;1&quot;, &quot;Confidence&quot;: 96.4653015137, &quot;Shape_Area&quot;: 752.448642782, &quot;Shape_Leng&quot;: 109.75515344}, &quot;type&quot;: &quot;Feature&quot;}, {&quot;bbox&quot;: [-117.59415881811005, 47.65141111002054, -117.59415881811005, 47.65141111002054], &quot;geometry&quot;: {&quot;coordinates&quot;: [-117.59415881811005, 47.65141111002054], &quot;type&quot;: &quot;Point&quot;}, &quot;id&quot;: &quot;242&quot;, &quot;properties&quot;: {&quot;Class&quot;: &quot;1&quot;, &quot;Confidence&quot;: 96.4307487011, &quot;Shape_Area&quot;: 451.344986265, &quot;Shape_Leng&quot;: 85.6464794129}, &quot;type&quot;: &quot;Feature&quot;}, {&quot;bbox&quot;: [-117.59415124513276, 47.65207163490387, -117.59415124513276, 47.65207163490387], &quot;geometry&quot;: {&quot;coordinates&quot;: [-117.59415124513276, 47.65207163490387], &quot;type&quot;: &quot;Point&quot;}, &quot;id&quot;: &quot;243&quot;, &quot;properties&quot;: {&quot;Class&quot;: &quot;1&quot;, &quot;Confidence&quot;: 96.3739693165, &quot;Shape_Area&quot;: 472.080704687, &quot;Shape_Leng&quot;: 87.2696228698}, &quot;type&quot;: &quot;Feature&quot;}, {&quot;bbox&quot;: [-117.59492861933322, 47.6521216413622, -117.59492861933322, 47.6521216413622], &quot;geometry&quot;: {&quot;coordinates&quot;: [-117.59492861933322, 47.6521216413622], &quot;type&quot;: &quot;Point&quot;}, &quot;id&quot;: &quot;244&quot;, &quot;properties&quot;: {&quot;Class&quot;: &quot;1&quot;, &quot;Confidence&quot;: 96.2838709354, &quot;Shape_Area&quot;: 668.093780121, &quot;Shape_Leng&quot;: 103.398901328}, &quot;type&quot;: &quot;Feature&quot;}, {&quot;bbox&quot;: [-117.59416323460246, 47.65173729763366, -117.59416323460246, 47.65173729763366], &quot;geometry&quot;: {&quot;coordinates&quot;: [-117.59416323460246, 47.65173729763366], &quot;type&quot;: &quot;Point&quot;}, &quot;id&quot;: &quot;245&quot;, &quot;properties&quot;: {&quot;Class&quot;: &quot;1&quot;, &quot;Confidence&quot;: 95.4254508018, &quot;Shape_Area&quot;: 474.664138654, &quot;Shape_Leng&quot;: 87.9761908054}, &quot;type&quot;: &quot;Feature&quot;}, {&quot;bbox&quot;: [-117.59505962229703, 47.65196813779362, -117.59505962229703, 47.65196813779362], &quot;geometry&quot;: {&quot;coordinates&quot;: [-117.59505962229703, 47.65196813779362], &quot;type&quot;: &quot;Point&quot;}, &quot;id&quot;: &quot;246&quot;, &quot;properties&quot;: {&quot;Class&quot;: &quot;1&quot;, &quot;Confidence&quot;: 93.573898077, &quot;Shape_Area&quot;: 728.547360059, &quot;Shape_Leng&quot;: 108.012009893}, &quot;type&quot;: &quot;Feature&quot;}, {&quot;bbox&quot;: [-117.59612582174269, 47.65117986469511, -117.59612582174269, 47.65117986469511], &quot;geometry&quot;: {&quot;coordinates&quot;: [-117.59612582174269, 47.65117986469511], &quot;type&quot;: &quot;Point&quot;}, &quot;id&quot;: &quot;247&quot;, &quot;properties&quot;: {&quot;Class&quot;: &quot;1&quot;, &quot;Confidence&quot;: 98.9716351032, &quot;Shape_Area&quot;: 972.266832258, &quot;Shape_Leng&quot;: 124.72479251}, &quot;type&quot;: &quot;Feature&quot;}, {&quot;bbox&quot;: [-117.59595511585614, 47.65084729453866, -117.59595511585614, 47.65084729453866], &quot;geometry&quot;: {&quot;coordinates&quot;: [-117.59595511585614, 47.65084729453866], &quot;type&quot;: &quot;Point&quot;}, &quot;id&quot;: &quot;248&quot;, &quot;properties&quot;: {&quot;Class&quot;: &quot;1&quot;, &quot;Confidence&quot;: 97.9003727436, &quot;Shape_Area&quot;: 462.912900434, &quot;Shape_Leng&quot;: 86.2544445843}, &quot;type&quot;: &quot;Feature&quot;}, {&quot;bbox&quot;: [-117.59593158660364, 47.650660593809334, -117.59593158660364, 47.650660593809334], &quot;geometry&quot;: {&quot;coordinates&quot;: [-117.59593158660364, 47.650660593809334], &quot;type&quot;: &quot;Point&quot;}, &quot;id&quot;: &quot;249&quot;, &quot;properties&quot;: {&quot;Class&quot;: &quot;1&quot;, &quot;Confidence&quot;: 97.8387475014, &quot;Shape_Area&quot;: 411.297681659, &quot;Shape_Leng&quot;: 81.5100573674}, &quot;type&quot;: &quot;Feature&quot;}, {&quot;bbox&quot;: [-117.59601332142489, 47.65103603392348, -117.59601332142489, 47.65103603392348], &quot;geometry&quot;: {&quot;coordinates&quot;: [-117.59601332142489, 47.65103603392348], &quot;type&quot;: &quot;Point&quot;}, &quot;id&quot;: &quot;250&quot;, &quot;properties&quot;: {&quot;Class&quot;: &quot;1&quot;, &quot;Confidence&quot;: 96.9837129116, &quot;Shape_Area&quot;: 711.05555044, &quot;Shape_Leng&quot;: 106.846013069}, &quot;type&quot;: &quot;Feature&quot;}, {&quot;bbox&quot;: [-117.59593333476785, 47.65047836716517, -117.59593333476785, 47.65047836716517], &quot;geometry&quot;: {&quot;coordinates&quot;: [-117.59593333476785, 47.65047836716517], &quot;type&quot;: &quot;Point&quot;}, &quot;id&quot;: &quot;251&quot;, &quot;properties&quot;: {&quot;Class&quot;: &quot;1&quot;, &quot;Confidence&quot;: 94.5067167282, &quot;Shape_Area&quot;: 595.829099226, &quot;Shape_Leng&quot;: 97.7997407652}, &quot;type&quot;: &quot;Feature&quot;}, {&quot;bbox&quot;: [-117.59428766955013, 47.650802678143215, -117.59428766955013, 47.650802678143215], &quot;geometry&quot;: {&quot;coordinates&quot;: [-117.59428766955013, 47.650802678143215], &quot;type&quot;: &quot;Point&quot;}, &quot;id&quot;: &quot;252&quot;, &quot;properties&quot;: {&quot;Class&quot;: &quot;1&quot;, &quot;Confidence&quot;: 97.8600800037, &quot;Shape_Area&quot;: 766.186902284, &quot;Shape_Leng&quot;: 113.603204507}, &quot;type&quot;: &quot;Feature&quot;}, {&quot;bbox&quot;: [-117.59485430491985, 47.6511228569297, -117.59485430491985, 47.6511228569297], &quot;geometry&quot;: {&quot;coordinates&quot;: [-117.59485430491985, 47.6511228569297], &quot;type&quot;: &quot;Point&quot;}, &quot;id&quot;: &quot;253&quot;, &quot;properties&quot;: {&quot;Class&quot;: &quot;1&quot;, &quot;Confidence&quot;: 93.7949955463, &quot;Shape_Area&quot;: 572.388906934, &quot;Shape_Leng&quot;: 103.27461018}, &quot;type&quot;: &quot;Feature&quot;}, {&quot;bbox&quot;: [-117.59409437536515, 47.65089299950516, -117.59409437536515, 47.65089299950516], &quot;geometry&quot;: {&quot;coordinates&quot;: [-117.59409437536515, 47.65089299950516], &quot;type&quot;: &quot;Point&quot;}, &quot;id&quot;: &quot;254&quot;, &quot;properties&quot;: {&quot;Class&quot;: &quot;1&quot;, &quot;Confidence&quot;: 76.9138455391, &quot;Shape_Area&quot;: 160.550065219, &quot;Shape_Leng&quot;: 50.7251305953}, &quot;type&quot;: &quot;Feature&quot;}, {&quot;bbox&quot;: [-117.59486761447535, 47.65108241855466, -117.59486761447535, 47.65108241855466], &quot;geometry&quot;: {&quot;coordinates&quot;: [-117.59486761447535, 47.65108241855466], &quot;type&quot;: &quot;Point&quot;}, &quot;id&quot;: &quot;255&quot;, &quot;properties&quot;: {&quot;Class&quot;: &quot;1&quot;, &quot;Confidence&quot;: 33.0201894045, &quot;Shape_Area&quot;: 293.533557594, &quot;Shape_Leng&quot;: 70.0489568114}, &quot;type&quot;: &quot;Feature&quot;}, {&quot;bbox&quot;: [-117.60011930391515, 47.65027889107155, -117.60011930391515, 47.65027889107155], &quot;geometry&quot;: {&quot;coordinates&quot;: [-117.60011930391515, 47.65027889107155], &quot;type&quot;: &quot;Point&quot;}, &quot;id&quot;: &quot;256&quot;, &quot;properties&quot;: {&quot;Class&quot;: &quot;1&quot;, &quot;Confidence&quot;: 95.2910125256, &quot;Shape_Area&quot;: 2351.23746513, &quot;Shape_Leng&quot;: 216.881569851}, &quot;type&quot;: &quot;Feature&quot;}, {&quot;bbox&quot;: [-117.5998515267046, 47.65028779757665, -117.5998515267046, 47.65028779757665], &quot;geometry&quot;: {&quot;coordinates&quot;: [-117.5998515267046, 47.65028779757665], &quot;type&quot;: &quot;Point&quot;}, &quot;id&quot;: &quot;257&quot;, &quot;properties&quot;: {&quot;Class&quot;: &quot;1&quot;, &quot;Confidence&quot;: 23.6333936453, &quot;Shape_Area&quot;: 483.371091718, &quot;Shape_Leng&quot;: 89.4087120295}, &quot;type&quot;: &quot;Feature&quot;}, {&quot;bbox&quot;: [-117.60037696210489, 47.6502789324426, -117.60037696210489, 47.6502789324426], &quot;geometry&quot;: {&quot;coordinates&quot;: [-117.60037696210489, 47.6502789324426], &quot;type&quot;: &quot;Point&quot;}, &quot;id&quot;: &quot;258&quot;, &quot;properties&quot;: {&quot;Class&quot;: &quot;1&quot;, &quot;Confidence&quot;: 22.5359559059, &quot;Shape_Area&quot;: 505.982852913, &quot;Shape_Leng&quot;: 91.1616291665}, &quot;type&quot;: &quot;Feature&quot;}, {&quot;bbox&quot;: [-117.59808811814973, 47.650222661613995, -117.59808811814973, 47.650222661613995], &quot;geometry&quot;: {&quot;coordinates&quot;: [-117.59808811814973, 47.650222661613995], &quot;type&quot;: &quot;Point&quot;}, &quot;id&quot;: &quot;259&quot;, &quot;properties&quot;: {&quot;Class&quot;: &quot;1&quot;, &quot;Confidence&quot;: 97.8381097317, &quot;Shape_Area&quot;: 1147.66860089, &quot;Shape_Leng&quot;: 164.149754412}, &quot;type&quot;: &quot;Feature&quot;}, {&quot;bbox&quot;: [-117.59809634625891, 47.65034381213922, -117.59809634625891, 47.65034381213922], &quot;geometry&quot;: {&quot;coordinates&quot;: [-117.59809634625891, 47.65034381213922], &quot;type&quot;: &quot;Point&quot;}, &quot;id&quot;: &quot;260&quot;, &quot;properties&quot;: {&quot;Class&quot;: &quot;1&quot;, &quot;Confidence&quot;: 85.5776846409, &quot;Shape_Area&quot;: 478.209334314, &quot;Shape_Leng&quot;: 120.737011712}, &quot;type&quot;: &quot;Feature&quot;}, {&quot;bbox&quot;: [-117.5967253328801, 47.65034590228286, -117.5967253328801, 47.65034590228286], &quot;geometry&quot;: {&quot;coordinates&quot;: [-117.5967253328801, 47.65034590228286], &quot;type&quot;: &quot;Point&quot;}, &quot;id&quot;: &quot;261&quot;, &quot;properties&quot;: {&quot;Class&quot;: &quot;1&quot;, &quot;Confidence&quot;: 95.8810567856, &quot;Shape_Area&quot;: 643.420449047, &quot;Shape_Leng&quot;: 102.281407468}, &quot;type&quot;: &quot;Feature&quot;}, {&quot;bbox&quot;: [-117.59787956194596, 47.650229513326806, -117.59787956194596, 47.650229513326806], &quot;geometry&quot;: {&quot;coordinates&quot;: [-117.59787956194596, 47.650229513326806], &quot;type&quot;: &quot;Point&quot;}, &quot;id&quot;: &quot;262&quot;, &quot;properties&quot;: {&quot;Class&quot;: &quot;1&quot;, &quot;Confidence&quot;: 50.009149313, &quot;Shape_Area&quot;: 377.148738874, &quot;Shape_Leng&quot;: 78.1137266569}, &quot;type&quot;: &quot;Feature&quot;}, {&quot;bbox&quot;: [-117.59642401036433, 47.650234723316224, -117.59642401036433, 47.650234723316224], &quot;geometry&quot;: {&quot;coordinates&quot;: [-117.59642401036433, 47.650234723316224], &quot;type&quot;: &quot;Point&quot;}, &quot;id&quot;: &quot;263&quot;, &quot;properties&quot;: {&quot;Class&quot;: &quot;1&quot;, &quot;Confidence&quot;: 98.5175192356, &quot;Shape_Area&quot;: 629.539408099, &quot;Shape_Leng&quot;: 100.421976991}, &quot;type&quot;: &quot;Feature&quot;}, {&quot;bbox&quot;: [-117.59608317072657, 47.65027458620236, -117.59608317072657, 47.65027458620236], &quot;geometry&quot;: {&quot;coordinates&quot;: [-117.59608317072657, 47.65027458620236], &quot;type&quot;: &quot;Point&quot;}, &quot;id&quot;: &quot;264&quot;, &quot;properties&quot;: {&quot;Class&quot;: &quot;1&quot;, &quot;Confidence&quot;: 97.9039371014, &quot;Shape_Area&quot;: 871.108949723, &quot;Shape_Leng&quot;: 118.10456977}, &quot;type&quot;: &quot;Feature&quot;}, {&quot;bbox&quot;: [-117.5943023088498, 47.65022832045329, -117.5943023088498, 47.65022832045329], &quot;geometry&quot;: {&quot;coordinates&quot;: [-117.5943023088498, 47.65022832045329], &quot;type&quot;: &quot;Point&quot;}, &quot;id&quot;: &quot;265&quot;, &quot;properties&quot;: {&quot;Class&quot;: &quot;1&quot;, &quot;Confidence&quot;: 99.7875928879, &quot;Shape_Area&quot;: 601.41362836, &quot;Shape_Leng&quot;: 99.5538845845}, &quot;type&quot;: &quot;Feature&quot;}, {&quot;bbox&quot;: [-117.59385269113027, 47.65021236993617, -117.59385269113027, 47.65021236993617], &quot;geometry&quot;: {&quot;coordinates&quot;: [-117.59385269113027, 47.65021236993617], &quot;type&quot;: &quot;Point&quot;}, &quot;id&quot;: &quot;266&quot;, &quot;properties&quot;: {&quot;Class&quot;: &quot;1&quot;, &quot;Confidence&quot;: 73.7980365753, &quot;Shape_Area&quot;: 476.532518089, &quot;Shape_Leng&quot;: 92.2274360396}, &quot;type&quot;: &quot;Feature&quot;}, {&quot;bbox&quot;: [-117.59377431463741, 47.65025128385461, -117.59377431463741, 47.65025128385461], &quot;geometry&quot;: {&quot;coordinates&quot;: [-117.59377431463741, 47.65025128385461], &quot;type&quot;: &quot;Point&quot;}, &quot;id&quot;: &quot;267&quot;, &quot;properties&quot;: {&quot;Class&quot;: &quot;1&quot;, &quot;Confidence&quot;: 84.8502576351, &quot;Shape_Area&quot;: 1632.98292483, &quot;Shape_Leng&quot;: 164.656781767}, &quot;type&quot;: &quot;Feature&quot;}, {&quot;bbox&quot;: [-117.59368129000505, 47.65030113445705, -117.59368129000505, 47.65030113445705], &quot;geometry&quot;: {&quot;coordinates&quot;: [-117.59368129000505, 47.65030113445705], &quot;type&quot;: &quot;Point&quot;}, &quot;id&quot;: &quot;268&quot;, &quot;properties&quot;: {&quot;Class&quot;: &quot;1&quot;, &quot;Confidence&quot;: 58.1515550613, &quot;Shape_Area&quot;: 182.307252572, &quot;Shape_Leng&quot;: 55.7347113267}, &quot;type&quot;: &quot;Feature&quot;}], &quot;type&quot;: &quot;FeatureCollection&quot;});\n",
       "\n",
       "        \n",
       "    \n",
       "    geo_json_10af3901104c7829e4108c17f6488302.bindTooltip(\n",
       "    function(layer){\n",
       "    let div = L.DomUtil.create(&#x27;div&#x27;);\n",
       "    \n",
       "    let handleObject = feature=&gt;typeof(feature)==&#x27;object&#x27; ? JSON.stringify(feature) : feature;\n",
       "    let fields = [&quot;Class&quot;, &quot;Confidence&quot;, &quot;Shape_Leng&quot;, &quot;Shape_Area&quot;];\n",
       "    let aliases = [&quot;Class&quot;, &quot;Confidence&quot;, &quot;Shape_Leng&quot;, &quot;Shape_Area&quot;];\n",
       "    let table = &#x27;&lt;table&gt;&#x27; +\n",
       "        String(\n",
       "        fields.map(\n",
       "        (v,i)=&gt;\n",
       "        `&lt;tr&gt;\n",
       "            &lt;th&gt;${aliases[i]}&lt;/th&gt;\n",
       "            \n",
       "            &lt;td&gt;${handleObject(layer.feature.properties[v])}&lt;/td&gt;\n",
       "        &lt;/tr&gt;`).join(&#x27;&#x27;))\n",
       "    +&#x27;&lt;/table&gt;&#x27;;\n",
       "    div.innerHTML=table;\n",
       "    \n",
       "    return div\n",
       "    }\n",
       "    ,{\n",
       "  &quot;sticky&quot;: true,\n",
       "  &quot;className&quot;: &quot;foliumtooltip&quot;,\n",
       "});\n",
       "                     \n",
       "    \n",
       "            geo_json_10af3901104c7829e4108c17f6488302.addTo(map_6431afd5bd1474d6a3ee8e39d3383c68);\n",
       "        \n",
       "&lt;/script&gt;\n",
       "&lt;/html&gt;\" style=\"position:absolute;width:100%;height:100%;left:0;top:0;border:none !important;\" allowfullscreen webkitallowfullscreen mozallowfullscreen></iframe></div></div>"
      ],
      "text/plain": [
       "<folium.folium.Map at 0x20be6252510>"
      ]
     },
     "execution_count": 6,
     "metadata": {},
     "output_type": "execute_result"
    }
   ],
   "source": [
    "gdf.explore()"
   ]
  },
  {
   "cell_type": "code",
   "execution_count": 7,
   "id": "65ed3383",
   "metadata": {},
   "outputs": [
    {
     "data": {
      "text/html": [
       "<div>\n",
       "<style scoped>\n",
       "    .dataframe tbody tr th:only-of-type {\n",
       "        vertical-align: middle;\n",
       "    }\n",
       "\n",
       "    .dataframe tbody tr th {\n",
       "        vertical-align: top;\n",
       "    }\n",
       "\n",
       "    .dataframe thead th {\n",
       "        text-align: right;\n",
       "    }\n",
       "</style>\n",
       "<table border=\"1\" class=\"dataframe\">\n",
       "  <thead>\n",
       "    <tr style=\"text-align: right;\">\n",
       "      <th></th>\n",
       "      <th>Class</th>\n",
       "      <th>Confidence</th>\n",
       "      <th>Shape_Leng</th>\n",
       "      <th>Shape_Area</th>\n",
       "      <th>geometry</th>\n",
       "    </tr>\n",
       "  </thead>\n",
       "  <tbody>\n",
       "    <tr>\n",
       "      <th>0</th>\n",
       "      <td>1</td>\n",
       "      <td>28.905460</td>\n",
       "      <td>68.457069</td>\n",
       "      <td>292.568026</td>\n",
       "      <td>POINT (-117.60109 47.65499)</td>\n",
       "    </tr>\n",
       "    <tr>\n",
       "      <th>1</th>\n",
       "      <td>1</td>\n",
       "      <td>99.420196</td>\n",
       "      <td>97.152785</td>\n",
       "      <td>556.702899</td>\n",
       "      <td>POINT (-117.59953 47.65533)</td>\n",
       "    </tr>\n",
       "    <tr>\n",
       "      <th>2</th>\n",
       "      <td>1</td>\n",
       "      <td>95.450807</td>\n",
       "      <td>90.916993</td>\n",
       "      <td>492.940128</td>\n",
       "      <td>POINT (-117.59991 47.65514)</td>\n",
       "    </tr>\n",
       "    <tr>\n",
       "      <th>3</th>\n",
       "      <td>1</td>\n",
       "      <td>91.446453</td>\n",
       "      <td>85.645123</td>\n",
       "      <td>453.842109</td>\n",
       "      <td>POINT (-117.59953 47.65575)</td>\n",
       "    </tr>\n",
       "    <tr>\n",
       "      <th>4</th>\n",
       "      <td>1</td>\n",
       "      <td>90.172392</td>\n",
       "      <td>78.057638</td>\n",
       "      <td>380.403649</td>\n",
       "      <td>POINT (-117.59989 47.65534)</td>\n",
       "    </tr>\n",
       "  </tbody>\n",
       "</table>\n",
       "</div>"
      ],
      "text/plain": [
       "  Class  Confidence  Shape_Leng  Shape_Area                     geometry\n",
       "0     1   28.905460   68.457069  292.568026  POINT (-117.60109 47.65499)\n",
       "1     1   99.420196   97.152785  556.702899  POINT (-117.59953 47.65533)\n",
       "2     1   95.450807   90.916993  492.940128  POINT (-117.59991 47.65514)\n",
       "3     1   91.446453   85.645123  453.842109  POINT (-117.59953 47.65575)\n",
       "4     1   90.172392   78.057638  380.403649  POINT (-117.59989 47.65534)"
      ]
     },
     "execution_count": 7,
     "metadata": {},
     "output_type": "execute_result"
    }
   ],
   "source": [
    "gdf.head()"
   ]
  },
  {
   "cell_type": "code",
   "execution_count": 8,
   "id": "c6c7dafe",
   "metadata": {},
   "outputs": [],
   "source": [
    "gdf['longitude'] = gdf['geometry'].x\n",
    "gdf['latitude'] = gdf['geometry'].y"
   ]
  },
  {
   "cell_type": "code",
   "execution_count": 9,
   "id": "343e488d",
   "metadata": {},
   "outputs": [
    {
     "data": {
      "text/html": [
       "<div>\n",
       "<style scoped>\n",
       "    .dataframe tbody tr th:only-of-type {\n",
       "        vertical-align: middle;\n",
       "    }\n",
       "\n",
       "    .dataframe tbody tr th {\n",
       "        vertical-align: top;\n",
       "    }\n",
       "\n",
       "    .dataframe thead th {\n",
       "        text-align: right;\n",
       "    }\n",
       "</style>\n",
       "<table border=\"1\" class=\"dataframe\">\n",
       "  <thead>\n",
       "    <tr style=\"text-align: right;\">\n",
       "      <th></th>\n",
       "      <th>Class</th>\n",
       "      <th>Confidence</th>\n",
       "      <th>Shape_Leng</th>\n",
       "      <th>Shape_Area</th>\n",
       "      <th>geometry</th>\n",
       "      <th>longitude</th>\n",
       "      <th>latitude</th>\n",
       "    </tr>\n",
       "  </thead>\n",
       "  <tbody>\n",
       "    <tr>\n",
       "      <th>0</th>\n",
       "      <td>1</td>\n",
       "      <td>28.905460</td>\n",
       "      <td>68.457069</td>\n",
       "      <td>292.568026</td>\n",
       "      <td>POINT (-117.60109 47.65499)</td>\n",
       "      <td>-117.601092</td>\n",
       "      <td>47.654993</td>\n",
       "    </tr>\n",
       "    <tr>\n",
       "      <th>1</th>\n",
       "      <td>1</td>\n",
       "      <td>99.420196</td>\n",
       "      <td>97.152785</td>\n",
       "      <td>556.702899</td>\n",
       "      <td>POINT (-117.59953 47.65533)</td>\n",
       "      <td>-117.599525</td>\n",
       "      <td>47.655326</td>\n",
       "    </tr>\n",
       "    <tr>\n",
       "      <th>2</th>\n",
       "      <td>1</td>\n",
       "      <td>95.450807</td>\n",
       "      <td>90.916993</td>\n",
       "      <td>492.940128</td>\n",
       "      <td>POINT (-117.59991 47.65514)</td>\n",
       "      <td>-117.599910</td>\n",
       "      <td>47.655143</td>\n",
       "    </tr>\n",
       "    <tr>\n",
       "      <th>3</th>\n",
       "      <td>1</td>\n",
       "      <td>91.446453</td>\n",
       "      <td>85.645123</td>\n",
       "      <td>453.842109</td>\n",
       "      <td>POINT (-117.59953 47.65575)</td>\n",
       "      <td>-117.599532</td>\n",
       "      <td>47.655747</td>\n",
       "    </tr>\n",
       "    <tr>\n",
       "      <th>4</th>\n",
       "      <td>1</td>\n",
       "      <td>90.172392</td>\n",
       "      <td>78.057638</td>\n",
       "      <td>380.403649</td>\n",
       "      <td>POINT (-117.59989 47.65534)</td>\n",
       "      <td>-117.599892</td>\n",
       "      <td>47.655336</td>\n",
       "    </tr>\n",
       "  </tbody>\n",
       "</table>\n",
       "</div>"
      ],
      "text/plain": [
       "  Class  Confidence  Shape_Leng  Shape_Area                     geometry  \\\n",
       "0     1   28.905460   68.457069  292.568026  POINT (-117.60109 47.65499)   \n",
       "1     1   99.420196   97.152785  556.702899  POINT (-117.59953 47.65533)   \n",
       "2     1   95.450807   90.916993  492.940128  POINT (-117.59991 47.65514)   \n",
       "3     1   91.446453   85.645123  453.842109  POINT (-117.59953 47.65575)   \n",
       "4     1   90.172392   78.057638  380.403649  POINT (-117.59989 47.65534)   \n",
       "\n",
       "    longitude   latitude  \n",
       "0 -117.601092  47.654993  \n",
       "1 -117.599525  47.655326  \n",
       "2 -117.599910  47.655143  \n",
       "3 -117.599532  47.655747  \n",
       "4 -117.599892  47.655336  "
      ]
     },
     "execution_count": 9,
     "metadata": {},
     "output_type": "execute_result"
    }
   ],
   "source": [
    "gdf.head()"
   ]
  },
  {
   "cell_type": "code",
   "execution_count": 10,
   "id": "701296c5",
   "metadata": {},
   "outputs": [
    {
     "data": {
      "application/vnd.jupyter.widget-view+json": {
       "model_id": "6fe17be6e68342fd9a2b4a556090c253",
       "version_major": 2,
       "version_minor": 0
      },
      "text/plain": [
       "Map(center=[20, 0], controls=(ZoomControl(options=['position', 'zoom_in_text', 'zoom_in_title', 'zoom_out_text…"
      ]
     },
     "execution_count": 10,
     "metadata": {},
     "output_type": "execute_result"
    }
   ],
   "source": [
    "m = leafmap.Map(draw_control=False, search_control=True, zoom=2)\n",
    "layer = m.add_circle_markers_from_xy(\n",
    "    gdf,\n",
    "    x=\"longitude\",\n",
    "    y=\"latitude\",\n",
    "    radius=5,\n",
    "    color=\"red\",\n",
    "    fill_color=\"yellow\",\n",
    "    fill_opacity=0.8,\n",
    "    layer_name=\"Building Centroids\",\n",
    "    zoom=15,\n",
    ")\n",
    "\n",
    "m.zoom_to_bounds(gdf.total_bounds)\n",
    "m"
   ]
  },
  {
   "cell_type": "markdown",
   "id": "0158a1e9",
   "metadata": {},
   "source": [
    "## Question 4: Visualizing Vector Data\n",
    "1. Visualize the building polygons GeoJSON file and style it with:\n",
    " - Outline color: “red”\n",
    " - No fill color\n",
    " - URL: [opengeos/datasets](https://github.com/opengeos/datasets/releases/download/places/wa_overture_buildings.geojson)\n",
    "\n",
    "2. Visualize the road polylines GeoJSON file and style it with:\n",
    " - Line color: “red”\n",
    " - Line width: 2\n",
    " - URL: [opengeos/datasets](https://github.com/opengeos/datasets/releases/download/places/las_vegas_roads.geojson)\n",
    "\n",
    "3. Create a choropleth map of county areas in the US:\n",
    " - URL: [opengeos/datasets](https://github.com/opengeos/datasets/releases/download/us/us_counties.geojson)\n",
    " - Column: `CENSUSAREA`"
   ]
  },
  {
   "cell_type": "code",
   "execution_count": 11,
   "id": "a6a5fbd4",
   "metadata": {},
   "outputs": [
    {
     "data": {
      "application/vnd.jupyter.widget-view+json": {
       "model_id": "d75e73ce30c14750b31f02bc5b88d1c4",
       "version_major": 2,
       "version_minor": 0
      },
      "text/plain": [
       "Map(center=[20, 0], controls=(ZoomControl(options=['position', 'zoom_in_text', 'zoom_in_title', 'zoom_out_text…"
      ]
     },
     "execution_count": 11,
     "metadata": {},
     "output_type": "execute_result"
    }
   ],
   "source": [
    "m = leafmap.Map(basemap=\"Google Satellite\")\n",
    "url = \"https://github.com/opengeos/datasets/releases/download/places/wa_overture_buildings.geojson\"\n",
    "m.add_vector(url, layer_name=\"Overture Buildings\", style={\"color\": \"red\", \"fill_color\": \"none\"}, zoom_to_layer=True)\n",
    "m"
   ]
  },
  {
   "cell_type": "code",
   "execution_count": 12,
   "id": "7336e1a0",
   "metadata": {},
   "outputs": [
    {
     "data": {
      "application/vnd.jupyter.widget-view+json": {
       "model_id": "3e5535c0f52e4fbaaba9efb9f5918892",
       "version_major": 2,
       "version_minor": 0
      },
      "text/plain": [
       "Map(center=[20, 0], controls=(ZoomControl(options=['position', 'zoom_in_text', 'zoom_in_title', 'zoom_out_text…"
      ]
     },
     "execution_count": 12,
     "metadata": {},
     "output_type": "execute_result"
    }
   ],
   "source": [
    "m = leafmap.Map(basemap=\"Google Satellite\")\n",
    "url = \"https://github.com/opengeos/datasets/releases/download/places/las_vegas_roads.geojson\"\n",
    "m.add_vector(url, layer_name=\"Las Vegas Roads\", style={\"color\": \"red\", \"weight\": 2}, zoom_to_layer=True)\n",
    "m"
   ]
  },
  {
   "cell_type": "code",
   "execution_count": 13,
   "id": "713a8edc",
   "metadata": {},
   "outputs": [
    {
     "data": {
      "application/vnd.jupyter.widget-view+json": {
       "model_id": "a13e616089e14a91bb54e0f123f09903",
       "version_major": 2,
       "version_minor": 0
      },
      "text/plain": [
       "Map(center=[20, 0], controls=(ZoomControl(options=['position', 'zoom_in_text', 'zoom_in_title', 'zoom_out_text…"
      ]
     },
     "execution_count": 13,
     "metadata": {},
     "output_type": "execute_result"
    }
   ],
   "source": [
    "m = leafmap.Map()\n",
    "url = \"https://github.com/opengeos/datasets/releases/download/us/us_counties.geojson\"\n",
    "gdf = gpd.read_file(url)\n",
    "m.add_data(\n",
    "  gdf,\n",
    "  column=\"CENSUSAREA\",\n",
    "  cmap=\"Blues\",\n",
    "  legend_title=\"Census Area\",\n",
    ")\n",
    "\n",
    "m"
   ]
  },
  {
   "cell_type": "markdown",
   "id": "dd15ee8b",
   "metadata": {},
   "source": [
    "## Question 5: Creating a Split Map\n",
    "Create a split map to compare imagery of Libya before and after the 2023 flood event:\n",
    " - Pre-event imagery: [opengeos/datasets](https://github.com/opengeos/datasets/releases/download/raster/Libya-2023-07-01.tif)\n",
    " - Post-event imagery: [opengeos/datasets](https://github.com/opengeos/datasets/releases/download/raster/Libya-2023-09-13.tif)"
   ]
  },
  {
   "cell_type": "code",
   "execution_count": 14,
   "id": "e15c3a64",
   "metadata": {},
   "outputs": [
    {
     "data": {
      "application/vnd.jupyter.widget-view+json": {
       "model_id": "23058ed99e4f4034bae0f369dea36bdd",
       "version_major": 2,
       "version_minor": 0
      },
      "text/plain": [
       "Map(center=[20, 0], controls=(ZoomControl(options=['position', 'zoom_in_text', 'zoom_in_title', 'zoom_out_text…"
      ]
     },
     "execution_count": 14,
     "metadata": {},
     "output_type": "execute_result"
    }
   ],
   "source": [
    "m = leafmap.Map(zoom=2)\n",
    "left_url = 'https://github.com/opengeos/datasets/releases/download/raster/Libya-2023-07-01.tif'\n",
    "right_url = 'https://github.com/opengeos/datasets/releases/download/raster/Libya-2023-09-13.tif'\n",
    "\n",
    "with rasterio.open(left_url) as src:\n",
    "    bounds = src.bounds\n",
    "    src_crs = src.crs\n",
    "\n",
    "new_bounds = transform_bounds(\n",
    "    src_crs, \"EPSG:4326\", *bounds\n",
    ")\n",
    "m.split_map(\n",
    "    left_layer=left_url,\n",
    "    right_layer=right_url,\n",
    "    left_label=\"Before Libya Flood 2023\",\n",
    "    right_label=\"After Libya Flood 2023\",\n",
    ")\n",
    "m.zoom_to_bounds(new_bounds)\n",
    "\n",
    "m\n"
   ]
  },
  {
   "cell_type": "code",
   "execution_count": null,
   "id": "27b1bec7",
   "metadata": {},
   "outputs": [],
   "source": []
  }
 ],
 "metadata": {
  "kernelspec": {
   "display_name": "geo",
   "language": "python",
   "name": "python3"
  },
  "language_info": {
   "codemirror_mode": {
    "name": "ipython",
    "version": 3
   },
   "file_extension": ".py",
   "mimetype": "text/x-python",
   "name": "python",
   "nbconvert_exporter": "python",
   "pygments_lexer": "ipython3",
   "version": "3.12.9"
  }
 },
 "nbformat": 4,
 "nbformat_minor": 5
}
