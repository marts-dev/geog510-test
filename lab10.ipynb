{
 "cells": [
  {
   "cell_type": "markdown",
   "id": "6641bc64",
   "metadata": {},
   "source": [
    "# Lab 10\n",
    "[![Open In Colab](https://colab.research.google.com/assets/colab-badge.svg)](https://colab.research.google.com/github/marts-dev/geog510-test/blob/main/lab10.ipynb)"
   ]
  },
  {
   "cell_type": "code",
   "execution_count": 2,
   "id": "894e8cf7",
   "metadata": {},
   "outputs": [
    {
     "data": {
      "text/html": [
       "\n",
       "            <style>\n",
       "                .geemap-dark {\n",
       "                    --jp-widgets-color: white;\n",
       "                    --jp-widgets-label-color: white;\n",
       "                    --jp-ui-font-color1: white;\n",
       "                    --jp-layout-color2: #454545;\n",
       "                    background-color: #383838;\n",
       "                }\n",
       "\n",
       "                .geemap-dark .jupyter-button {\n",
       "                    --jp-layout-color3: #383838;\n",
       "                }\n",
       "\n",
       "                .geemap-colab {\n",
       "                    background-color: var(--colab-primary-surface-color, white);\n",
       "                }\n",
       "\n",
       "                .geemap-colab .jupyter-button {\n",
       "                    --jp-layout-color3: var(--colab-primary-surface-color, white);\n",
       "                }\n",
       "            </style>\n",
       "            "
      ],
      "text/plain": [
       "<IPython.core.display.HTML object>"
      ]
     },
     "metadata": {},
     "output_type": "display_data"
    }
   ],
   "source": [
    "import ee\n",
    "import geemap"
   ]
  },
  {
   "cell_type": "code",
   "execution_count": 3,
   "id": "a3549758",
   "metadata": {},
   "outputs": [
    {
     "data": {
      "text/html": [
       "\n",
       "            <style>\n",
       "                .geemap-dark {\n",
       "                    --jp-widgets-color: white;\n",
       "                    --jp-widgets-label-color: white;\n",
       "                    --jp-ui-font-color1: white;\n",
       "                    --jp-layout-color2: #454545;\n",
       "                    background-color: #383838;\n",
       "                }\n",
       "\n",
       "                .geemap-dark .jupyter-button {\n",
       "                    --jp-layout-color3: #383838;\n",
       "                }\n",
       "\n",
       "                .geemap-colab {\n",
       "                    background-color: var(--colab-primary-surface-color, white);\n",
       "                }\n",
       "\n",
       "                .geemap-colab .jupyter-button {\n",
       "                    --jp-layout-color3: var(--colab-primary-surface-color, white);\n",
       "                }\n",
       "            </style>\n",
       "            "
      ],
      "text/plain": [
       "<IPython.core.display.HTML object>"
      ]
     },
     "metadata": {},
     "output_type": "display_data"
    },
    {
     "data": {
      "text/html": [
       "<p>To authorize access needed by Earth Engine, open the following\n",
       "        URL in a web browser and follow the instructions:</p>\n",
       "        <p><a href=https://code.earthengine.google.com/client-auth?scopes=https%3A//www.googleapis.com/auth/earthengine%20https%3A//www.googleapis.com/auth/cloud-platform%20https%3A//www.googleapis.com/auth/drive%20https%3A//www.googleapis.com/auth/devstorage.full_control&request_id=s6lQabRbBk9r9HCDRCVaWXcfRzgRpZb-XWm47ZP87B8&tc=_pDm_CwHMnJMKn87Kz_wlrttBqPOx5OC0cjGG8twtqQ&cc=g_xBmJNK-irfQTTIjWx1T1vHheLixL72BMK3Li8KnXU>https://code.earthengine.google.com/client-auth?scopes=https%3A//www.googleapis.com/auth/earthengine%20https%3A//www.googleapis.com/auth/cloud-platform%20https%3A//www.googleapis.com/auth/drive%20https%3A//www.googleapis.com/auth/devstorage.full_control&request_id=s6lQabRbBk9r9HCDRCVaWXcfRzgRpZb-XWm47ZP87B8&tc=_pDm_CwHMnJMKn87Kz_wlrttBqPOx5OC0cjGG8twtqQ&cc=g_xBmJNK-irfQTTIjWx1T1vHheLixL72BMK3Li8KnXU</a></p>\n",
       "        <p>The authorization workflow will generate a code, which you should paste in the box below.</p>\n",
       "        "
      ],
      "text/plain": [
       "<IPython.core.display.HTML object>"
      ]
     },
     "metadata": {},
     "output_type": "display_data"
    },
    {
     "name": "stdout",
     "output_type": "stream",
     "text": [
      "\n",
      "Successfully saved authorization token.\n"
     ]
    }
   ],
   "source": [
    "geemap.ee_initialize()"
   ]
  },
  {
   "cell_type": "markdown",
   "id": "b09cc3bf",
   "metadata": {},
   "source": [
    "## Exercise 1: Visualizing DEM Data\n",
    "Find a DEM dataset in the [Earth Engine Data Catalog](https://developers.google.com/earth-engine/datasets) and clip it to a specific area (e.g., your country, state, or city). Display it with an appropriate color palette. For example, the sample map below shows the DEM of the state of Colorado."
   ]
  },
  {
   "cell_type": "markdown",
   "id": "27e79636",
   "metadata": {},
   "source": [
    "### If you want to clip before adding the layer"
   ]
  },
  {
   "cell_type": "code",
   "execution_count": null,
   "id": "1344b9e6",
   "metadata": {},
   "outputs": [
    {
     "data": {
      "text/html": [
       "\n",
       "            <style>\n",
       "                .geemap-dark {\n",
       "                    --jp-widgets-color: white;\n",
       "                    --jp-widgets-label-color: white;\n",
       "                    --jp-ui-font-color1: white;\n",
       "                    --jp-layout-color2: #454545;\n",
       "                    background-color: #383838;\n",
       "                }\n",
       "\n",
       "                .geemap-dark .jupyter-button {\n",
       "                    --jp-layout-color3: #383838;\n",
       "                }\n",
       "\n",
       "                .geemap-colab {\n",
       "                    background-color: var(--colab-primary-surface-color, white);\n",
       "                }\n",
       "\n",
       "                .geemap-colab .jupyter-button {\n",
       "                    --jp-layout-color3: var(--colab-primary-surface-color, white);\n",
       "                }\n",
       "            </style>\n",
       "            "
      ],
      "text/plain": [
       "<IPython.core.display.HTML object>"
      ]
     },
     "metadata": {},
     "output_type": "display_data"
    },
    {
     "data": {
      "application/vnd.jupyter.widget-view+json": {
       "model_id": "26686e276f604bb897119f141810cc90",
       "version_major": 2,
       "version_minor": 0
      },
      "text/plain": [
       "Map(center=[11.861980446390639, 122.26673950000003], controls=(WidgetControl(options=['position', 'transparent…"
      ]
     },
     "execution_count": 46,
     "metadata": {},
     "output_type": "execute_result"
    }
   ],
   "source": [
    "# This represents the Area of Interest\n",
    "aoi = ee.Geometry.Rectangle([116.47314, 4.747796, 128.060339, 18.985783])\n",
    "\n",
    "m = geemap.Map(zoom=8)\n",
    "dataset = ee.Image('NASA/NASADEM_HGT/001').clip(aoi)\n",
    "m.centerObject(aoi, zoom=5)\n",
    "elevation = dataset.select('elevation')\n",
    "vis_params = {'min': 0, 'max': 5000, 'palette': 'terrain'}\n",
    "# Set elevation <= 0 as transparent then add it to the map.\n",
    "m.add_layer(elevation.updateMask(elevation.gt(0)), vis_params, 'Elevation')\n",
    "\n",
    "m"
   ]
  },
  {
   "cell_type": "markdown",
   "id": "ba527e4b",
   "metadata": {},
   "source": [
    "## If you would like to create a clip based on rectangle drawn on the map\n",
    "Using the drawing tool in the left side, create the bounds you would like to focus on.\n",
    "After that, execute the code below."
   ]
  },
  {
   "cell_type": "code",
   "execution_count": null,
   "id": "f91f7d3f",
   "metadata": {},
   "outputs": [
    {
     "data": {
      "text/html": [
       "\n",
       "            <style>\n",
       "                .geemap-dark {\n",
       "                    --jp-widgets-color: white;\n",
       "                    --jp-widgets-label-color: white;\n",
       "                    --jp-ui-font-color1: white;\n",
       "                    --jp-layout-color2: #454545;\n",
       "                    background-color: #383838;\n",
       "                }\n",
       "\n",
       "                .geemap-dark .jupyter-button {\n",
       "                    --jp-layout-color3: #383838;\n",
       "                }\n",
       "\n",
       "                .geemap-colab {\n",
       "                    background-color: var(--colab-primary-surface-color, white);\n",
       "                }\n",
       "\n",
       "                .geemap-colab .jupyter-button {\n",
       "                    --jp-layout-color3: var(--colab-primary-surface-color, white);\n",
       "                }\n",
       "            </style>\n",
       "            "
      ],
      "text/plain": [
       "<IPython.core.display.HTML object>"
      ]
     },
     "metadata": {},
     "output_type": "display_data"
    }
   ],
   "source": [
    "if m.user_roi is not None:\n",
    "  image = dataset.clip(m.user_roi).select('elevation')\n",
    "  m.centerObject(m.user_roi, zoom=8)\n",
    "  m.layers[1].visible = False\n",
    "  m.add_layer(image.updateMask(image.gt(0)), vis_params, \"Clipped DEM\")"
   ]
  },
  {
   "cell_type": "markdown",
   "id": "227abe64",
   "metadata": {},
   "source": [
    "## Exercise 2: Cloud-Free Composite with Sentinel-2 or Landsat"
   ]
  },
  {
   "cell_type": "code",
   "execution_count": 51,
   "id": "c7b2170e",
   "metadata": {},
   "outputs": [
    {
     "data": {
      "text/html": [
       "\n",
       "            <style>\n",
       "                .geemap-dark {\n",
       "                    --jp-widgets-color: white;\n",
       "                    --jp-widgets-label-color: white;\n",
       "                    --jp-ui-font-color1: white;\n",
       "                    --jp-layout-color2: #454545;\n",
       "                    background-color: #383838;\n",
       "                }\n",
       "\n",
       "                .geemap-dark .jupyter-button {\n",
       "                    --jp-layout-color3: #383838;\n",
       "                }\n",
       "\n",
       "                .geemap-colab {\n",
       "                    background-color: var(--colab-primary-surface-color, white);\n",
       "                }\n",
       "\n",
       "                .geemap-colab .jupyter-button {\n",
       "                    --jp-layout-color3: var(--colab-primary-surface-color, white);\n",
       "                }\n",
       "            </style>\n",
       "            "
      ],
      "text/plain": [
       "<IPython.core.display.HTML object>"
      ]
     },
     "metadata": {},
     "output_type": "display_data"
    },
    {
     "data": {
      "application/vnd.jupyter.widget-view+json": {
       "model_id": "98e1974c101043ba922549a5d0ba699b",
       "version_major": 2,
       "version_minor": 0
      },
      "text/plain": [
       "Map(center=[11.861980446390639, 122.26673950000003], controls=(WidgetControl(options=['position', 'transparent…"
      ]
     },
     "execution_count": 51,
     "metadata": {},
     "output_type": "execute_result"
    }
   ],
   "source": [
    "# This represents the Area of Interest\n",
    "aoi = ee.Geometry.Rectangle([116.47314, 4.747796, 128.060339, 18.985783])\n",
    "\n",
    "def mask_s2_clouds(image):\n",
    "  \"\"\"Masks clouds in a Sentinel-2 image using the QA band.\n",
    "\n",
    "  Args:\n",
    "      image (ee.Image): A Sentinel-2 image.\n",
    "\n",
    "  Returns:\n",
    "      ee.Image: A cloud-masked Sentinel-2 image.\n",
    "  \"\"\"\n",
    "  qa = image.select('QA60')\n",
    "\n",
    "  # Bits 10 and 11 are clouds and cirrus, respectively.\n",
    "  cloud_bit_mask = 1 << 10\n",
    "  cirrus_bit_mask = 1 << 11\n",
    "\n",
    "  # Both flags should be set to zero, indicating clear conditions.\n",
    "  mask = (\n",
    "      qa.bitwiseAnd(cloud_bit_mask)\n",
    "      .eq(0)\n",
    "      .And(qa.bitwiseAnd(cirrus_bit_mask).eq(0))\n",
    "  )\n",
    "\n",
    "  return image.updateMask(mask).divide(10000)\n",
    "\n",
    "\n",
    "dataset = (\n",
    "  ee.ImageCollection('COPERNICUS/S2_SR_HARMONIZED')\n",
    "  .filterBounds(aoi)\n",
    "  .filterDate('2023-01-01', '2025-01-30')\n",
    "  # Pre-filter to get less cloudy granules.\n",
    "  .filter(ee.Filter.lt('CLOUDY_PIXEL_PERCENTAGE', 20))\n",
    "  .map(mask_s2_clouds)\n",
    ")\n",
    "\n",
    "visualization = {\n",
    "  'min': 0.0,\n",
    "  'max': 0.3,\n",
    "  'bands': ['B4', 'B3', 'B2'],\n",
    "}\n",
    "m = geemap.Map()\n",
    "m.centerObject(aoi, zoom=5)\n",
    "m.addLayer(dataset.median(), visualization, 'RGB')\n",
    "m"
   ]
  },
  {
   "cell_type": "markdown",
   "id": "68cbc2d2",
   "metadata": {},
   "source": [
    "## Exercise 3: Visualizing NAIP Imagery\n",
    "Use [NAIP imagery](https://developers.google.com/earth-engine/datasets/catalog/USDA_NAIP_DOQQ) to create a cloud-free imagery for a U.S. county of your choice. For example, the sample map below shows a cloud-free true-color composite of NAIP imagery for Knox County, Tennessee. Keep in mind that there might be some counties with the same name in different states, so make sure to select the correct county for the selected state."
   ]
  },
  {
   "cell_type": "code",
   "execution_count": 84,
   "id": "e4ce53f5",
   "metadata": {},
   "outputs": [
    {
     "data": {
      "text/html": [
       "\n",
       "            <style>\n",
       "                .geemap-dark {\n",
       "                    --jp-widgets-color: white;\n",
       "                    --jp-widgets-label-color: white;\n",
       "                    --jp-ui-font-color1: white;\n",
       "                    --jp-layout-color2: #454545;\n",
       "                    background-color: #383838;\n",
       "                }\n",
       "\n",
       "                .geemap-dark .jupyter-button {\n",
       "                    --jp-layout-color3: #383838;\n",
       "                }\n",
       "\n",
       "                .geemap-colab {\n",
       "                    background-color: var(--colab-primary-surface-color, white);\n",
       "                }\n",
       "\n",
       "                .geemap-colab .jupyter-button {\n",
       "                    --jp-layout-color3: var(--colab-primary-surface-color, white);\n",
       "                }\n",
       "            </style>\n",
       "            "
      ],
      "text/plain": [
       "<IPython.core.display.HTML object>"
      ]
     },
     "metadata": {},
     "output_type": "display_data"
    },
    {
     "data": {
      "application/vnd.jupyter.widget-view+json": {
       "model_id": "3e65124af0a5419287bf46dcdd72acef",
       "version_major": 2,
       "version_minor": 0
      },
      "text/plain": [
       "Map(center=[30.334674542028303, -97.781806607209], controls=(WidgetControl(options=['position', 'transparent_b…"
      ]
     },
     "execution_count": 84,
     "metadata": {},
     "output_type": "execute_result"
    }
   ],
   "source": [
    "counties = ee.FeatureCollection('TIGER/2018/Counties')\n",
    "county = counties.filter(ee.Filter.eq('NAME', 'Travis')).filter(ee.Filter.eq('STATEFP', '48'))\n",
    "\n",
    "dataset = (\n",
    "    ee.ImageCollection('USDA/NAIP/DOQQ')\n",
    "    .filterBounds(county)\n",
    "    .filterDate('2018-01-01', '2018-12-31')\n",
    ")\n",
    "\n",
    "fcir = dataset.select(['N', 'G', 'B'])\n",
    "vis_options = {\n",
    "  'min': 0.0,\n",
    "  'max': 255.0,\n",
    "  'color': 'red',\n",
    "  'fillColor': '00000000',\n",
    "  'width': 2,\n",
    "}\n",
    "## Clip NAIP imagery to the county boundary\n",
    "masked = fcir.mosaic().updateMask(ee.Image.constant(1).clip(county))\n",
    "## Combine the masked imagery with the county outline\n",
    "fcir_blend = masked.blend(county.style(\n",
    "    color='red', fillColor='00000000', width=1\n",
    "))\n",
    "m = geemap.Map()\n",
    "m.centerObject(county, zoom=8)\n",
    "#m.addLayer(masked, vis_options, 'NAIP')\n",
    "#m.addLayer(county.style(color='red', fillColor='00000000',width=2), {}, 'County Outline')\n",
    "m.addLayer(fcir_blend, {}, 'NAIP with County Outline')\n",
    "m"
   ]
  },
  {
   "cell_type": "code",
   "execution_count": null,
   "id": "e2bc2bff",
   "metadata": {},
   "outputs": [],
   "source": []
  }
 ],
 "metadata": {
  "kernelspec": {
   "display_name": "geo",
   "language": "python",
   "name": "python3"
  },
  "language_info": {
   "codemirror_mode": {
    "name": "ipython",
    "version": 3
   },
   "file_extension": ".py",
   "mimetype": "text/x-python",
   "name": "python",
   "nbconvert_exporter": "python",
   "pygments_lexer": "ipython3",
   "version": "3.12.9"
  }
 },
 "nbformat": 4,
 "nbformat_minor": 5
}
